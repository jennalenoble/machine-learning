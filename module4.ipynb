{
 "cells": [
  {
   "cell_type": "markdown",
   "id": "21979732-09d2-4fe0-b278-c81725a9dc28",
   "metadata": {},
   "source": [
    "# Module 4: Similarity-Based Approaches to Supervised Learning"
   ]
  },
  {
   "cell_type": "code",
   "execution_count": 12,
   "id": "abd59ed0-f8a2-4fb8-bea1-3dbfd5790b19",
   "metadata": {},
   "outputs": [],
   "source": [
    "import pandas as pd\n",
    "import altair as alt\n",
    "import numpy as np\n",
    "from sklearn.model_selection import train_test_split"
   ]
  },
  {
   "cell_type": "code",
   "execution_count": 2,
   "id": "312ddd6e-0548-4754-9012-b543a5743691",
   "metadata": {},
   "outputs": [
    {
     "data": {
      "text/html": [
       "<div>\n",
       "<style scoped>\n",
       "    .dataframe tbody tr th:only-of-type {\n",
       "        vertical-align: middle;\n",
       "    }\n",
       "\n",
       "    .dataframe tbody tr th {\n",
       "        vertical-align: top;\n",
       "    }\n",
       "\n",
       "    .dataframe thead th {\n",
       "        text-align: right;\n",
       "    }\n",
       "</style>\n",
       "<table border=\"1\" class=\"dataframe\">\n",
       "  <thead>\n",
       "    <tr style=\"text-align: right;\">\n",
       "      <th></th>\n",
       "      <th>longitude</th>\n",
       "      <th>latitude</th>\n",
       "      <th>country</th>\n",
       "    </tr>\n",
       "  </thead>\n",
       "  <tbody>\n",
       "    <tr>\n",
       "      <th>160</th>\n",
       "      <td>-76.4813</td>\n",
       "      <td>44.2307</td>\n",
       "      <td>Canada</td>\n",
       "    </tr>\n",
       "    <tr>\n",
       "      <th>127</th>\n",
       "      <td>-81.2496</td>\n",
       "      <td>42.9837</td>\n",
       "      <td>Canada</td>\n",
       "    </tr>\n",
       "    <tr>\n",
       "      <th>169</th>\n",
       "      <td>-66.0580</td>\n",
       "      <td>45.2788</td>\n",
       "      <td>Canada</td>\n",
       "    </tr>\n",
       "    <tr>\n",
       "      <th>188</th>\n",
       "      <td>-73.2533</td>\n",
       "      <td>45.3057</td>\n",
       "      <td>Canada</td>\n",
       "    </tr>\n",
       "    <tr>\n",
       "      <th>187</th>\n",
       "      <td>-67.9245</td>\n",
       "      <td>47.1652</td>\n",
       "      <td>Canada</td>\n",
       "    </tr>\n",
       "  </tbody>\n",
       "</table>\n",
       "</div>"
      ],
      "text/plain": [
       "     longitude  latitude country\n",
       "160   -76.4813   44.2307  Canada\n",
       "127   -81.2496   42.9837  Canada\n",
       "169   -66.0580   45.2788  Canada\n",
       "188   -73.2533   45.3057  Canada\n",
       "187   -67.9245   47.1652  Canada"
      ]
     },
     "execution_count": 2,
     "metadata": {},
     "output_type": "execute_result"
    }
   ],
   "source": [
    "cities_df = pd.read_csv(\"https://raw.githubusercontent.com/UBC-MDS/DSCI_571_sup-learn-1/master/lectures/data/canada_usa_cities.csv\")\n",
    "train_df, test_df = train_test_split(cities_df, test_size=0.2, random_state=123)\n",
    "train_df.head()"
   ]
  },
  {
   "cell_type": "markdown",
   "id": "1fa1ee59-d240-4cd8-9715-834bb5ad4b01",
   "metadata": {},
   "source": [
    "### Terminology"
   ]
  },
  {
   "cell_type": "markdown",
   "id": "edba6196-d89c-4901-b3e8-3aaac0f47023",
   "metadata": {},
   "source": [
    "Analogy-based models find examples that are most similar to the text example in the training set."
   ]
  },
  {
   "cell_type": "markdown",
   "id": "7f5456f4-b8cc-4586-b9c0-0f1a674a671b",
   "metadata": {},
   "source": [
    "**Dimensions**: number of features\n",
    "\n",
    "* 20: low dimensional\n",
    "* 1000: medium dimensional\n",
    "* 100,000: high dimensional"
   ]
  },
  {
   "cell_type": "markdown",
   "id": "408821fa-60e9-4ea0-8471-8b62e12d8838",
   "metadata": {},
   "source": [
    "**Feature Vectors**: a vector composed of feature values associated with an example."
   ]
  },
  {
   "cell_type": "code",
   "execution_count": 3,
   "id": "2130c8ce-df3f-466c-8b89-173ecaf99e7e",
   "metadata": {},
   "outputs": [
    {
     "data": {
      "text/plain": [
       "array([-76.48,  44.23])"
      ]
     },
     "execution_count": 3,
     "metadata": {},
     "output_type": "execute_result"
    }
   ],
   "source": [
    "train_df.drop(columns=[\"country\"]).iloc[0].round(2).to_numpy()"
   ]
  },
  {
   "cell_type": "markdown",
   "id": "4be81cb0-e72e-4b02-bae4-41728b406fd1",
   "metadata": {},
   "source": [
    "### Distance"
   ]
  },
  {
   "cell_type": "code",
   "execution_count": 6,
   "id": "3299fbae-3a14-4042-92c1-575a75d0eb85",
   "metadata": {},
   "outputs": [
    {
     "data": {
      "text/html": [
       "\n",
       "<style>\n",
       "  #altair-viz-31568d4757a14b3499632de6026f8ade.vega-embed {\n",
       "    width: 100%;\n",
       "    display: flex;\n",
       "  }\n",
       "\n",
       "  #altair-viz-31568d4757a14b3499632de6026f8ade.vega-embed details,\n",
       "  #altair-viz-31568d4757a14b3499632de6026f8ade.vega-embed details summary {\n",
       "    position: relative;\n",
       "  }\n",
       "</style>\n",
       "<div id=\"altair-viz-31568d4757a14b3499632de6026f8ade\"></div>\n",
       "<script type=\"text/javascript\">\n",
       "  var VEGA_DEBUG = (typeof VEGA_DEBUG == \"undefined\") ? {} : VEGA_DEBUG;\n",
       "  (function(spec, embedOpt){\n",
       "    let outputDiv = document.currentScript.previousElementSibling;\n",
       "    if (outputDiv.id !== \"altair-viz-31568d4757a14b3499632de6026f8ade\") {\n",
       "      outputDiv = document.getElementById(\"altair-viz-31568d4757a14b3499632de6026f8ade\");\n",
       "    }\n",
       "    const paths = {\n",
       "      \"vega\": \"https://cdn.jsdelivr.net/npm/vega@5?noext\",\n",
       "      \"vega-lib\": \"https://cdn.jsdelivr.net/npm/vega-lib?noext\",\n",
       "      \"vega-lite\": \"https://cdn.jsdelivr.net/npm/vega-lite@5.8.0?noext\",\n",
       "      \"vega-embed\": \"https://cdn.jsdelivr.net/npm/vega-embed@6?noext\",\n",
       "    };\n",
       "\n",
       "    function maybeLoadScript(lib, version) {\n",
       "      var key = `${lib.replace(\"-\", \"\")}_version`;\n",
       "      return (VEGA_DEBUG[key] == version) ?\n",
       "        Promise.resolve(paths[lib]) :\n",
       "        new Promise(function(resolve, reject) {\n",
       "          var s = document.createElement('script');\n",
       "          document.getElementsByTagName(\"head\")[0].appendChild(s);\n",
       "          s.async = true;\n",
       "          s.onload = () => {\n",
       "            VEGA_DEBUG[key] = version;\n",
       "            return resolve(paths[lib]);\n",
       "          };\n",
       "          s.onerror = () => reject(`Error loading script: ${paths[lib]}`);\n",
       "          s.src = paths[lib];\n",
       "        });\n",
       "    }\n",
       "\n",
       "    function showError(err) {\n",
       "      outputDiv.innerHTML = `<div class=\"error\" style=\"color:red;\">${err}</div>`;\n",
       "      throw err;\n",
       "    }\n",
       "\n",
       "    function displayChart(vegaEmbed) {\n",
       "      vegaEmbed(outputDiv, spec, embedOpt)\n",
       "        .catch(err => showError(`Javascript Error: ${err.message}<br>This usually means there's a typo in your chart specification. See the javascript console for the full traceback.`));\n",
       "    }\n",
       "\n",
       "    if(typeof define === \"function\" && define.amd) {\n",
       "      requirejs.config({paths});\n",
       "      require([\"vega-embed\"], displayChart, err => showError(`Error loading script: ${err.message}`));\n",
       "    } else {\n",
       "      maybeLoadScript(\"vega\", \"5\")\n",
       "        .then(() => maybeLoadScript(\"vega-lite\", \"5.8.0\"))\n",
       "        .then(() => maybeLoadScript(\"vega-embed\", \"6\"))\n",
       "        .catch(showError)\n",
       "        .then(() => displayChart(vegaEmbed));\n",
       "    }\n",
       "  })({\"config\": {\"view\": {\"continuousWidth\": 300, \"continuousHeight\": 300}}, \"data\": {\"name\": \"data-66158384001fb6a73b6445c49f67d5ce\"}, \"mark\": {\"type\": \"circle\", \"opacity\": 0.6, \"size\": 20}, \"encoding\": {\"color\": {\"field\": \"country\", \"scale\": {\"domain\": [\"Canada\", \"USA\"], \"range\": [\"red\", \"blue\"]}, \"type\": \"nominal\"}, \"x\": {\"field\": \"longitude\", \"scale\": {\"domain\": [-140, -40]}, \"type\": \"quantitative\"}, \"y\": {\"field\": \"latitude\", \"scale\": {\"domain\": [20, 60]}, \"type\": \"quantitative\"}}, \"$schema\": \"https://vega.github.io/schema/vega-lite/v5.8.0.json\", \"datasets\": {\"data-66158384001fb6a73b6445c49f67d5ce\": [{\"longitude\": -76.4813, \"latitude\": 44.2307, \"country\": \"Canada\"}, {\"longitude\": -81.2496, \"latitude\": 42.9837, \"country\": \"Canada\"}, {\"longitude\": -66.058, \"latitude\": 45.2788, \"country\": \"Canada\"}, {\"longitude\": -73.2533, \"latitude\": 45.3057, \"country\": \"Canada\"}, {\"longitude\": -67.9245, \"latitude\": 47.1652, \"country\": \"Canada\"}, {\"longitude\": -120.3394, \"latitude\": 50.6758, \"country\": \"Canada\"}, {\"longitude\": -106.651, \"latitude\": 35.0841, \"country\": \"USA\"}, {\"longitude\": -79.6902, \"latitude\": 44.3893, \"country\": \"Canada\"}, {\"longitude\": -84.3201, \"latitude\": 46.5239, \"country\": \"Canada\"}, {\"longitude\": -98.4951, \"latitude\": 29.4246, \"country\": \"USA\"}, {\"longitude\": -77.0366, \"latitude\": 38.895, \"country\": \"USA\"}, {\"longitude\": -93.3968, \"latitude\": 48.6114, \"country\": \"Canada\"}, {\"longitude\": -67.2799, \"latitude\": 45.2004, \"country\": \"Canada\"}, {\"longitude\": -122.8565, \"latitude\": 49.3144, \"country\": \"Canada\"}, {\"longitude\": -63.572, \"latitude\": 44.68, \"country\": \"Canada\"}, {\"longitude\": -68.3219, \"latitude\": 47.3556, \"country\": \"USA\"}, {\"longitude\": -97.1385, \"latitude\": 49.8955, \"country\": \"Canada\"}, {\"longitude\": -122.3295, \"latitude\": 49.0521, \"country\": \"Canada\"}, {\"longitude\": -87.6244, \"latitude\": 41.8756, \"country\": \"USA\"}, {\"longitude\": -68.5897, \"latitude\": 47.2587, \"country\": \"USA\"}, {\"longitude\": -73.4467, \"latitude\": 45.5172, \"country\": \"Canada\"}, {\"longitude\": -63.5859, \"latitude\": 44.6486, \"country\": \"Canada\"}, {\"longitude\": -97.7437, \"latitude\": 30.2711, \"country\": \"USA\"}, {\"longitude\": -79.0247, \"latitude\": 43.8504, \"country\": \"Canada\"}, {\"longitude\": -111.9639, \"latitude\": 49.0017, \"country\": \"Canada\"}, {\"longitude\": -129.9912, \"latitude\": 55.9383, \"country\": \"Canada\"}, {\"longitude\": -78.9186, \"latitude\": 42.9131, \"country\": \"Canada\"}, {\"longitude\": -71.7985, \"latitude\": 45.0126, \"country\": \"Canada\"}, {\"longitude\": -95.9929, \"latitude\": 36.1557, \"country\": \"USA\"}, {\"longitude\": -123.0833, \"latitude\": 49.0167, \"country\": \"Canada\"}, {\"longitude\": -94.5648, \"latitude\": 48.7227, \"country\": \"Canada\"}, {\"longitude\": -118.7148, \"latitude\": 50.4165, \"country\": \"Canada\"}, {\"longitude\": -97.2049, \"latitude\": 48.9988, \"country\": \"USA\"}, {\"longitude\": -122.7933, \"latitude\": 49.2843, \"country\": \"Canada\"}, {\"longitude\": -97.1056, \"latitude\": 32.7019, \"country\": \"USA\"}, {\"longitude\": -72.5565, \"latitude\": 46.3327, \"country\": \"Canada\"}, {\"longitude\": -75.1635, \"latitude\": 39.9527, \"country\": \"USA\"}, {\"longitude\": -110.9748, \"latitude\": 32.2229, \"country\": \"USA\"}, {\"longitude\": -67.2781, \"latitude\": 45.189, \"country\": \"USA\"}, {\"longitude\": -83.0466, \"latitude\": 42.3316, \"country\": \"USA\"}, {\"longitude\": -79.7599, \"latitude\": 43.6858, \"country\": \"Canada\"}, {\"longitude\": -84.3201, \"latitude\": 46.5239, \"country\": \"Canada\"}, {\"longitude\": -106.6608, \"latitude\": 52.1318, \"country\": \"Canada\"}, {\"longitude\": -83.0007, \"latitude\": 39.9623, \"country\": \"USA\"}, {\"longitude\": -75.7106, \"latitude\": 45.4284, \"country\": \"Canada\"}, {\"longitude\": -52.7151, \"latitude\": 47.5617, \"country\": \"Canada\"}, {\"longitude\": -113.508, \"latitude\": 53.5354, \"country\": \"Canada\"}, {\"longitude\": -76.6108, \"latitude\": 39.2909, \"country\": \"USA\"}, {\"longitude\": -97.5533, \"latitude\": 48.7531, \"country\": \"USA\"}, {\"longitude\": -66.9843, \"latitude\": 44.8607, \"country\": \"USA\"}, {\"longitude\": -113.8184, \"latitude\": 52.2698, \"country\": \"Canada\"}, {\"longitude\": -113.2966, \"latitude\": 53.5257, \"country\": \"Canada\"}, {\"longitude\": -79.4394, \"latitude\": 43.8801, \"country\": \"Canada\"}, {\"longitude\": -66.9905, \"latitude\": 44.9065, \"country\": \"USA\"}, {\"longitude\": -112.0741, \"latitude\": 33.4484, \"country\": \"USA\"}, {\"longitude\": -130.0437, \"latitude\": 55.9773, \"country\": \"USA\"}, {\"longitude\": -75.7887, \"latitude\": 45.3113, \"country\": \"Canada\"}, {\"longitude\": -80.8431, \"latitude\": 35.2272, \"country\": \"USA\"}, {\"longitude\": -79.6667, \"latitude\": 43.4474, \"country\": \"Canada\"}, {\"longitude\": -121.8906, \"latitude\": 37.3362, \"country\": \"USA\"}, {\"longitude\": -85.7039, \"latitude\": 38.2092, \"country\": \"USA\"}, {\"longitude\": -73.6515, \"latitude\": 45.7081, \"country\": \"Canada\"}, {\"longitude\": -122.4199, \"latitude\": 37.779, \"country\": \"USA\"}, {\"longitude\": -79.4109, \"latitude\": 43.7615, \"country\": \"Canada\"}, {\"longitude\": -67.9245, \"latitude\": 47.1652, \"country\": \"Canada\"}, {\"longitude\": -111.9626, \"latitude\": 48.9971, \"country\": \"USA\"}, {\"longitude\": -79.0359, \"latitude\": 43.1726, \"country\": \"USA\"}, {\"longitude\": -73.6875, \"latitude\": 45.5089, \"country\": \"Canada\"}, {\"longitude\": -111.8315, \"latitude\": 33.4151, \"country\": \"USA\"}, {\"longitude\": -114.0626, \"latitude\": 51.0534, \"country\": \"Canada\"}, {\"longitude\": -73.6289, \"latitude\": 45.468, \"country\": \"Canada\"}, {\"longitude\": -75.9774, \"latitude\": 36.853, \"country\": \"USA\"}, {\"longitude\": -79.3839, \"latitude\": 43.6535, \"country\": \"Canada\"}, {\"longitude\": -87.9225, \"latitude\": 43.035, \"country\": \"USA\"}, {\"longitude\": -72.7218, \"latitude\": 45.399, \"country\": \"Canada\"}, {\"longitude\": -117.1628, \"latitude\": 32.7174, \"country\": \"USA\"}, {\"longitude\": -67.4297, \"latitude\": 45.5634, \"country\": \"USA\"}, {\"longitude\": -83.0466, \"latitude\": 42.3316, \"country\": \"USA\"}, {\"longitude\": -123.1374, \"latitude\": 49.1632, \"country\": \"Canada\"}, {\"longitude\": -119.4983, \"latitude\": 49.8893, \"country\": \"Canada\"}, {\"longitude\": -79.8729, \"latitude\": 43.2561, \"country\": \"Canada\"}, {\"longitude\": -122.5997, \"latitude\": 49.2197, \"country\": \"Canada\"}, {\"longitude\": -80.2632, \"latitude\": 43.1408, \"country\": \"Canada\"}, {\"longitude\": -79.2441, \"latitude\": 43.158, \"country\": \"Canada\"}, {\"longitude\": -97.2089, \"latitude\": 49.0061, \"country\": \"Canada\"}, {\"longitude\": -94.6002, \"latitude\": 48.7124, \"country\": \"USA\"}, {\"longitude\": -102.5496, \"latitude\": 48.9959, \"country\": \"USA\"}, {\"longitude\": -83.0353, \"latitude\": 42.3171, \"country\": \"Canada\"}, {\"longitude\": -71.889, \"latitude\": 45.4033, \"country\": \"Canada\"}, {\"longitude\": -66.6458, \"latitude\": 45.9664, \"country\": \"Canada\"}, {\"longitude\": -71.0692, \"latitude\": 48.406, \"country\": \"Canada\"}, {\"longitude\": -84.3902, \"latitude\": 33.7491, \"country\": \"USA\"}, {\"longitude\": -122.7436, \"latitude\": 48.9881, \"country\": \"USA\"}, {\"longitude\": -102.548, \"latitude\": 49.0014, \"country\": \"Canada\"}, {\"longitude\": -104.6173, \"latitude\": 50.4488, \"country\": \"Canada\"}, {\"longitude\": -122.3301, \"latitude\": 47.6038, \"country\": \"USA\"}, {\"longitude\": -123.114, \"latitude\": 49.2609, \"country\": \"Canada\"}, {\"longitude\": -71.0583, \"latitude\": 42.3603, \"country\": \"USA\"}, {\"longitude\": -134.4197, \"latitude\": 58.3019, \"country\": \"USA\"}, {\"longitude\": -75.4864, \"latitude\": 44.6943, \"country\": \"USA\"}, {\"longitude\": -82.4405, \"latitude\": 42.9816, \"country\": \"USA\"}, {\"longitude\": -71.3998, \"latitude\": 46.8884, \"country\": \"Canada\"}, {\"longitude\": -122.6742, \"latitude\": 45.5202, \"country\": \"USA\"}, {\"longitude\": -67.9353, \"latitude\": 47.1575, \"country\": \"USA\"}, {\"longitude\": -69.265, \"latitude\": 47.5052, \"country\": \"Canada\"}, {\"longitude\": -97.3327, \"latitude\": 32.7532, \"country\": \"USA\"}, {\"longitude\": -123.365, \"latitude\": 48.4283, \"country\": \"Canada\"}, {\"longitude\": -68.3281, \"latitude\": 47.3644, \"country\": \"Canada\"}, {\"longitude\": -78.8784, \"latitude\": 42.8867, \"country\": \"USA\"}, {\"longitude\": -79.5268, \"latitude\": 43.7942, \"country\": \"Canada\"}, {\"longitude\": -79.6457, \"latitude\": 43.5903, \"country\": \"Canada\"}, {\"longitude\": -79.4608, \"latitude\": 46.3092, \"country\": \"Canada\"}, {\"longitude\": -95.9384, \"latitude\": 41.2587, \"country\": \"USA\"}, {\"longitude\": -79.0615, \"latitude\": 43.0844, \"country\": \"USA\"}, {\"longitude\": -79.7967, \"latitude\": 43.3249, \"country\": \"Canada\"}, {\"longitude\": -69.2275, \"latitude\": 47.4562, \"country\": \"USA\"}, {\"longitude\": -123.0833, \"latitude\": 49.0833, \"country\": \"Canada\"}, {\"longitude\": -90.0516, \"latitude\": 35.149, \"country\": \"USA\"}, {\"longitude\": -122.2714, \"latitude\": 37.8045, \"country\": \"USA\"}, {\"longitude\": -119.7848, \"latitude\": 36.7394, \"country\": \"USA\"}, {\"longitude\": -104.8253, \"latitude\": 38.834, \"country\": \"USA\"}, {\"longitude\": -74.0132, \"latitude\": 45.7754, \"country\": \"Canada\"}, {\"longitude\": -79.3377, \"latitude\": 43.8564, \"country\": \"Canada\"}, {\"longitude\": -93.2655, \"latitude\": 44.9773, \"country\": \"USA\"}, {\"longitude\": -95.3677, \"latitude\": 29.7589, \"country\": \"USA\"}, {\"longitude\": -80.3123, \"latitude\": 43.3601, \"country\": \"Canada\"}, {\"longitude\": -79.1153, \"latitude\": 43.101, \"country\": \"Canada\"}, {\"longitude\": -79.7599, \"latitude\": 43.6858, \"country\": \"Canada\"}, {\"longitude\": -75.5192, \"latitude\": 44.7184, \"country\": \"Canada\"}, {\"longitude\": -68.6034, \"latitude\": 47.2527, \"country\": \"Canada\"}, {\"longitude\": -83.0353, \"latitude\": 42.3171, \"country\": \"Canada\"}, {\"longitude\": -73.7344, \"latitude\": 45.6056, \"country\": \"Canada\"}, {\"longitude\": -72.0968, \"latitude\": 45.0072, \"country\": \"Canada\"}, {\"longitude\": -67.5735, \"latitude\": 46.1503, \"country\": \"Canada\"}, {\"longitude\": -80.4944, \"latitude\": 43.4532, \"country\": \"Canada\"}, {\"longitude\": -79.1153, \"latitude\": 43.101, \"country\": \"Canada\"}, {\"longitude\": -110.679, \"latitude\": 50.043, \"country\": \"Canada\"}, {\"longitude\": -78.3199, \"latitude\": 44.3048, \"country\": \"Canada\"}, {\"longitude\": -79.2506, \"latitude\": 42.9931, \"country\": \"Canada\"}, {\"longitude\": -96.7969, \"latitude\": 32.7763, \"country\": \"USA\"}, {\"longitude\": -122.3295, \"latitude\": 49.0521, \"country\": \"Canada\"}, {\"longitude\": -123.078, \"latitude\": 48.9854, \"country\": \"USA\"}, {\"longitude\": -97.5171, \"latitude\": 35.473, \"country\": \"USA\"}, {\"longitude\": -104.9849, \"latitude\": 39.7392, \"country\": \"USA\"}, {\"longitude\": -94.5781, \"latitude\": 39.1001, \"country\": \"USA\"}, {\"longitude\": -122.9109, \"latitude\": 49.2068, \"country\": \"Canada\"}, {\"longitude\": -89.2598, \"latitude\": 48.4064, \"country\": \"Canada\"}, {\"longitude\": -82.4584, \"latitude\": 27.9478, \"country\": \"USA\"}, {\"longitude\": -71.1473, \"latitude\": 48.382, \"country\": \"Canada\"}, {\"longitude\": -71.1753, \"latitude\": 46.791, \"country\": \"Canada\"}, {\"longitude\": -73.6104, \"latitude\": 45.4972, \"country\": \"Canada\"}, {\"longitude\": -79.8828, \"latitude\": 43.5137, \"country\": \"Canada\"}, {\"longitude\": -118.2428, \"latitude\": 34.0537, \"country\": \"USA\"}, {\"longitude\": -118.1916, \"latitude\": 33.769, \"country\": \"USA\"}, {\"longitude\": -86.1584, \"latitude\": 39.7683, \"country\": \"USA\"}, {\"longitude\": -72.9406, \"latitude\": 45.6275, \"country\": \"Canada\"}, {\"longitude\": -75.6903, \"latitude\": 45.4211, \"country\": \"Canada\"}, {\"longitude\": -76.3019, \"latitude\": 44.211, \"country\": \"Canada\"}, {\"longitude\": -115.1485, \"latitude\": 36.1673, \"country\": \"USA\"}, {\"longitude\": -122.8491, \"latitude\": 49.1913, \"country\": \"Canada\"}, {\"longitude\": -67.4253, \"latitude\": 45.5672, \"country\": \"Canada\"}, {\"longitude\": -122.8491, \"latitude\": 49.1913, \"country\": \"Canada\"}, {\"longitude\": -76.3305, \"latitude\": 44.1255, \"country\": \"USA\"}, {\"longitude\": -74.7287, \"latitude\": 45.0184, \"country\": \"Canada\"}, {\"longitude\": -121.4944, \"latitude\": 38.5816, \"country\": \"USA\"}, {\"longitude\": -79.5656, \"latitude\": 43.6436, \"country\": \"Canada\"}, {\"longitude\": -66.9195, \"latitude\": 44.8938, \"country\": \"Canada\"}]}}, {\"mode\": \"vega-lite\"});\n",
       "</script>"
      ],
      "text/plain": [
       "alt.Chart(...)"
      ]
     },
     "execution_count": 6,
     "metadata": {},
     "output_type": "execute_result"
    }
   ],
   "source": [
    "cities_viz = alt.Chart(train_df).mark_circle(size=20, opacity=0.6).encode(\n",
    "    alt.X('longitude:Q', scale=alt.Scale(domain=[-140, -40])),\n",
    "    alt.Y('latitude:Q', scale=alt.Scale(domain=[20,60])),\n",
    "    alt.Color('country:N', scale=alt.Scale(domain=['Canada', 'USA'],\n",
    "                                           range=['red', 'blue']))\n",
    ")\n",
    "cities_viz"
   ]
  },
  {
   "cell_type": "markdown",
   "id": "3a9c3f7a-824a-4005-8b2b-517773c1fc97",
   "metadata": {},
   "source": [
    "Select two points:"
   ]
  },
  {
   "cell_type": "code",
   "execution_count": 9,
   "id": "a80513c2-abd9-4175-b51e-5cdf80bb683e",
   "metadata": {},
   "outputs": [
    {
     "data": {
      "text/html": [
       "<div>\n",
       "<style scoped>\n",
       "    .dataframe tbody tr th:only-of-type {\n",
       "        vertical-align: middle;\n",
       "    }\n",
       "\n",
       "    .dataframe tbody tr th {\n",
       "        vertical-align: top;\n",
       "    }\n",
       "\n",
       "    .dataframe thead th {\n",
       "        text-align: right;\n",
       "    }\n",
       "</style>\n",
       "<table border=\"1\" class=\"dataframe\">\n",
       "  <thead>\n",
       "    <tr style=\"text-align: right;\">\n",
       "      <th></th>\n",
       "      <th>longitude</th>\n",
       "      <th>latitude</th>\n",
       "    </tr>\n",
       "  </thead>\n",
       "  <tbody>\n",
       "    <tr>\n",
       "      <th>30</th>\n",
       "      <td>-66.9843</td>\n",
       "      <td>44.8607</td>\n",
       "    </tr>\n",
       "    <tr>\n",
       "      <th>171</th>\n",
       "      <td>-80.2632</td>\n",
       "      <td>43.1408</td>\n",
       "    </tr>\n",
       "  </tbody>\n",
       "</table>\n",
       "</div>"
      ],
      "text/plain": [
       "     longitude  latitude\n",
       "30    -66.9843   44.8607\n",
       "171   -80.2632   43.1408"
      ]
     },
     "execution_count": 9,
     "metadata": {},
     "output_type": "execute_result"
    }
   ],
   "source": [
    "two_cities = cities_df.sample(2, random_state=42).drop(columns=['country'])\n",
    "two_cities"
   ]
  },
  {
   "cell_type": "markdown",
   "id": "b22b472c-91aa-4b56-89b2-64b5063fd61a",
   "metadata": {},
   "source": [
    "Subtract the two cities:"
   ]
  },
  {
   "cell_type": "code",
   "execution_count": 10,
   "id": "5cd89327-3e43-4f05-aacd-93848fd1b291",
   "metadata": {},
   "outputs": [
    {
     "data": {
      "text/plain": [
       "longitude   -13.2789\n",
       "latitude     -1.7199\n",
       "dtype: float64"
      ]
     },
     "execution_count": 10,
     "metadata": {},
     "output_type": "execute_result"
    }
   ],
   "source": [
    "two_cities.iloc[1] - two_cities.iloc[0]"
   ]
  },
  {
   "cell_type": "markdown",
   "id": "0029d313-d0a3-4174-8af2-c2784a6fbd60",
   "metadata": {},
   "source": [
    "Square the differences:"
   ]
  },
  {
   "cell_type": "code",
   "execution_count": 11,
   "id": "9eef9462-85e0-4c99-8091-2b28540bef63",
   "metadata": {},
   "outputs": [
    {
     "data": {
      "text/plain": [
       "longitude    176.329185\n",
       "latitude       2.958056\n",
       "dtype: float64"
      ]
     },
     "execution_count": 11,
     "metadata": {},
     "output_type": "execute_result"
    }
   ],
   "source": [
    "(two_cities.iloc[1] - two_cities.iloc[0])**2"
   ]
  },
  {
   "cell_type": "markdown",
   "id": "b0d7cd0b-3cd9-4a8a-9e1f-27026474a786",
   "metadata": {},
   "source": [
    "Sum them up:"
   ]
  },
  {
   "cell_type": "code",
   "execution_count": 14,
   "id": "252f187a-a91c-445c-8413-dedaff249e42",
   "metadata": {},
   "outputs": [
    {
     "data": {
      "text/plain": [
       "179.28724121999983"
      ]
     },
     "execution_count": 14,
     "metadata": {},
     "output_type": "execute_result"
    }
   ],
   "source": [
    "((two_cities.iloc[1] - two_cities.iloc[0])**2).sum()"
   ]
  },
  {
   "cell_type": "markdown",
   "id": "319d505c-2ffb-415b-82b9-63b84ef68a8a",
   "metadata": {},
   "source": [
    "Square root:"
   ]
  },
  {
   "cell_type": "code",
   "execution_count": 15,
   "id": "995ea493-7ed2-418b-9a7b-db30b1730d97",
   "metadata": {},
   "outputs": [
    {
     "data": {
      "text/plain": [
       "13.389818565611703"
      ]
     },
     "execution_count": 15,
     "metadata": {},
     "output_type": "execute_result"
    }
   ],
   "source": [
    "np.sqrt(((two_cities.iloc[1] - two_cities.iloc[0])**2).sum())"
   ]
  },
  {
   "cell_type": "code",
   "execution_count": 16,
   "id": "b6e4adf4-5876-46b4-8e26-90417a0a4527",
   "metadata": {},
   "outputs": [],
   "source": [
    "from sklearn.metrics.pairwise import euclidean_distances"
   ]
  },
  {
   "cell_type": "code",
   "execution_count": 17,
   "id": "de39123b-21ff-4edb-bd91-08fa8ac247ea",
   "metadata": {},
   "outputs": [
    {
     "data": {
      "text/plain": [
       "array([[ 0.        , 13.38981857],\n",
       "       [13.38981857,  0.        ]])"
      ]
     },
     "execution_count": 17,
     "metadata": {},
     "output_type": "execute_result"
    }
   ],
   "source": [
    "euclidean_distances(two_cities)"
   ]
  },
  {
   "cell_type": "markdown",
   "id": "d700cd9a-fa3c-48f7-abf2-936ed9af199e",
   "metadata": {},
   "source": [
    "### Finding the nearest neighbour"
   ]
  },
  {
   "cell_type": "code",
   "execution_count": 18,
   "id": "acbaed20-07b0-470d-885e-ca8d58aaaa8c",
   "metadata": {},
   "outputs": [
    {
     "data": {
      "text/plain": [
       "array([[ 0.        ,  4.92866046, 10.47586257, ..., 45.36619339,\n",
       "         3.13968038,  9.58476504],\n",
       "       [ 4.92866046,  0.        , 15.36399019, ..., 40.48484175,\n",
       "         1.80868018, 14.45684087],\n",
       "       [10.47586257, 15.36399019,  0.        , ..., 55.83947468,\n",
       "        13.60621684,  0.94361393],\n",
       "       ...,\n",
       "       [45.36619339, 40.48484175, 55.83947468, ...,  0.        ,\n",
       "        42.23325838, 54.93872568],\n",
       "       [ 3.13968038,  1.80868018, 13.60621684, ..., 42.23325838,\n",
       "         0.        , 12.70774745],\n",
       "       [ 9.58476504, 14.45684087,  0.94361393, ..., 54.93872568,\n",
       "        12.70774745,  0.        ]])"
      ]
     },
     "execution_count": 18,
     "metadata": {},
     "output_type": "execute_result"
    }
   ],
   "source": [
    "dists = euclidean_distances(train_df[[\"latitude\", \"longitude\"]])\n",
    "dists"
   ]
  },
  {
   "cell_type": "code",
   "execution_count": 19,
   "id": "1ed8de59-61a7-43a1-b28b-01d9ad9f2485",
   "metadata": {},
   "outputs": [
    {
     "data": {
      "text/plain": [
       "(167, 167)"
      ]
     },
     "execution_count": 19,
     "metadata": {},
     "output_type": "execute_result"
    }
   ],
   "source": [
    "dists.shape"
   ]
  },
  {
   "cell_type": "code",
   "execution_count": 20,
   "id": "61fed714-8dee-4ae9-8376-b964c00cd1ba",
   "metadata": {},
   "outputs": [
    {
     "data": {
      "text/html": [
       "<div>\n",
       "<style scoped>\n",
       "    .dataframe tbody tr th:only-of-type {\n",
       "        vertical-align: middle;\n",
       "    }\n",
       "\n",
       "    .dataframe tbody tr th {\n",
       "        vertical-align: top;\n",
       "    }\n",
       "\n",
       "    .dataframe thead th {\n",
       "        text-align: right;\n",
       "    }\n",
       "</style>\n",
       "<table border=\"1\" class=\"dataframe\">\n",
       "  <thead>\n",
       "    <tr style=\"text-align: right;\">\n",
       "      <th></th>\n",
       "      <th>0</th>\n",
       "      <th>1</th>\n",
       "      <th>2</th>\n",
       "      <th>3</th>\n",
       "      <th>4</th>\n",
       "      <th>5</th>\n",
       "    </tr>\n",
       "  </thead>\n",
       "  <tbody>\n",
       "    <tr>\n",
       "      <th>0</th>\n",
       "      <td>0.000000</td>\n",
       "      <td>4.928660</td>\n",
       "      <td>10.475863</td>\n",
       "      <td>3.402295</td>\n",
       "      <td>9.046000</td>\n",
       "      <td>44.329135</td>\n",
       "    </tr>\n",
       "    <tr>\n",
       "      <th>1</th>\n",
       "      <td>4.928660</td>\n",
       "      <td>0.000000</td>\n",
       "      <td>15.363990</td>\n",
       "      <td>8.326614</td>\n",
       "      <td>13.965788</td>\n",
       "      <td>39.839439</td>\n",
       "    </tr>\n",
       "    <tr>\n",
       "      <th>2</th>\n",
       "      <td>10.475863</td>\n",
       "      <td>15.363990</td>\n",
       "      <td>0.000000</td>\n",
       "      <td>7.195350</td>\n",
       "      <td>2.653738</td>\n",
       "      <td>54.549042</td>\n",
       "    </tr>\n",
       "    <tr>\n",
       "      <th>3</th>\n",
       "      <td>3.402295</td>\n",
       "      <td>8.326614</td>\n",
       "      <td>7.195350</td>\n",
       "      <td>0.000000</td>\n",
       "      <td>5.643921</td>\n",
       "      <td>47.391337</td>\n",
       "    </tr>\n",
       "    <tr>\n",
       "      <th>4</th>\n",
       "      <td>9.046000</td>\n",
       "      <td>13.965788</td>\n",
       "      <td>2.653738</td>\n",
       "      <td>5.643921</td>\n",
       "      <td>0.000000</td>\n",
       "      <td>52.532333</td>\n",
       "    </tr>\n",
       "    <tr>\n",
       "      <th>5</th>\n",
       "      <td>44.329135</td>\n",
       "      <td>39.839439</td>\n",
       "      <td>54.549042</td>\n",
       "      <td>47.391337</td>\n",
       "      <td>52.532333</td>\n",
       "      <td>0.000000</td>\n",
       "    </tr>\n",
       "  </tbody>\n",
       "</table>\n",
       "</div>"
      ],
      "text/plain": [
       "           0          1          2          3          4          5\n",
       "0   0.000000   4.928660  10.475863   3.402295   9.046000  44.329135\n",
       "1   4.928660   0.000000  15.363990   8.326614  13.965788  39.839439\n",
       "2  10.475863  15.363990   0.000000   7.195350   2.653738  54.549042\n",
       "3   3.402295   8.326614   7.195350   0.000000   5.643921  47.391337\n",
       "4   9.046000  13.965788   2.653738   5.643921   0.000000  52.532333\n",
       "5  44.329135  39.839439  54.549042  47.391337  52.532333   0.000000"
      ]
     },
     "execution_count": 20,
     "metadata": {},
     "output_type": "execute_result"
    }
   ],
   "source": [
    "pd.DataFrame(dists).loc[:5,:5]"
   ]
  },
  {
   "cell_type": "code",
   "execution_count": 21,
   "id": "4f6607e5-e159-4428-b697-3ec4de8617c4",
   "metadata": {},
   "outputs": [
    {
     "data": {
      "text/html": [
       "<div>\n",
       "<style scoped>\n",
       "    .dataframe tbody tr th:only-of-type {\n",
       "        vertical-align: middle;\n",
       "    }\n",
       "\n",
       "    .dataframe tbody tr th {\n",
       "        vertical-align: top;\n",
       "    }\n",
       "\n",
       "    .dataframe thead th {\n",
       "        text-align: right;\n",
       "    }\n",
       "</style>\n",
       "<table border=\"1\" class=\"dataframe\">\n",
       "  <thead>\n",
       "    <tr style=\"text-align: right;\">\n",
       "      <th></th>\n",
       "      <th>0</th>\n",
       "      <th>1</th>\n",
       "      <th>2</th>\n",
       "      <th>3</th>\n",
       "      <th>4</th>\n",
       "      <th>5</th>\n",
       "    </tr>\n",
       "  </thead>\n",
       "  <tbody>\n",
       "    <tr>\n",
       "      <th>0</th>\n",
       "      <td>inf</td>\n",
       "      <td>4.928660</td>\n",
       "      <td>10.475863</td>\n",
       "      <td>3.402295</td>\n",
       "      <td>9.046000</td>\n",
       "      <td>44.329135</td>\n",
       "    </tr>\n",
       "    <tr>\n",
       "      <th>1</th>\n",
       "      <td>4.928660</td>\n",
       "      <td>inf</td>\n",
       "      <td>15.363990</td>\n",
       "      <td>8.326614</td>\n",
       "      <td>13.965788</td>\n",
       "      <td>39.839439</td>\n",
       "    </tr>\n",
       "    <tr>\n",
       "      <th>2</th>\n",
       "      <td>10.475863</td>\n",
       "      <td>15.363990</td>\n",
       "      <td>inf</td>\n",
       "      <td>7.195350</td>\n",
       "      <td>2.653738</td>\n",
       "      <td>54.549042</td>\n",
       "    </tr>\n",
       "    <tr>\n",
       "      <th>3</th>\n",
       "      <td>3.402295</td>\n",
       "      <td>8.326614</td>\n",
       "      <td>7.195350</td>\n",
       "      <td>inf</td>\n",
       "      <td>5.643921</td>\n",
       "      <td>47.391337</td>\n",
       "    </tr>\n",
       "    <tr>\n",
       "      <th>4</th>\n",
       "      <td>9.046000</td>\n",
       "      <td>13.965788</td>\n",
       "      <td>2.653738</td>\n",
       "      <td>5.643921</td>\n",
       "      <td>inf</td>\n",
       "      <td>52.532333</td>\n",
       "    </tr>\n",
       "    <tr>\n",
       "      <th>5</th>\n",
       "      <td>44.329135</td>\n",
       "      <td>39.839439</td>\n",
       "      <td>54.549042</td>\n",
       "      <td>47.391337</td>\n",
       "      <td>52.532333</td>\n",
       "      <td>inf</td>\n",
       "    </tr>\n",
       "  </tbody>\n",
       "</table>\n",
       "</div>"
      ],
      "text/plain": [
       "           0          1          2          3          4          5\n",
       "0        inf   4.928660  10.475863   3.402295   9.046000  44.329135\n",
       "1   4.928660        inf  15.363990   8.326614  13.965788  39.839439\n",
       "2  10.475863  15.363990        inf   7.195350   2.653738  54.549042\n",
       "3   3.402295   8.326614   7.195350        inf   5.643921  47.391337\n",
       "4   9.046000  13.965788   2.653738   5.643921        inf  52.532333\n",
       "5  44.329135  39.839439  54.549042  47.391337  52.532333        inf"
      ]
     },
     "execution_count": 21,
     "metadata": {},
     "output_type": "execute_result"
    }
   ],
   "source": [
    "np.fill_diagonal(dists, np.inf)\n",
    "pd.DataFrame(dists).loc[:5,:5]"
   ]
  },
  {
   "cell_type": "markdown",
   "id": "5074447b-a75e-42ea-91de-72f0b4d521dc",
   "metadata": {},
   "source": [
    "Feature vector for city 0:"
   ]
  },
  {
   "cell_type": "code",
   "execution_count": 22,
   "id": "580634d2-a845-41f8-a4df-9880a632993e",
   "metadata": {},
   "outputs": [
    {
     "data": {
      "text/plain": [
       "longitude   -76.4813\n",
       "latitude     44.2307\n",
       "country       Canada\n",
       "Name: 160, dtype: object"
      ]
     },
     "execution_count": 22,
     "metadata": {},
     "output_type": "execute_result"
    }
   ],
   "source": [
    "train_df.iloc[0]"
   ]
  },
  {
   "cell_type": "markdown",
   "id": "3b812115-ee42-4c59-93cd-e18933fd4a37",
   "metadata": {},
   "source": [
    "Distances from city 0 to 5 other cities:"
   ]
  },
  {
   "cell_type": "code",
   "execution_count": 23,
   "id": "b43c4678-a966-411f-9392-ea815867d251",
   "metadata": {},
   "outputs": [
    {
     "data": {
      "text/plain": [
       "array([        inf,  4.92866046, 10.47586257,  3.40229467,  9.04600003])"
      ]
     },
     "execution_count": 23,
     "metadata": {},
     "output_type": "execute_result"
    }
   ],
   "source": [
    "dists[0][:5]"
   ]
  },
  {
   "cell_type": "code",
   "execution_count": 24,
   "id": "7a6a32fc-e087-4da0-a3ed-f4f97a5ea175",
   "metadata": {},
   "outputs": [
    {
     "data": {
      "text/html": [
       "<div>\n",
       "<style scoped>\n",
       "    .dataframe tbody tr th:only-of-type {\n",
       "        vertical-align: middle;\n",
       "    }\n",
       "\n",
       "    .dataframe tbody tr th {\n",
       "        vertical-align: top;\n",
       "    }\n",
       "\n",
       "    .dataframe thead th {\n",
       "        text-align: right;\n",
       "    }\n",
       "</style>\n",
       "<table border=\"1\" class=\"dataframe\">\n",
       "  <thead>\n",
       "    <tr style=\"text-align: right;\">\n",
       "      <th></th>\n",
       "      <th>longitude</th>\n",
       "      <th>latitude</th>\n",
       "      <th>country</th>\n",
       "    </tr>\n",
       "  </thead>\n",
       "  <tbody>\n",
       "    <tr>\n",
       "      <th>160</th>\n",
       "      <td>-76.4813</td>\n",
       "      <td>44.2307</td>\n",
       "      <td>Canada</td>\n",
       "    </tr>\n",
       "  </tbody>\n",
       "</table>\n",
       "</div>"
      ],
      "text/plain": [
       "     longitude  latitude country\n",
       "160   -76.4813   44.2307  Canada"
      ]
     },
     "execution_count": 24,
     "metadata": {},
     "output_type": "execute_result"
    }
   ],
   "source": [
    "train_df.iloc[[0]]"
   ]
  },
  {
   "cell_type": "code",
   "execution_count": 25,
   "id": "2c10477e-9259-41c0-b025-ab5f4eb0931a",
   "metadata": {},
   "outputs": [
    {
     "data": {
      "text/plain": [
       "157"
      ]
     },
     "execution_count": 25,
     "metadata": {},
     "output_type": "execute_result"
    }
   ],
   "source": [
    "np.argmin(dists[0])"
   ]
  },
  {
   "cell_type": "code",
   "execution_count": 26,
   "id": "e06994bf-da2d-4ed5-9f67-598c792e071d",
   "metadata": {},
   "outputs": [
    {
     "data": {
      "text/html": [
       "<div>\n",
       "<style scoped>\n",
       "    .dataframe tbody tr th:only-of-type {\n",
       "        vertical-align: middle;\n",
       "    }\n",
       "\n",
       "    .dataframe tbody tr th {\n",
       "        vertical-align: top;\n",
       "    }\n",
       "\n",
       "    .dataframe thead th {\n",
       "        text-align: right;\n",
       "    }\n",
       "</style>\n",
       "<table border=\"1\" class=\"dataframe\">\n",
       "  <thead>\n",
       "    <tr style=\"text-align: right;\">\n",
       "      <th></th>\n",
       "      <th>longitude</th>\n",
       "      <th>latitude</th>\n",
       "      <th>country</th>\n",
       "    </tr>\n",
       "  </thead>\n",
       "  <tbody>\n",
       "    <tr>\n",
       "      <th>96</th>\n",
       "      <td>-76.3019</td>\n",
       "      <td>44.211</td>\n",
       "      <td>Canada</td>\n",
       "    </tr>\n",
       "  </tbody>\n",
       "</table>\n",
       "</div>"
      ],
      "text/plain": [
       "    longitude  latitude country\n",
       "96   -76.3019    44.211  Canada"
      ]
     },
     "execution_count": 26,
     "metadata": {},
     "output_type": "execute_result"
    }
   ],
   "source": [
    "train_df.iloc[[157]]"
   ]
  },
  {
   "cell_type": "code",
   "execution_count": 27,
   "id": "b38227bd-941a-4116-9584-93f6e2bde45f",
   "metadata": {},
   "outputs": [
    {
     "data": {
      "text/plain": [
       "0.18047839205805613"
      ]
     },
     "execution_count": 27,
     "metadata": {},
     "output_type": "execute_result"
    }
   ],
   "source": [
    "dists[0][157]"
   ]
  },
  {
   "cell_type": "markdown",
   "id": "f3d83737-c450-4619-a6ee-b9cbe65cac86",
   "metadata": {},
   "source": [
    "Finding the distances to a query point"
   ]
  },
  {
   "cell_type": "code",
   "execution_count": 28,
   "id": "f8cd59bc-9153-422d-9764-1d4f2e5ba8ff",
   "metadata": {},
   "outputs": [],
   "source": [
    "query_point = [[-80, 25]]"
   ]
  },
  {
   "cell_type": "code",
   "execution_count": 33,
   "id": "67906ec7-1d44-4acc-9b78-beda8e130eaf",
   "metadata": {},
   "outputs": [
    {
     "data": {
      "text/plain": [
       "array([[19.54996348],\n",
       "       [18.02706204],\n",
       "       [24.60912622],\n",
       "       [21.39718237],\n",
       "       [25.24111312]])"
      ]
     },
     "execution_count": 33,
     "metadata": {},
     "output_type": "execute_result"
    }
   ],
   "source": [
    "dists = euclidean_distances(train_df[[\"longitude\", \"latitude\"]], query_point)\n",
    "dists[0:5]"
   ]
  },
  {
   "cell_type": "code",
   "execution_count": 34,
   "id": "aa445c15-a7f9-4d06-9ca2-0e8dd02b503f",
   "metadata": {},
   "outputs": [
    {
     "data": {
      "text/plain": [
       "147"
      ]
     },
     "execution_count": 34,
     "metadata": {},
     "output_type": "execute_result"
    }
   ],
   "source": [
    "np.argmin(dists)"
   ]
  },
  {
   "cell_type": "code",
   "execution_count": 35,
   "id": "8f1cf4ee-2ba5-4850-b48e-e8f9da8e78e0",
   "metadata": {},
   "outputs": [
    {
     "data": {
      "text/plain": [
       "3.8383922936564634"
      ]
     },
     "execution_count": 35,
     "metadata": {},
     "output_type": "execute_result"
    }
   ],
   "source": [
    "dists[np.argmin(dists)].item()"
   ]
  },
  {
   "cell_type": "code",
   "execution_count": 38,
   "id": "ea814932-14ec-4904-a655-34c6e1169a0d",
   "metadata": {},
   "outputs": [
    {
     "name": "stderr",
     "output_type": "stream",
     "text": [
      "/Users/jennalenoble/miniconda3/lib/python3.10/site-packages/sklearn/base.py:439: UserWarning: X does not have valid feature names, but NearestNeighbors was fitted with feature names\n",
      "  warnings.warn(\n"
     ]
    },
    {
     "data": {
      "text/plain": [
       "(array([[3.83839229]]), array([[147]]))"
      ]
     },
     "execution_count": 38,
     "metadata": {},
     "output_type": "execute_result"
    }
   ],
   "source": [
    "from sklearn.neighbors import NearestNeighbors\n",
    "nn = NearestNeighbors(n_neighbors=1)\n",
    "nn.fit(train_df[['longitude', 'latitude']]);\n",
    "nn.kneighbors([[-80, 25]])"
   ]
  },
  {
   "cell_type": "code",
   "execution_count": 39,
   "id": "d79801e9-3189-4020-bb6e-d2d0e30fbd7f",
   "metadata": {},
   "outputs": [
    {
     "ename": "NameError",
     "evalue": "name 'X_train' is not defined",
     "output_type": "error",
     "traceback": [
      "\u001b[0;31m---------------------------------------------------------------------------\u001b[0m",
      "\u001b[0;31mNameError\u001b[0m                                 Traceback (most recent call last)",
      "Cell \u001b[0;32mIn[39], line 1\u001b[0m\n\u001b[0;32m----> 1\u001b[0m dists \u001b[38;5;241m=\u001b[39m euclidean_distances(\u001b[43mX_train\u001b[49m[:\u001b[38;5;241m3\u001b[39m])\n\u001b[1;32m      2\u001b[0m dists\n",
      "\u001b[0;31mNameError\u001b[0m: name 'X_train' is not defined"
     ]
    }
   ],
   "source": [
    "dists = euclidean_distances(X_train[:3])\n",
    "dists"
   ]
  },
  {
   "cell_type": "code",
   "execution_count": 40,
   "id": "89a14602-f1a9-4a51-9732-91c18a5ed27c",
   "metadata": {},
   "outputs": [
    {
     "data": {
      "text/html": [
       "<div>\n",
       "<style scoped>\n",
       "    .dataframe tbody tr th:only-of-type {\n",
       "        vertical-align: middle;\n",
       "    }\n",
       "\n",
       "    .dataframe tbody tr th {\n",
       "        vertical-align: top;\n",
       "    }\n",
       "\n",
       "    .dataframe thead th {\n",
       "        text-align: right;\n",
       "    }\n",
       "</style>\n",
       "<table border=\"1\" class=\"dataframe\">\n",
       "  <thead>\n",
       "    <tr style=\"text-align: right;\">\n",
       "      <th></th>\n",
       "      <th>longitude</th>\n",
       "      <th>latitude</th>\n",
       "      <th>country</th>\n",
       "    </tr>\n",
       "  </thead>\n",
       "  <tbody>\n",
       "    <tr>\n",
       "      <th>160</th>\n",
       "      <td>-76.4813</td>\n",
       "      <td>44.2307</td>\n",
       "      <td>Canada</td>\n",
       "    </tr>\n",
       "    <tr>\n",
       "      <th>127</th>\n",
       "      <td>-81.2496</td>\n",
       "      <td>42.9837</td>\n",
       "      <td>Canada</td>\n",
       "    </tr>\n",
       "    <tr>\n",
       "      <th>169</th>\n",
       "      <td>-66.0580</td>\n",
       "      <td>45.2788</td>\n",
       "      <td>Canada</td>\n",
       "    </tr>\n",
       "    <tr>\n",
       "      <th>188</th>\n",
       "      <td>-73.2533</td>\n",
       "      <td>45.3057</td>\n",
       "      <td>Canada</td>\n",
       "    </tr>\n",
       "    <tr>\n",
       "      <th>187</th>\n",
       "      <td>-67.9245</td>\n",
       "      <td>47.1652</td>\n",
       "      <td>Canada</td>\n",
       "    </tr>\n",
       "    <tr>\n",
       "      <th>...</th>\n",
       "      <td>...</td>\n",
       "      <td>...</td>\n",
       "      <td>...</td>\n",
       "    </tr>\n",
       "    <tr>\n",
       "      <th>17</th>\n",
       "      <td>-76.3305</td>\n",
       "      <td>44.1255</td>\n",
       "      <td>USA</td>\n",
       "    </tr>\n",
       "    <tr>\n",
       "      <th>98</th>\n",
       "      <td>-74.7287</td>\n",
       "      <td>45.0184</td>\n",
       "      <td>Canada</td>\n",
       "    </tr>\n",
       "    <tr>\n",
       "      <th>66</th>\n",
       "      <td>-121.4944</td>\n",
       "      <td>38.5816</td>\n",
       "      <td>USA</td>\n",
       "    </tr>\n",
       "    <tr>\n",
       "      <th>126</th>\n",
       "      <td>-79.5656</td>\n",
       "      <td>43.6436</td>\n",
       "      <td>Canada</td>\n",
       "    </tr>\n",
       "    <tr>\n",
       "      <th>109</th>\n",
       "      <td>-66.9195</td>\n",
       "      <td>44.8938</td>\n",
       "      <td>Canada</td>\n",
       "    </tr>\n",
       "  </tbody>\n",
       "</table>\n",
       "<p>167 rows × 3 columns</p>\n",
       "</div>"
      ],
      "text/plain": [
       "     longitude  latitude country\n",
       "160   -76.4813   44.2307  Canada\n",
       "127   -81.2496   42.9837  Canada\n",
       "169   -66.0580   45.2788  Canada\n",
       "188   -73.2533   45.3057  Canada\n",
       "187   -67.9245   47.1652  Canada\n",
       "..         ...       ...     ...\n",
       "17    -76.3305   44.1255     USA\n",
       "98    -74.7287   45.0184  Canada\n",
       "66   -121.4944   38.5816     USA\n",
       "126   -79.5656   43.6436  Canada\n",
       "109   -66.9195   44.8938  Canada\n",
       "\n",
       "[167 rows x 3 columns]"
      ]
     },
     "execution_count": 40,
     "metadata": {},
     "output_type": "execute_result"
    }
   ],
   "source": [
    "train_df"
   ]
  },
  {
   "cell_type": "code",
   "execution_count": 42,
   "id": "0ff30fdb-18b8-4b4c-add9-0cb1a317c47d",
   "metadata": {},
   "outputs": [],
   "source": [
    "X_train = train_df.drop(columns=[\"country\"])\n",
    "X_test = test_df.drop(columns=[\"country\"])"
   ]
  },
  {
   "cell_type": "code",
   "execution_count": 43,
   "id": "47800173-bdc9-4296-a520-898447baa9a2",
   "metadata": {},
   "outputs": [
    {
     "name": "stderr",
     "output_type": "stream",
     "text": [
      "/Users/jennalenoble/miniconda3/lib/python3.10/site-packages/sklearn/base.py:439: UserWarning: X does not have valid feature names, but NearestNeighbors was fitted with feature names\n",
      "  warnings.warn(\n"
     ]
    },
    {
     "ename": "ValueError",
     "evalue": "Expected 2D array, got 1D array instead:\narray=[-82.4066  42.9746].\nReshape your data either using array.reshape(-1, 1) if your data has a single feature or array.reshape(1, -1) if it contains a single sample.",
     "output_type": "error",
     "traceback": [
      "\u001b[0;31m---------------------------------------------------------------------------\u001b[0m",
      "\u001b[0;31mValueError\u001b[0m                                Traceback (most recent call last)",
      "Cell \u001b[0;32mIn[43], line 3\u001b[0m\n\u001b[1;32m      1\u001b[0m nn \u001b[38;5;241m=\u001b[39m NearestNeighbors(n_neighbors\u001b[38;5;241m=\u001b[39m\u001b[38;5;241m5\u001b[39m)\n\u001b[1;32m      2\u001b[0m nn\u001b[38;5;241m.\u001b[39mfit(X_train);\n\u001b[0;32m----> 3\u001b[0m \u001b[43mnn\u001b[49m\u001b[38;5;241;43m.\u001b[39;49m\u001b[43mkneighbors\u001b[49m\u001b[43m(\u001b[49m\u001b[43mX_test\u001b[49m\u001b[38;5;241;43m.\u001b[39;49m\u001b[43miloc\u001b[49m\u001b[43m[\u001b[49m\u001b[38;5;241;43m1\u001b[39;49m\u001b[43m]\u001b[49m\u001b[43m)\u001b[49m\n",
      "File \u001b[0;32m~/miniconda3/lib/python3.10/site-packages/sklearn/neighbors/_base.py:806\u001b[0m, in \u001b[0;36mKNeighborsMixin.kneighbors\u001b[0;34m(self, X, n_neighbors, return_distance)\u001b[0m\n\u001b[1;32m    804\u001b[0m         X \u001b[38;5;241m=\u001b[39m _check_precomputed(X)\n\u001b[1;32m    805\u001b[0m     \u001b[38;5;28;01melse\u001b[39;00m:\n\u001b[0;32m--> 806\u001b[0m         X \u001b[38;5;241m=\u001b[39m \u001b[38;5;28;43mself\u001b[39;49m\u001b[38;5;241;43m.\u001b[39;49m\u001b[43m_validate_data\u001b[49m\u001b[43m(\u001b[49m\u001b[43mX\u001b[49m\u001b[43m,\u001b[49m\u001b[43m \u001b[49m\u001b[43maccept_sparse\u001b[49m\u001b[38;5;241;43m=\u001b[39;49m\u001b[38;5;124;43m\"\u001b[39;49m\u001b[38;5;124;43mcsr\u001b[39;49m\u001b[38;5;124;43m\"\u001b[39;49m\u001b[43m,\u001b[49m\u001b[43m \u001b[49m\u001b[43mreset\u001b[49m\u001b[38;5;241;43m=\u001b[39;49m\u001b[38;5;28;43;01mFalse\u001b[39;49;00m\u001b[43m,\u001b[49m\u001b[43m \u001b[49m\u001b[43morder\u001b[49m\u001b[38;5;241;43m=\u001b[39;49m\u001b[38;5;124;43m\"\u001b[39;49m\u001b[38;5;124;43mC\u001b[39;49m\u001b[38;5;124;43m\"\u001b[39;49m\u001b[43m)\u001b[49m\n\u001b[1;32m    808\u001b[0m n_samples_fit \u001b[38;5;241m=\u001b[39m \u001b[38;5;28mself\u001b[39m\u001b[38;5;241m.\u001b[39mn_samples_fit_\n\u001b[1;32m    809\u001b[0m \u001b[38;5;28;01mif\u001b[39;00m n_neighbors \u001b[38;5;241m>\u001b[39m n_samples_fit:\n",
      "File \u001b[0;32m~/miniconda3/lib/python3.10/site-packages/sklearn/base.py:565\u001b[0m, in \u001b[0;36mBaseEstimator._validate_data\u001b[0;34m(self, X, y, reset, validate_separately, **check_params)\u001b[0m\n\u001b[1;32m    563\u001b[0m     \u001b[38;5;28;01mraise\u001b[39;00m \u001b[38;5;167;01mValueError\u001b[39;00m(\u001b[38;5;124m\"\u001b[39m\u001b[38;5;124mValidation should be done on X, y or both.\u001b[39m\u001b[38;5;124m\"\u001b[39m)\n\u001b[1;32m    564\u001b[0m \u001b[38;5;28;01melif\u001b[39;00m \u001b[38;5;129;01mnot\u001b[39;00m no_val_X \u001b[38;5;129;01mand\u001b[39;00m no_val_y:\n\u001b[0;32m--> 565\u001b[0m     X \u001b[38;5;241m=\u001b[39m \u001b[43mcheck_array\u001b[49m\u001b[43m(\u001b[49m\u001b[43mX\u001b[49m\u001b[43m,\u001b[49m\u001b[43m \u001b[49m\u001b[43minput_name\u001b[49m\u001b[38;5;241;43m=\u001b[39;49m\u001b[38;5;124;43m\"\u001b[39;49m\u001b[38;5;124;43mX\u001b[39;49m\u001b[38;5;124;43m\"\u001b[39;49m\u001b[43m,\u001b[49m\u001b[43m \u001b[49m\u001b[38;5;241;43m*\u001b[39;49m\u001b[38;5;241;43m*\u001b[39;49m\u001b[43mcheck_params\u001b[49m\u001b[43m)\u001b[49m\n\u001b[1;32m    566\u001b[0m     out \u001b[38;5;241m=\u001b[39m X\n\u001b[1;32m    567\u001b[0m \u001b[38;5;28;01melif\u001b[39;00m no_val_X \u001b[38;5;129;01mand\u001b[39;00m \u001b[38;5;129;01mnot\u001b[39;00m no_val_y:\n",
      "File \u001b[0;32m~/miniconda3/lib/python3.10/site-packages/sklearn/utils/validation.py:902\u001b[0m, in \u001b[0;36mcheck_array\u001b[0;34m(array, accept_sparse, accept_large_sparse, dtype, order, copy, force_all_finite, ensure_2d, allow_nd, ensure_min_samples, ensure_min_features, estimator, input_name)\u001b[0m\n\u001b[1;32m    900\u001b[0m     \u001b[38;5;66;03m# If input is 1D raise error\u001b[39;00m\n\u001b[1;32m    901\u001b[0m     \u001b[38;5;28;01mif\u001b[39;00m array\u001b[38;5;241m.\u001b[39mndim \u001b[38;5;241m==\u001b[39m \u001b[38;5;241m1\u001b[39m:\n\u001b[0;32m--> 902\u001b[0m         \u001b[38;5;28;01mraise\u001b[39;00m \u001b[38;5;167;01mValueError\u001b[39;00m(\n\u001b[1;32m    903\u001b[0m             \u001b[38;5;124m\"\u001b[39m\u001b[38;5;124mExpected 2D array, got 1D array instead:\u001b[39m\u001b[38;5;130;01m\\n\u001b[39;00m\u001b[38;5;124marray=\u001b[39m\u001b[38;5;132;01m{}\u001b[39;00m\u001b[38;5;124m.\u001b[39m\u001b[38;5;130;01m\\n\u001b[39;00m\u001b[38;5;124m\"\u001b[39m\n\u001b[1;32m    904\u001b[0m             \u001b[38;5;124m\"\u001b[39m\u001b[38;5;124mReshape your data either using array.reshape(-1, 1) if \u001b[39m\u001b[38;5;124m\"\u001b[39m\n\u001b[1;32m    905\u001b[0m             \u001b[38;5;124m\"\u001b[39m\u001b[38;5;124myour data has a single feature or array.reshape(1, -1) \u001b[39m\u001b[38;5;124m\"\u001b[39m\n\u001b[1;32m    906\u001b[0m             \u001b[38;5;124m\"\u001b[39m\u001b[38;5;124mif it contains a single sample.\u001b[39m\u001b[38;5;124m\"\u001b[39m\u001b[38;5;241m.\u001b[39mformat(array)\n\u001b[1;32m    907\u001b[0m         )\n\u001b[1;32m    909\u001b[0m \u001b[38;5;28;01mif\u001b[39;00m dtype_numeric \u001b[38;5;129;01mand\u001b[39;00m array\u001b[38;5;241m.\u001b[39mdtype\u001b[38;5;241m.\u001b[39mkind \u001b[38;5;129;01min\u001b[39;00m \u001b[38;5;124m\"\u001b[39m\u001b[38;5;124mUSV\u001b[39m\u001b[38;5;124m\"\u001b[39m:\n\u001b[1;32m    910\u001b[0m     \u001b[38;5;28;01mraise\u001b[39;00m \u001b[38;5;167;01mValueError\u001b[39;00m(\n\u001b[1;32m    911\u001b[0m         \u001b[38;5;124m\"\u001b[39m\u001b[38;5;124mdtype=\u001b[39m\u001b[38;5;124m'\u001b[39m\u001b[38;5;124mnumeric\u001b[39m\u001b[38;5;124m'\u001b[39m\u001b[38;5;124m is not compatible with arrays of bytes/strings.\u001b[39m\u001b[38;5;124m\"\u001b[39m\n\u001b[1;32m    912\u001b[0m         \u001b[38;5;124m\"\u001b[39m\u001b[38;5;124mConvert your data to numeric values explicitly instead.\u001b[39m\u001b[38;5;124m\"\u001b[39m\n\u001b[1;32m    913\u001b[0m     )\n",
      "\u001b[0;31mValueError\u001b[0m: Expected 2D array, got 1D array instead:\narray=[-82.4066  42.9746].\nReshape your data either using array.reshape(-1, 1) if your data has a single feature or array.reshape(1, -1) if it contains a single sample."
     ]
    }
   ],
   "source": [
    "nn = NearestNeighbors(n_neighbors=5)\n",
    "nn.fit(X_train);\n",
    "nn.kneighbors(X_test.iloc[1])"
   ]
  },
  {
   "cell_type": "code",
   "execution_count": 44,
   "id": "f8caf265-d622-4168-87b2-592971d02b66",
   "metadata": {},
   "outputs": [
    {
     "data": {
      "text/plain": [
       "(2,)"
      ]
     },
     "execution_count": 44,
     "metadata": {},
     "output_type": "execute_result"
    }
   ],
   "source": [
    "X_test.iloc[1].shape"
   ]
  },
  {
   "cell_type": "code",
   "execution_count": 45,
   "id": "49cce12d-1d76-4107-b464-7a7ae4033630",
   "metadata": {},
   "outputs": [
    {
     "data": {
      "text/plain": [
       "(1, 2)"
      ]
     },
     "execution_count": 45,
     "metadata": {},
     "output_type": "execute_result"
    }
   ],
   "source": [
    "X_test.iloc[[1]].shape"
   ]
  },
  {
   "cell_type": "code",
   "execution_count": 46,
   "id": "c356ced0-aa2a-4b1d-8379-fe29a54f0ad6",
   "metadata": {},
   "outputs": [
    {
     "data": {
      "text/plain": [
       "(array([[0.03461517, 0.90722048, 0.90722048, 0.90970871, 0.90970871]]),\n",
       " array([[100,  39,  77, 130,  87]]))"
      ]
     },
     "execution_count": 46,
     "metadata": {},
     "output_type": "execute_result"
    }
   ],
   "source": [
    "nn = NearestNeighbors(n_neighbors=5)\n",
    "nn.fit(X_train);\n",
    "nn.kneighbors(X_test.iloc[[1]])"
   ]
  },
  {
   "cell_type": "code",
   "execution_count": null,
   "id": "4dbeca51-9540-4724-a8f6-11ca4e9729a7",
   "metadata": {},
   "outputs": [],
   "source": []
  }
 ],
 "metadata": {
  "kernelspec": {
   "display_name": "Python 3 (ipykernel)",
   "language": "python",
   "name": "python3"
  },
  "language_info": {
   "codemirror_mode": {
    "name": "ipython",
    "version": 3
   },
   "file_extension": ".py",
   "mimetype": "text/x-python",
   "name": "python",
   "nbconvert_exporter": "python",
   "pygments_lexer": "ipython3",
   "version": "3.10.8"
  }
 },
 "nbformat": 4,
 "nbformat_minor": 5
}
