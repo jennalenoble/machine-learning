{
 "cells": [
  {
   "cell_type": "markdown",
   "id": "f0b04fb8-f0b1-404a-91ae-6db5b166ba23",
   "metadata": {},
   "source": [
    "# Module 2: Decision Trees"
   ]
  },
  {
   "cell_type": "code",
   "execution_count": 1,
   "id": "9d322e8c-edcf-4fb9-8d99-b95367abcd65",
   "metadata": {},
   "outputs": [],
   "source": [
    "import pandas as pd\n",
    "import altair as alt"
   ]
  },
  {
   "cell_type": "code",
   "execution_count": 2,
   "id": "962fe53c-a111-4b37-b34d-7984d3e333e6",
   "metadata": {},
   "outputs": [
    {
     "data": {
      "text/html": [
       "<div>\n",
       "<style scoped>\n",
       "    .dataframe tbody tr th:only-of-type {\n",
       "        vertical-align: middle;\n",
       "    }\n",
       "\n",
       "    .dataframe tbody tr th {\n",
       "        vertical-align: top;\n",
       "    }\n",
       "\n",
       "    .dataframe thead th {\n",
       "        text-align: right;\n",
       "    }\n",
       "</style>\n",
       "<table border=\"1\" class=\"dataframe\">\n",
       "  <thead>\n",
       "    <tr style=\"text-align: right;\">\n",
       "      <th></th>\n",
       "      <th>ml_experience</th>\n",
       "      <th>class_attendance</th>\n",
       "      <th>lab1</th>\n",
       "      <th>lab2</th>\n",
       "      <th>lab3</th>\n",
       "      <th>lab4</th>\n",
       "      <th>quiz1</th>\n",
       "      <th>quiz2</th>\n",
       "    </tr>\n",
       "  </thead>\n",
       "  <tbody>\n",
       "    <tr>\n",
       "      <th>0</th>\n",
       "      <td>1</td>\n",
       "      <td>1</td>\n",
       "      <td>92</td>\n",
       "      <td>93</td>\n",
       "      <td>84</td>\n",
       "      <td>91</td>\n",
       "      <td>92</td>\n",
       "      <td>A+</td>\n",
       "    </tr>\n",
       "    <tr>\n",
       "      <th>1</th>\n",
       "      <td>1</td>\n",
       "      <td>0</td>\n",
       "      <td>94</td>\n",
       "      <td>90</td>\n",
       "      <td>80</td>\n",
       "      <td>83</td>\n",
       "      <td>91</td>\n",
       "      <td>not A+</td>\n",
       "    </tr>\n",
       "    <tr>\n",
       "      <th>2</th>\n",
       "      <td>0</td>\n",
       "      <td>0</td>\n",
       "      <td>78</td>\n",
       "      <td>85</td>\n",
       "      <td>83</td>\n",
       "      <td>80</td>\n",
       "      <td>80</td>\n",
       "      <td>not A+</td>\n",
       "    </tr>\n",
       "    <tr>\n",
       "      <th>3</th>\n",
       "      <td>0</td>\n",
       "      <td>1</td>\n",
       "      <td>91</td>\n",
       "      <td>94</td>\n",
       "      <td>92</td>\n",
       "      <td>91</td>\n",
       "      <td>89</td>\n",
       "      <td>A+</td>\n",
       "    </tr>\n",
       "    <tr>\n",
       "      <th>4</th>\n",
       "      <td>0</td>\n",
       "      <td>1</td>\n",
       "      <td>77</td>\n",
       "      <td>83</td>\n",
       "      <td>90</td>\n",
       "      <td>92</td>\n",
       "      <td>85</td>\n",
       "      <td>A+</td>\n",
       "    </tr>\n",
       "  </tbody>\n",
       "</table>\n",
       "</div>"
      ],
      "text/plain": [
       "   ml_experience  class_attendance  lab1  lab2  lab3  lab4  quiz1   quiz2\n",
       "0              1                 1    92    93    84    91     92      A+\n",
       "1              1                 0    94    90    80    83     91  not A+\n",
       "2              0                 0    78    85    83    80     80  not A+\n",
       "3              0                 1    91    94    92    91     89      A+\n",
       "4              0                 1    77    83    90    92     85      A+"
      ]
     },
     "execution_count": 2,
     "metadata": {},
     "output_type": "execute_result"
    }
   ],
   "source": [
    "classification_df = pd.read_csv(\"https://raw.githubusercontent.com/UBC-MDS/DSCI_571_sup-learn-1/master/lectures/data/quiz2-grade-toy-classification.csv\")\n",
    "classification_df.head()"
   ]
  },
  {
   "cell_type": "code",
   "execution_count": 3,
   "id": "896c1cf9-136f-4d4a-8f46-8238a9d392d1",
   "metadata": {},
   "outputs": [
    {
     "data": {
      "text/html": [
       "<div>\n",
       "<style scoped>\n",
       "    .dataframe tbody tr th:only-of-type {\n",
       "        vertical-align: middle;\n",
       "    }\n",
       "\n",
       "    .dataframe tbody tr th {\n",
       "        vertical-align: top;\n",
       "    }\n",
       "\n",
       "    .dataframe thead th {\n",
       "        text-align: right;\n",
       "    }\n",
       "</style>\n",
       "<table border=\"1\" class=\"dataframe\">\n",
       "  <thead>\n",
       "    <tr style=\"text-align: right;\">\n",
       "      <th></th>\n",
       "      <th>ml_experience</th>\n",
       "      <th>class_attendance</th>\n",
       "      <th>lab1</th>\n",
       "      <th>lab2</th>\n",
       "      <th>lab3</th>\n",
       "      <th>lab4</th>\n",
       "      <th>quiz1</th>\n",
       "    </tr>\n",
       "  </thead>\n",
       "  <tbody>\n",
       "    <tr>\n",
       "      <th>0</th>\n",
       "      <td>1</td>\n",
       "      <td>1</td>\n",
       "      <td>92</td>\n",
       "      <td>93</td>\n",
       "      <td>84</td>\n",
       "      <td>91</td>\n",
       "      <td>92</td>\n",
       "    </tr>\n",
       "    <tr>\n",
       "      <th>1</th>\n",
       "      <td>1</td>\n",
       "      <td>0</td>\n",
       "      <td>94</td>\n",
       "      <td>90</td>\n",
       "      <td>80</td>\n",
       "      <td>83</td>\n",
       "      <td>91</td>\n",
       "    </tr>\n",
       "    <tr>\n",
       "      <th>2</th>\n",
       "      <td>0</td>\n",
       "      <td>0</td>\n",
       "      <td>78</td>\n",
       "      <td>85</td>\n",
       "      <td>83</td>\n",
       "      <td>80</td>\n",
       "      <td>80</td>\n",
       "    </tr>\n",
       "    <tr>\n",
       "      <th>3</th>\n",
       "      <td>0</td>\n",
       "      <td>1</td>\n",
       "      <td>91</td>\n",
       "      <td>94</td>\n",
       "      <td>92</td>\n",
       "      <td>91</td>\n",
       "      <td>89</td>\n",
       "    </tr>\n",
       "    <tr>\n",
       "      <th>4</th>\n",
       "      <td>0</td>\n",
       "      <td>1</td>\n",
       "      <td>77</td>\n",
       "      <td>83</td>\n",
       "      <td>90</td>\n",
       "      <td>92</td>\n",
       "      <td>85</td>\n",
       "    </tr>\n",
       "  </tbody>\n",
       "</table>\n",
       "</div>"
      ],
      "text/plain": [
       "   ml_experience  class_attendance  lab1  lab2  lab3  lab4  quiz1\n",
       "0              1                 1    92    93    84    91     92\n",
       "1              1                 0    94    90    80    83     91\n",
       "2              0                 0    78    85    83    80     80\n",
       "3              0                 1    91    94    92    91     89\n",
       "4              0                 1    77    83    90    92     85"
      ]
     },
     "execution_count": 3,
     "metadata": {},
     "output_type": "execute_result"
    }
   ],
   "source": [
    "X = classification_df.drop(columns=[\"quiz2\"])\n",
    "X.head()"
   ]
  },
  {
   "cell_type": "code",
   "execution_count": 4,
   "id": "5546e939-9327-45f3-93c6-d40288cb73e4",
   "metadata": {},
   "outputs": [
    {
     "data": {
      "text/plain": [
       "0        A+\n",
       "1    not A+\n",
       "2    not A+\n",
       "3        A+\n",
       "4        A+\n",
       "Name: quiz2, dtype: object"
      ]
     },
     "execution_count": 4,
     "metadata": {},
     "output_type": "execute_result"
    }
   ],
   "source": [
    "y = classification_df[\"quiz2\"]\n",
    "y.head()"
   ]
  },
  {
   "cell_type": "code",
   "execution_count": 5,
   "id": "b946ca2d-b062-4e6c-8b3f-dabb6dd2abd8",
   "metadata": {},
   "outputs": [
    {
     "data": {
      "text/html": [
       "<div>\n",
       "<style scoped>\n",
       "    .dataframe tbody tr th:only-of-type {\n",
       "        vertical-align: middle;\n",
       "    }\n",
       "\n",
       "    .dataframe tbody tr th {\n",
       "        vertical-align: top;\n",
       "    }\n",
       "\n",
       "    .dataframe thead th {\n",
       "        text-align: right;\n",
       "    }\n",
       "</style>\n",
       "<table border=\"1\" class=\"dataframe\">\n",
       "  <thead>\n",
       "    <tr style=\"text-align: right;\">\n",
       "      <th></th>\n",
       "      <th>ml_experience</th>\n",
       "      <th>class_attendance</th>\n",
       "      <th>lab1</th>\n",
       "      <th>lab2</th>\n",
       "      <th>lab3</th>\n",
       "      <th>lab4</th>\n",
       "      <th>quiz1</th>\n",
       "    </tr>\n",
       "  </thead>\n",
       "  <tbody>\n",
       "    <tr>\n",
       "      <th>0</th>\n",
       "      <td>1</td>\n",
       "      <td>1</td>\n",
       "      <td>1</td>\n",
       "      <td>1</td>\n",
       "      <td>0</td>\n",
       "      <td>1</td>\n",
       "      <td>1</td>\n",
       "    </tr>\n",
       "    <tr>\n",
       "      <th>1</th>\n",
       "      <td>1</td>\n",
       "      <td>0</td>\n",
       "      <td>1</td>\n",
       "      <td>1</td>\n",
       "      <td>0</td>\n",
       "      <td>0</td>\n",
       "      <td>1</td>\n",
       "    </tr>\n",
       "    <tr>\n",
       "      <th>2</th>\n",
       "      <td>0</td>\n",
       "      <td>0</td>\n",
       "      <td>0</td>\n",
       "      <td>0</td>\n",
       "      <td>0</td>\n",
       "      <td>0</td>\n",
       "      <td>0</td>\n",
       "    </tr>\n",
       "    <tr>\n",
       "      <th>3</th>\n",
       "      <td>0</td>\n",
       "      <td>1</td>\n",
       "      <td>1</td>\n",
       "      <td>1</td>\n",
       "      <td>1</td>\n",
       "      <td>1</td>\n",
       "      <td>0</td>\n",
       "    </tr>\n",
       "    <tr>\n",
       "      <th>4</th>\n",
       "      <td>0</td>\n",
       "      <td>1</td>\n",
       "      <td>0</td>\n",
       "      <td>0</td>\n",
       "      <td>1</td>\n",
       "      <td>1</td>\n",
       "      <td>0</td>\n",
       "    </tr>\n",
       "  </tbody>\n",
       "</table>\n",
       "</div>"
      ],
      "text/plain": [
       "   ml_experience  class_attendance  lab1  lab2  lab3  lab4  quiz1\n",
       "0              1                 1     1     1     0     1      1\n",
       "1              1                 0     1     1     0     0      1\n",
       "2              0                 0     0     0     0     0      0\n",
       "3              0                 1     1     1     1     1      0\n",
       "4              0                 1     0     0     1     1      0"
      ]
     },
     "execution_count": 5,
     "metadata": {},
     "output_type": "execute_result"
    }
   ],
   "source": [
    "X_binary = X.copy()\n",
    "columns = [\"lab1\", \"lab2\", \"lab3\", \"lab4\", \"quiz1\"]\n",
    "for col in columns:\n",
    "    X_binary[col] =  X_binary[col].apply(lambda x: 1 if x >= 90 else 0)\n",
    "X_binary.head()"
   ]
  },
  {
   "cell_type": "code",
   "execution_count": 6,
   "id": "d093611d-1cb1-4979-a480-0eadfe7159c1",
   "metadata": {},
   "outputs": [],
   "source": [
    "from sklearn.tree import DecisionTreeClassifier"
   ]
  },
  {
   "cell_type": "code",
   "execution_count": 7,
   "id": "4e1e86e7-93b8-47c4-a67e-bd7d83cf13c3",
   "metadata": {},
   "outputs": [],
   "source": [
    "model = DecisionTreeClassifier()"
   ]
  },
  {
   "cell_type": "code",
   "execution_count": 8,
   "id": "c5ce0887-4f0e-452f-8a0a-92544bebb211",
   "metadata": {},
   "outputs": [],
   "source": [
    "model.fit(X_binary, y);"
   ]
  },
  {
   "cell_type": "code",
   "execution_count": 9,
   "id": "dd3c925e-2f24-4898-a829-3feabf65127d",
   "metadata": {},
   "outputs": [
    {
     "data": {
      "text/plain": [
       "array(['A+', 'not A+', 'not A+', 'A+', 'A+', 'not A+', 'A+', 'not A+',\n",
       "       'not A+', 'A+', 'A+', 'A+', 'A+', 'A+', 'A+', 'not A+', 'A+',\n",
       "       'not A+', 'not A+', 'not A+', 'A+'], dtype=object)"
      ]
     },
     "execution_count": 9,
     "metadata": {},
     "output_type": "execute_result"
    }
   ],
   "source": [
    "model.predict(X_binary)"
   ]
  },
  {
   "cell_type": "code",
   "execution_count": 10,
   "id": "ce7d137f-6995-4a09-887f-58ca3311bf0c",
   "metadata": {},
   "outputs": [
    {
     "data": {
      "text/plain": [
       "0.9047619047619048"
      ]
     },
     "execution_count": 10,
     "metadata": {},
     "output_type": "execute_result"
    }
   ],
   "source": [
    "model.score(X_binary, y)"
   ]
  },
  {
   "cell_type": "markdown",
   "id": "99194642-db53-4850-9b43-ec6d430730fa",
   "metadata": {
    "tags": []
   },
   "source": [
    "### Decision Trees with continuous features"
   ]
  },
  {
   "cell_type": "code",
   "execution_count": 11,
   "id": "9841d913-d12a-4409-88c4-8d12351a1001",
   "metadata": {},
   "outputs": [
    {
     "data": {
      "text/html": [
       "<div>\n",
       "<style scoped>\n",
       "    .dataframe tbody tr th:only-of-type {\n",
       "        vertical-align: middle;\n",
       "    }\n",
       "\n",
       "    .dataframe tbody tr th {\n",
       "        vertical-align: top;\n",
       "    }\n",
       "\n",
       "    .dataframe thead th {\n",
       "        text-align: right;\n",
       "    }\n",
       "</style>\n",
       "<table border=\"1\" class=\"dataframe\">\n",
       "  <thead>\n",
       "    <tr style=\"text-align: right;\">\n",
       "      <th></th>\n",
       "      <th>ml_experience</th>\n",
       "      <th>class_attendance</th>\n",
       "      <th>lab1</th>\n",
       "      <th>lab2</th>\n",
       "      <th>lab3</th>\n",
       "      <th>lab4</th>\n",
       "      <th>quiz1</th>\n",
       "    </tr>\n",
       "  </thead>\n",
       "  <tbody>\n",
       "    <tr>\n",
       "      <th>0</th>\n",
       "      <td>1</td>\n",
       "      <td>1</td>\n",
       "      <td>92</td>\n",
       "      <td>93</td>\n",
       "      <td>84</td>\n",
       "      <td>91</td>\n",
       "      <td>92</td>\n",
       "    </tr>\n",
       "    <tr>\n",
       "      <th>1</th>\n",
       "      <td>1</td>\n",
       "      <td>0</td>\n",
       "      <td>94</td>\n",
       "      <td>90</td>\n",
       "      <td>80</td>\n",
       "      <td>83</td>\n",
       "      <td>91</td>\n",
       "    </tr>\n",
       "    <tr>\n",
       "      <th>2</th>\n",
       "      <td>0</td>\n",
       "      <td>0</td>\n",
       "      <td>78</td>\n",
       "      <td>85</td>\n",
       "      <td>83</td>\n",
       "      <td>80</td>\n",
       "      <td>80</td>\n",
       "    </tr>\n",
       "    <tr>\n",
       "      <th>3</th>\n",
       "      <td>0</td>\n",
       "      <td>1</td>\n",
       "      <td>91</td>\n",
       "      <td>94</td>\n",
       "      <td>92</td>\n",
       "      <td>91</td>\n",
       "      <td>89</td>\n",
       "    </tr>\n",
       "    <tr>\n",
       "      <th>4</th>\n",
       "      <td>0</td>\n",
       "      <td>1</td>\n",
       "      <td>77</td>\n",
       "      <td>83</td>\n",
       "      <td>90</td>\n",
       "      <td>92</td>\n",
       "      <td>85</td>\n",
       "    </tr>\n",
       "  </tbody>\n",
       "</table>\n",
       "</div>"
      ],
      "text/plain": [
       "   ml_experience  class_attendance  lab1  lab2  lab3  lab4  quiz1\n",
       "0              1                 1    92    93    84    91     92\n",
       "1              1                 0    94    90    80    83     91\n",
       "2              0                 0    78    85    83    80     80\n",
       "3              0                 1    91    94    92    91     89\n",
       "4              0                 1    77    83    90    92     85"
      ]
     },
     "execution_count": 11,
     "metadata": {},
     "output_type": "execute_result"
    }
   ],
   "source": [
    "X.head()"
   ]
  },
  {
   "cell_type": "code",
   "execution_count": 12,
   "id": "130b9e0b-db28-4091-a705-c4329574e7bd",
   "metadata": {},
   "outputs": [],
   "source": [
    "model = DecisionTreeClassifier()"
   ]
  },
  {
   "cell_type": "code",
   "execution_count": 13,
   "id": "a70707d2-b45d-48ad-a158-33362d97e8b1",
   "metadata": {},
   "outputs": [
    {
     "data": {
      "text/html": [
       "<style>#sk-container-id-1 {color: black;background-color: white;}#sk-container-id-1 pre{padding: 0;}#sk-container-id-1 div.sk-toggleable {background-color: white;}#sk-container-id-1 label.sk-toggleable__label {cursor: pointer;display: block;width: 100%;margin-bottom: 0;padding: 0.3em;box-sizing: border-box;text-align: center;}#sk-container-id-1 label.sk-toggleable__label-arrow:before {content: \"▸\";float: left;margin-right: 0.25em;color: #696969;}#sk-container-id-1 label.sk-toggleable__label-arrow:hover:before {color: black;}#sk-container-id-1 div.sk-estimator:hover label.sk-toggleable__label-arrow:before {color: black;}#sk-container-id-1 div.sk-toggleable__content {max-height: 0;max-width: 0;overflow: hidden;text-align: left;background-color: #f0f8ff;}#sk-container-id-1 div.sk-toggleable__content pre {margin: 0.2em;color: black;border-radius: 0.25em;background-color: #f0f8ff;}#sk-container-id-1 input.sk-toggleable__control:checked~div.sk-toggleable__content {max-height: 200px;max-width: 100%;overflow: auto;}#sk-container-id-1 input.sk-toggleable__control:checked~label.sk-toggleable__label-arrow:before {content: \"▾\";}#sk-container-id-1 div.sk-estimator input.sk-toggleable__control:checked~label.sk-toggleable__label {background-color: #d4ebff;}#sk-container-id-1 div.sk-label input.sk-toggleable__control:checked~label.sk-toggleable__label {background-color: #d4ebff;}#sk-container-id-1 input.sk-hidden--visually {border: 0;clip: rect(1px 1px 1px 1px);clip: rect(1px, 1px, 1px, 1px);height: 1px;margin: -1px;overflow: hidden;padding: 0;position: absolute;width: 1px;}#sk-container-id-1 div.sk-estimator {font-family: monospace;background-color: #f0f8ff;border: 1px dotted black;border-radius: 0.25em;box-sizing: border-box;margin-bottom: 0.5em;}#sk-container-id-1 div.sk-estimator:hover {background-color: #d4ebff;}#sk-container-id-1 div.sk-parallel-item::after {content: \"\";width: 100%;border-bottom: 1px solid gray;flex-grow: 1;}#sk-container-id-1 div.sk-label:hover label.sk-toggleable__label {background-color: #d4ebff;}#sk-container-id-1 div.sk-serial::before {content: \"\";position: absolute;border-left: 1px solid gray;box-sizing: border-box;top: 0;bottom: 0;left: 50%;z-index: 0;}#sk-container-id-1 div.sk-serial {display: flex;flex-direction: column;align-items: center;background-color: white;padding-right: 0.2em;padding-left: 0.2em;position: relative;}#sk-container-id-1 div.sk-item {position: relative;z-index: 1;}#sk-container-id-1 div.sk-parallel {display: flex;align-items: stretch;justify-content: center;background-color: white;position: relative;}#sk-container-id-1 div.sk-item::before, #sk-container-id-1 div.sk-parallel-item::before {content: \"\";position: absolute;border-left: 1px solid gray;box-sizing: border-box;top: 0;bottom: 0;left: 50%;z-index: -1;}#sk-container-id-1 div.sk-parallel-item {display: flex;flex-direction: column;z-index: 1;position: relative;background-color: white;}#sk-container-id-1 div.sk-parallel-item:first-child::after {align-self: flex-end;width: 50%;}#sk-container-id-1 div.sk-parallel-item:last-child::after {align-self: flex-start;width: 50%;}#sk-container-id-1 div.sk-parallel-item:only-child::after {width: 0;}#sk-container-id-1 div.sk-dashed-wrapped {border: 1px dashed gray;margin: 0 0.4em 0.5em 0.4em;box-sizing: border-box;padding-bottom: 0.4em;background-color: white;}#sk-container-id-1 div.sk-label label {font-family: monospace;font-weight: bold;display: inline-block;line-height: 1.2em;}#sk-container-id-1 div.sk-label-container {text-align: center;}#sk-container-id-1 div.sk-container {/* jupyter's `normalize.less` sets `[hidden] { display: none; }` but bootstrap.min.css set `[hidden] { display: none !important; }` so we also need the `!important` here to be able to override the default hidden behavior on the sphinx rendered scikit-learn.org. See: https://github.com/scikit-learn/scikit-learn/issues/21755 */display: inline-block !important;position: relative;}#sk-container-id-1 div.sk-text-repr-fallback {display: none;}</style><div id=\"sk-container-id-1\" class=\"sk-top-container\"><div class=\"sk-text-repr-fallback\"><pre>DecisionTreeClassifier()</pre><b>In a Jupyter environment, please rerun this cell to show the HTML representation or trust the notebook. <br />On GitHub, the HTML representation is unable to render, please try loading this page with nbviewer.org.</b></div><div class=\"sk-container\" hidden><div class=\"sk-item\"><div class=\"sk-estimator sk-toggleable\"><input class=\"sk-toggleable__control sk-hidden--visually\" id=\"sk-estimator-id-1\" type=\"checkbox\" checked><label for=\"sk-estimator-id-1\" class=\"sk-toggleable__label sk-toggleable__label-arrow\">DecisionTreeClassifier</label><div class=\"sk-toggleable__content\"><pre>DecisionTreeClassifier()</pre></div></div></div></div></div>"
      ],
      "text/plain": [
       "DecisionTreeClassifier()"
      ]
     },
     "execution_count": 13,
     "metadata": {},
     "output_type": "execute_result"
    }
   ],
   "source": [
    "model.fit(X, y)"
   ]
  },
  {
   "cell_type": "code",
   "execution_count": 14,
   "id": "449ab591-3804-4a41-aef9-060242b5ff71",
   "metadata": {},
   "outputs": [
    {
     "data": {
      "text/plain": [
       "array(['A+', 'not A+', 'not A+', 'A+', 'A+', 'not A+', 'A+', 'not A+',\n",
       "       'not A+', 'not A+', 'A+', 'A+', 'A+', 'A+', 'not A+', 'not A+',\n",
       "       'A+', 'not A+', 'not A+', 'not A+', 'A+'], dtype=object)"
      ]
     },
     "execution_count": 14,
     "metadata": {},
     "output_type": "execute_result"
    }
   ],
   "source": [
    "model.predict(X)"
   ]
  },
  {
   "cell_type": "code",
   "execution_count": 15,
   "id": "0dfc11cd-a8f8-4359-ad77-6bd14cf8533c",
   "metadata": {},
   "outputs": [
    {
     "data": {
      "text/html": [
       "<div>\n",
       "<style scoped>\n",
       "    .dataframe tbody tr th:only-of-type {\n",
       "        vertical-align: middle;\n",
       "    }\n",
       "\n",
       "    .dataframe tbody tr th {\n",
       "        vertical-align: top;\n",
       "    }\n",
       "\n",
       "    .dataframe thead th {\n",
       "        text-align: right;\n",
       "    }\n",
       "</style>\n",
       "<table border=\"1\" class=\"dataframe\">\n",
       "  <thead>\n",
       "    <tr style=\"text-align: right;\">\n",
       "      <th></th>\n",
       "      <th>lab4</th>\n",
       "      <th>quiz1</th>\n",
       "    </tr>\n",
       "  </thead>\n",
       "  <tbody>\n",
       "    <tr>\n",
       "      <th>0</th>\n",
       "      <td>91</td>\n",
       "      <td>92</td>\n",
       "    </tr>\n",
       "    <tr>\n",
       "      <th>1</th>\n",
       "      <td>83</td>\n",
       "      <td>91</td>\n",
       "    </tr>\n",
       "    <tr>\n",
       "      <th>2</th>\n",
       "      <td>80</td>\n",
       "      <td>80</td>\n",
       "    </tr>\n",
       "    <tr>\n",
       "      <th>3</th>\n",
       "      <td>91</td>\n",
       "      <td>89</td>\n",
       "    </tr>\n",
       "    <tr>\n",
       "      <th>4</th>\n",
       "      <td>92</td>\n",
       "      <td>85</td>\n",
       "    </tr>\n",
       "  </tbody>\n",
       "</table>\n",
       "</div>"
      ],
      "text/plain": [
       "   lab4  quiz1\n",
       "0    91     92\n",
       "1    83     91\n",
       "2    80     80\n",
       "3    91     89\n",
       "4    92     85"
      ]
     },
     "execution_count": 15,
     "metadata": {},
     "output_type": "execute_result"
    }
   ],
   "source": [
    "X_subset = X[[\"lab4\", \"quiz1\"]]\n",
    "X_subset.head()"
   ]
  },
  {
   "cell_type": "code",
   "execution_count": 16,
   "id": "fab90585-2265-4fab-97ca-6bc376680bdb",
   "metadata": {},
   "outputs": [
    {
     "data": {
      "text/html": [
       "<style>#sk-container-id-2 {color: black;background-color: white;}#sk-container-id-2 pre{padding: 0;}#sk-container-id-2 div.sk-toggleable {background-color: white;}#sk-container-id-2 label.sk-toggleable__label {cursor: pointer;display: block;width: 100%;margin-bottom: 0;padding: 0.3em;box-sizing: border-box;text-align: center;}#sk-container-id-2 label.sk-toggleable__label-arrow:before {content: \"▸\";float: left;margin-right: 0.25em;color: #696969;}#sk-container-id-2 label.sk-toggleable__label-arrow:hover:before {color: black;}#sk-container-id-2 div.sk-estimator:hover label.sk-toggleable__label-arrow:before {color: black;}#sk-container-id-2 div.sk-toggleable__content {max-height: 0;max-width: 0;overflow: hidden;text-align: left;background-color: #f0f8ff;}#sk-container-id-2 div.sk-toggleable__content pre {margin: 0.2em;color: black;border-radius: 0.25em;background-color: #f0f8ff;}#sk-container-id-2 input.sk-toggleable__control:checked~div.sk-toggleable__content {max-height: 200px;max-width: 100%;overflow: auto;}#sk-container-id-2 input.sk-toggleable__control:checked~label.sk-toggleable__label-arrow:before {content: \"▾\";}#sk-container-id-2 div.sk-estimator input.sk-toggleable__control:checked~label.sk-toggleable__label {background-color: #d4ebff;}#sk-container-id-2 div.sk-label input.sk-toggleable__control:checked~label.sk-toggleable__label {background-color: #d4ebff;}#sk-container-id-2 input.sk-hidden--visually {border: 0;clip: rect(1px 1px 1px 1px);clip: rect(1px, 1px, 1px, 1px);height: 1px;margin: -1px;overflow: hidden;padding: 0;position: absolute;width: 1px;}#sk-container-id-2 div.sk-estimator {font-family: monospace;background-color: #f0f8ff;border: 1px dotted black;border-radius: 0.25em;box-sizing: border-box;margin-bottom: 0.5em;}#sk-container-id-2 div.sk-estimator:hover {background-color: #d4ebff;}#sk-container-id-2 div.sk-parallel-item::after {content: \"\";width: 100%;border-bottom: 1px solid gray;flex-grow: 1;}#sk-container-id-2 div.sk-label:hover label.sk-toggleable__label {background-color: #d4ebff;}#sk-container-id-2 div.sk-serial::before {content: \"\";position: absolute;border-left: 1px solid gray;box-sizing: border-box;top: 0;bottom: 0;left: 50%;z-index: 0;}#sk-container-id-2 div.sk-serial {display: flex;flex-direction: column;align-items: center;background-color: white;padding-right: 0.2em;padding-left: 0.2em;position: relative;}#sk-container-id-2 div.sk-item {position: relative;z-index: 1;}#sk-container-id-2 div.sk-parallel {display: flex;align-items: stretch;justify-content: center;background-color: white;position: relative;}#sk-container-id-2 div.sk-item::before, #sk-container-id-2 div.sk-parallel-item::before {content: \"\";position: absolute;border-left: 1px solid gray;box-sizing: border-box;top: 0;bottom: 0;left: 50%;z-index: -1;}#sk-container-id-2 div.sk-parallel-item {display: flex;flex-direction: column;z-index: 1;position: relative;background-color: white;}#sk-container-id-2 div.sk-parallel-item:first-child::after {align-self: flex-end;width: 50%;}#sk-container-id-2 div.sk-parallel-item:last-child::after {align-self: flex-start;width: 50%;}#sk-container-id-2 div.sk-parallel-item:only-child::after {width: 0;}#sk-container-id-2 div.sk-dashed-wrapped {border: 1px dashed gray;margin: 0 0.4em 0.5em 0.4em;box-sizing: border-box;padding-bottom: 0.4em;background-color: white;}#sk-container-id-2 div.sk-label label {font-family: monospace;font-weight: bold;display: inline-block;line-height: 1.2em;}#sk-container-id-2 div.sk-label-container {text-align: center;}#sk-container-id-2 div.sk-container {/* jupyter's `normalize.less` sets `[hidden] { display: none; }` but bootstrap.min.css set `[hidden] { display: none !important; }` so we also need the `!important` here to be able to override the default hidden behavior on the sphinx rendered scikit-learn.org. See: https://github.com/scikit-learn/scikit-learn/issues/21755 */display: inline-block !important;position: relative;}#sk-container-id-2 div.sk-text-repr-fallback {display: none;}</style><div id=\"sk-container-id-2\" class=\"sk-top-container\"><div class=\"sk-text-repr-fallback\"><pre>DecisionTreeClassifier(max_depth=1)</pre><b>In a Jupyter environment, please rerun this cell to show the HTML representation or trust the notebook. <br />On GitHub, the HTML representation is unable to render, please try loading this page with nbviewer.org.</b></div><div class=\"sk-container\" hidden><div class=\"sk-item\"><div class=\"sk-estimator sk-toggleable\"><input class=\"sk-toggleable__control sk-hidden--visually\" id=\"sk-estimator-id-2\" type=\"checkbox\" checked><label for=\"sk-estimator-id-2\" class=\"sk-toggleable__label sk-toggleable__label-arrow\">DecisionTreeClassifier</label><div class=\"sk-toggleable__content\"><pre>DecisionTreeClassifier(max_depth=1)</pre></div></div></div></div></div>"
      ],
      "text/plain": [
       "DecisionTreeClassifier(max_depth=1)"
      ]
     },
     "execution_count": 16,
     "metadata": {},
     "output_type": "execute_result"
    }
   ],
   "source": [
    "depth = 1\n",
    "model = DecisionTreeClassifier(max_depth=depth)\n",
    "model.fit(X_subset, y)"
   ]
  },
  {
   "cell_type": "code",
   "execution_count": 17,
   "id": "ddcea65a-0978-4302-8234-37e2d2a5e491",
   "metadata": {},
   "outputs": [
    {
     "data": {
      "text/html": [
       "<div>\n",
       "<style scoped>\n",
       "    .dataframe tbody tr th:only-of-type {\n",
       "        vertical-align: middle;\n",
       "    }\n",
       "\n",
       "    .dataframe tbody tr th {\n",
       "        vertical-align: top;\n",
       "    }\n",
       "\n",
       "    .dataframe thead th {\n",
       "        text-align: right;\n",
       "    }\n",
       "</style>\n",
       "<table border=\"1\" class=\"dataframe\">\n",
       "  <thead>\n",
       "    <tr style=\"text-align: right;\">\n",
       "      <th></th>\n",
       "      <th>longitude</th>\n",
       "      <th>latitude</th>\n",
       "      <th>country</th>\n",
       "    </tr>\n",
       "  </thead>\n",
       "  <tbody>\n",
       "    <tr>\n",
       "      <th>0</th>\n",
       "      <td>-130.0437</td>\n",
       "      <td>55.9773</td>\n",
       "      <td>USA</td>\n",
       "    </tr>\n",
       "    <tr>\n",
       "      <th>1</th>\n",
       "      <td>-134.4197</td>\n",
       "      <td>58.3019</td>\n",
       "      <td>USA</td>\n",
       "    </tr>\n",
       "    <tr>\n",
       "      <th>2</th>\n",
       "      <td>-123.0780</td>\n",
       "      <td>48.9854</td>\n",
       "      <td>USA</td>\n",
       "    </tr>\n",
       "    <tr>\n",
       "      <th>3</th>\n",
       "      <td>-122.7436</td>\n",
       "      <td>48.9881</td>\n",
       "      <td>USA</td>\n",
       "    </tr>\n",
       "    <tr>\n",
       "      <th>4</th>\n",
       "      <td>-122.2691</td>\n",
       "      <td>48.9951</td>\n",
       "      <td>USA</td>\n",
       "    </tr>\n",
       "  </tbody>\n",
       "</table>\n",
       "</div>"
      ],
      "text/plain": [
       "   longitude  latitude country\n",
       "0  -130.0437   55.9773     USA\n",
       "1  -134.4197   58.3019     USA\n",
       "2  -123.0780   48.9854     USA\n",
       "3  -122.7436   48.9881     USA\n",
       "4  -122.2691   48.9951     USA"
      ]
     },
     "execution_count": 17,
     "metadata": {},
     "output_type": "execute_result"
    }
   ],
   "source": [
    "df = pd.read_csv(\"https://raw.githubusercontent.com/UBC-MDS/DSCI_571_sup-learn-1/master/lectures/data/canada_usa_cities.csv\")\n",
    "df.head()"
   ]
  },
  {
   "cell_type": "code",
   "execution_count": 18,
   "id": "376bc0a2-58ff-4e0e-a0ef-a9ba2a1fa407",
   "metadata": {},
   "outputs": [
    {
     "data": {
      "text/html": [
       "\n",
       "<style>\n",
       "  #altair-viz-31ea375a428c43519ad69c0cbb12fd46.vega-embed {\n",
       "    width: 100%;\n",
       "    display: flex;\n",
       "  }\n",
       "\n",
       "  #altair-viz-31ea375a428c43519ad69c0cbb12fd46.vega-embed details,\n",
       "  #altair-viz-31ea375a428c43519ad69c0cbb12fd46.vega-embed details summary {\n",
       "    position: relative;\n",
       "  }\n",
       "</style>\n",
       "<div id=\"altair-viz-31ea375a428c43519ad69c0cbb12fd46\"></div>\n",
       "<script type=\"text/javascript\">\n",
       "  var VEGA_DEBUG = (typeof VEGA_DEBUG == \"undefined\") ? {} : VEGA_DEBUG;\n",
       "  (function(spec, embedOpt){\n",
       "    let outputDiv = document.currentScript.previousElementSibling;\n",
       "    if (outputDiv.id !== \"altair-viz-31ea375a428c43519ad69c0cbb12fd46\") {\n",
       "      outputDiv = document.getElementById(\"altair-viz-31ea375a428c43519ad69c0cbb12fd46\");\n",
       "    }\n",
       "    const paths = {\n",
       "      \"vega\": \"https://cdn.jsdelivr.net/npm/vega@5?noext\",\n",
       "      \"vega-lib\": \"https://cdn.jsdelivr.net/npm/vega-lib?noext\",\n",
       "      \"vega-lite\": \"https://cdn.jsdelivr.net/npm/vega-lite@5.8.0?noext\",\n",
       "      \"vega-embed\": \"https://cdn.jsdelivr.net/npm/vega-embed@6?noext\",\n",
       "    };\n",
       "\n",
       "    function maybeLoadScript(lib, version) {\n",
       "      var key = `${lib.replace(\"-\", \"\")}_version`;\n",
       "      return (VEGA_DEBUG[key] == version) ?\n",
       "        Promise.resolve(paths[lib]) :\n",
       "        new Promise(function(resolve, reject) {\n",
       "          var s = document.createElement('script');\n",
       "          document.getElementsByTagName(\"head\")[0].appendChild(s);\n",
       "          s.async = true;\n",
       "          s.onload = () => {\n",
       "            VEGA_DEBUG[key] = version;\n",
       "            return resolve(paths[lib]);\n",
       "          };\n",
       "          s.onerror = () => reject(`Error loading script: ${paths[lib]}`);\n",
       "          s.src = paths[lib];\n",
       "        });\n",
       "    }\n",
       "\n",
       "    function showError(err) {\n",
       "      outputDiv.innerHTML = `<div class=\"error\" style=\"color:red;\">${err}</div>`;\n",
       "      throw err;\n",
       "    }\n",
       "\n",
       "    function displayChart(vegaEmbed) {\n",
       "      vegaEmbed(outputDiv, spec, embedOpt)\n",
       "        .catch(err => showError(`Javascript Error: ${err.message}<br>This usually means there's a typo in your chart specification. See the javascript console for the full traceback.`));\n",
       "    }\n",
       "\n",
       "    if(typeof define === \"function\" && define.amd) {\n",
       "      requirejs.config({paths});\n",
       "      require([\"vega-embed\"], displayChart, err => showError(`Error loading script: ${err.message}`));\n",
       "    } else {\n",
       "      maybeLoadScript(\"vega\", \"5\")\n",
       "        .then(() => maybeLoadScript(\"vega-lite\", \"5.8.0\"))\n",
       "        .then(() => maybeLoadScript(\"vega-embed\", \"6\"))\n",
       "        .catch(showError)\n",
       "        .then(() => displayChart(vegaEmbed));\n",
       "    }\n",
       "  })({\"config\": {\"view\": {\"continuousWidth\": 300, \"continuousHeight\": 300}}, \"data\": {\"name\": \"data-35ac1f4ff8f0ccc6ae1bed0552485cad\"}, \"mark\": {\"type\": \"circle\", \"opacity\": 0.6, \"size\": 20}, \"encoding\": {\"color\": {\"field\": \"country\", \"scale\": {\"domain\": [\"Canada\", \"USA\"], \"range\": [\"red\", \"blue\"]}, \"type\": \"nominal\"}, \"x\": {\"axis\": {\"grid\": false}, \"field\": \"longitude\", \"scale\": {\"domain\": [-140, -40]}, \"type\": \"quantitative\"}, \"y\": {\"axis\": {\"grid\": false}, \"field\": \"latitude\", \"scale\": {\"domain\": [20, 60]}, \"type\": \"quantitative\"}}, \"$schema\": \"https://vega.github.io/schema/vega-lite/v5.8.0.json\", \"datasets\": {\"data-35ac1f4ff8f0ccc6ae1bed0552485cad\": [{\"longitude\": -130.0437, \"latitude\": 55.9773, \"country\": \"USA\"}, {\"longitude\": -134.4197, \"latitude\": 58.3019, \"country\": \"USA\"}, {\"longitude\": -123.078, \"latitude\": 48.9854, \"country\": \"USA\"}, {\"longitude\": -122.7436, \"latitude\": 48.9881, \"country\": \"USA\"}, {\"longitude\": -122.2691, \"latitude\": 48.9951, \"country\": \"USA\"}, {\"longitude\": -111.9626, \"latitude\": 48.9971, \"country\": \"USA\"}, {\"longitude\": -102.5496, \"latitude\": 48.9959, \"country\": \"USA\"}, {\"longitude\": -97.5533, \"latitude\": 48.7531, \"country\": \"USA\"}, {\"longitude\": -97.2049, \"latitude\": 48.9988, \"country\": \"USA\"}, {\"longitude\": -94.6002, \"latitude\": 48.7124, \"country\": \"USA\"}, {\"longitude\": -93.411, \"latitude\": 48.601, \"country\": \"USA\"}, {\"longitude\": -84.3593, \"latitude\": 46.4906, \"country\": \"USA\"}, {\"longitude\": -82.4405, \"latitude\": 42.9816, \"country\": \"USA\"}, {\"longitude\": -83.0466, \"latitude\": 42.3316, \"country\": \"USA\"}, {\"longitude\": -78.8784, \"latitude\": 42.8867, \"country\": \"USA\"}, {\"longitude\": -79.0615, \"latitude\": 43.0844, \"country\": \"USA\"}, {\"longitude\": -79.0359, \"latitude\": 43.1726, \"country\": \"USA\"}, {\"longitude\": -76.3305, \"latitude\": 44.1255, \"country\": \"USA\"}, {\"longitude\": -75.4864, \"latitude\": 44.6943, \"country\": \"USA\"}, {\"longitude\": -74.8921, \"latitude\": 44.9281, \"country\": \"USA\"}, {\"longitude\": -72.1064, \"latitude\": 45.0004, \"country\": \"USA\"}, {\"longitude\": -71.7961, \"latitude\": 45.0095, \"country\": \"USA\"}, {\"longitude\": -69.2275, \"latitude\": 47.4562, \"country\": \"USA\"}, {\"longitude\": -68.5897, \"latitude\": 47.2587, \"country\": \"USA\"}, {\"longitude\": -68.3219, \"latitude\": 47.3556, \"country\": \"USA\"}, {\"longitude\": -67.9353, \"latitude\": 47.1575, \"country\": \"USA\"}, {\"longitude\": -67.8408, \"latitude\": 46.1251, \"country\": \"USA\"}, {\"longitude\": -67.4297, \"latitude\": 45.5634, \"country\": \"USA\"}, {\"longitude\": -67.2781, \"latitude\": 45.189, \"country\": \"USA\"}, {\"longitude\": -66.9905, \"latitude\": 44.9065, \"country\": \"USA\"}, {\"longitude\": -66.9843, \"latitude\": 44.8607, \"country\": \"USA\"}, {\"longitude\": -74.006, \"latitude\": 40.7127, \"country\": \"USA\"}, {\"longitude\": -118.2428, \"latitude\": 34.0537, \"country\": \"USA\"}, {\"longitude\": -87.6244, \"latitude\": 41.8756, \"country\": \"USA\"}, {\"longitude\": -95.3677, \"latitude\": 29.7589, \"country\": \"USA\"}, {\"longitude\": -112.0741, \"latitude\": 33.4484, \"country\": \"USA\"}, {\"longitude\": -75.1635, \"latitude\": 39.9527, \"country\": \"USA\"}, {\"longitude\": -98.4951, \"latitude\": 29.4246, \"country\": \"USA\"}, {\"longitude\": -117.1628, \"latitude\": 32.7174, \"country\": \"USA\"}, {\"longitude\": -96.7969, \"latitude\": 32.7763, \"country\": \"USA\"}, {\"longitude\": -121.8906, \"latitude\": 37.3362, \"country\": \"USA\"}, {\"longitude\": -97.7437, \"latitude\": 30.2711, \"country\": \"USA\"}, {\"longitude\": -81.6557, \"latitude\": 30.3322, \"country\": \"USA\"}, {\"longitude\": -97.3327, \"latitude\": 32.7532, \"country\": \"USA\"}, {\"longitude\": -83.0007, \"latitude\": 39.9623, \"country\": \"USA\"}, {\"longitude\": -80.8431, \"latitude\": 35.2272, \"country\": \"USA\"}, {\"longitude\": -122.4199, \"latitude\": 37.779, \"country\": \"USA\"}, {\"longitude\": -86.1584, \"latitude\": 39.7683, \"country\": \"USA\"}, {\"longitude\": -122.3301, \"latitude\": 47.6038, \"country\": \"USA\"}, {\"longitude\": -104.9849, \"latitude\": 39.7392, \"country\": \"USA\"}, {\"longitude\": -77.0366, \"latitude\": 38.895, \"country\": \"USA\"}, {\"longitude\": -71.0583, \"latitude\": 42.3603, \"country\": \"USA\"}, {\"longitude\": -106.4646, \"latitude\": 31.7754, \"country\": \"USA\"}, {\"longitude\": -86.7744, \"latitude\": 36.1622, \"country\": \"USA\"}, {\"longitude\": -83.0466, \"latitude\": 42.3316, \"country\": \"USA\"}, {\"longitude\": -97.5171, \"latitude\": 35.473, \"country\": \"USA\"}, {\"longitude\": -122.6742, \"latitude\": 45.5202, \"country\": \"USA\"}, {\"longitude\": -115.1485, \"latitude\": 36.1673, \"country\": \"USA\"}, {\"longitude\": -90.0516, \"latitude\": 35.149, \"country\": \"USA\"}, {\"longitude\": -85.7039, \"latitude\": 38.2092, \"country\": \"USA\"}, {\"longitude\": -76.6108, \"latitude\": 39.2909, \"country\": \"USA\"}, {\"longitude\": -87.9225, \"latitude\": 43.035, \"country\": \"USA\"}, {\"longitude\": -106.651, \"latitude\": 35.0841, \"country\": \"USA\"}, {\"longitude\": -110.9748, \"latitude\": 32.2229, \"country\": \"USA\"}, {\"longitude\": -119.7848, \"latitude\": 36.7394, \"country\": \"USA\"}, {\"longitude\": -111.8315, \"latitude\": 33.4151, \"country\": \"USA\"}, {\"longitude\": -121.4944, \"latitude\": 38.5816, \"country\": \"USA\"}, {\"longitude\": -84.3902, \"latitude\": 33.7491, \"country\": \"USA\"}, {\"longitude\": -94.5781, \"latitude\": 39.1001, \"country\": \"USA\"}, {\"longitude\": -104.8253, \"latitude\": 38.834, \"country\": \"USA\"}, {\"longitude\": -95.9384, \"latitude\": 41.2587, \"country\": \"USA\"}, {\"longitude\": -78.6391, \"latitude\": 35.7804, \"country\": \"USA\"}, {\"longitude\": -80.1937, \"latitude\": 25.7743, \"country\": \"USA\"}, {\"longitude\": -118.1916, \"latitude\": 33.769, \"country\": \"USA\"}, {\"longitude\": -75.9774, \"latitude\": 36.853, \"country\": \"USA\"}, {\"longitude\": -122.2714, \"latitude\": 37.8045, \"country\": \"USA\"}, {\"longitude\": -93.2655, \"latitude\": 44.9773, \"country\": \"USA\"}, {\"longitude\": -95.9929, \"latitude\": 36.1557, \"country\": \"USA\"}, {\"longitude\": -82.4584, \"latitude\": 27.9478, \"country\": \"USA\"}, {\"longitude\": -97.1056, \"latitude\": 32.7019, \"country\": \"USA\"}, {\"longitude\": -90.0701, \"latitude\": 29.9499, \"country\": \"USA\"}, {\"longitude\": -129.9912, \"latitude\": 55.9383, \"country\": \"Canada\"}, {\"longitude\": -123.0833, \"latitude\": 49.0167, \"country\": \"Canada\"}, {\"longitude\": -122.8491, \"latitude\": 49.1913, \"country\": \"Canada\"}, {\"longitude\": -122.3295, \"latitude\": 49.0521, \"country\": \"Canada\"}, {\"longitude\": -111.9639, \"latitude\": 49.0017, \"country\": \"Canada\"}, {\"longitude\": -102.548, \"latitude\": 49.0014, \"country\": \"Canada\"}, {\"longitude\": -97.2089, \"latitude\": 49.0061, \"country\": \"Canada\"}, {\"longitude\": -94.5648, \"latitude\": 48.7227, \"country\": \"Canada\"}, {\"longitude\": -93.3968, \"latitude\": 48.6114, \"country\": \"Canada\"}, {\"longitude\": -84.3201, \"latitude\": 46.5239, \"country\": \"Canada\"}, {\"longitude\": -82.4066, \"latitude\": 42.9746, \"country\": \"Canada\"}, {\"longitude\": -83.0353, \"latitude\": 42.3171, \"country\": \"Canada\"}, {\"longitude\": -78.9186, \"latitude\": 42.9131, \"country\": \"Canada\"}, {\"longitude\": -79.1153, \"latitude\": 43.101, \"country\": \"Canada\"}, {\"longitude\": -79.0546, \"latitude\": 43.1642, \"country\": \"Canada\"}, {\"longitude\": -76.3019, \"latitude\": 44.211, \"country\": \"Canada\"}, {\"longitude\": -75.5192, \"latitude\": 44.7184, \"country\": \"Canada\"}, {\"longitude\": -74.7287, \"latitude\": 45.0184, \"country\": \"Canada\"}, {\"longitude\": -72.0968, \"latitude\": 45.0072, \"country\": \"Canada\"}, {\"longitude\": -71.7985, \"latitude\": 45.0126, \"country\": \"Canada\"}, {\"longitude\": -69.265, \"latitude\": 47.5052, \"country\": \"Canada\"}, {\"longitude\": -68.6034, \"latitude\": 47.2527, \"country\": \"Canada\"}, {\"longitude\": -68.3281, \"latitude\": 47.3644, \"country\": \"Canada\"}, {\"longitude\": -67.9245, \"latitude\": 47.1652, \"country\": \"Canada\"}, {\"longitude\": -67.5735, \"latitude\": 46.1503, \"country\": \"Canada\"}, {\"longitude\": -67.4253, \"latitude\": 45.5672, \"country\": \"Canada\"}, {\"longitude\": -67.2799, \"latitude\": 45.2004, \"country\": \"Canada\"}, {\"longitude\": -66.9861, \"latitude\": 44.9762, \"country\": \"Canada\"}, {\"longitude\": -66.9195, \"latitude\": 44.8938, \"country\": \"Canada\"}, {\"longitude\": -79.3839, \"latitude\": 43.6535, \"country\": \"Canada\"}, {\"longitude\": -73.6104, \"latitude\": 45.4972, \"country\": \"Canada\"}, {\"longitude\": -114.0626, \"latitude\": 51.0534, \"country\": \"Canada\"}, {\"longitude\": -75.6903, \"latitude\": 45.4211, \"country\": \"Canada\"}, {\"longitude\": -113.508, \"latitude\": 53.5354, \"country\": \"Canada\"}, {\"longitude\": -79.6457, \"latitude\": 43.5903, \"country\": \"Canada\"}, {\"longitude\": -97.1385, \"latitude\": 49.8955, \"country\": \"Canada\"}, {\"longitude\": -123.114, \"latitude\": 49.2609, \"country\": \"Canada\"}, {\"longitude\": -79.7599, \"latitude\": 43.6858, \"country\": \"Canada\"}, {\"longitude\": -79.8729, \"latitude\": 43.2561, \"country\": \"Canada\"}, {\"longitude\": -71.2352, \"latitude\": 46.826, \"country\": \"Canada\"}, {\"longitude\": -79.8729, \"latitude\": 43.2561, \"country\": \"Canada\"}, {\"longitude\": -79.7599, \"latitude\": 43.6858, \"country\": \"Canada\"}, {\"longitude\": -122.8491, \"latitude\": 49.1913, \"country\": \"Canada\"}, {\"longitude\": -73.7344, \"latitude\": 45.6056, \"country\": \"Canada\"}, {\"longitude\": -63.5859, \"latitude\": 44.6486, \"country\": \"Canada\"}, {\"longitude\": -79.5656, \"latitude\": 43.6436, \"country\": \"Canada\"}, {\"longitude\": -81.2496, \"latitude\": 42.9837, \"country\": \"Canada\"}, {\"longitude\": -118.7148, \"latitude\": 50.4165, \"country\": \"Canada\"}, {\"longitude\": -123.365, \"latitude\": 48.4283, \"country\": \"Canada\"}, {\"longitude\": -83.0353, \"latitude\": 42.3171, \"country\": \"Canada\"}, {\"longitude\": -79.3377, \"latitude\": 43.8564, \"country\": \"Canada\"}, {\"longitude\": -78.863, \"latitude\": 43.9177, \"country\": \"Canada\"}, {\"longitude\": -75.7106, \"latitude\": 45.4284, \"country\": \"Canada\"}, {\"longitude\": -79.5268, \"latitude\": 43.7942, \"country\": \"Canada\"}, {\"longitude\": -80.4944, \"latitude\": 43.4532, \"country\": \"Canada\"}, {\"longitude\": -73.4467, \"latitude\": 45.5172, \"country\": \"Canada\"}, {\"longitude\": -122.9725, \"latitude\": 49.2434, \"country\": \"Canada\"}, {\"longitude\": -123.0833, \"latitude\": 49.0833, \"country\": \"Canada\"}, {\"longitude\": -106.6608, \"latitude\": 52.1318, \"country\": \"Canada\"}, {\"longitude\": -79.4394, \"latitude\": 43.8801, \"country\": \"Canada\"}, {\"longitude\": -79.6902, \"latitude\": 44.3893, \"country\": \"Canada\"}, {\"longitude\": -123.1374, \"latitude\": 49.1632, \"country\": \"Canada\"}, {\"longitude\": -75.7887, \"latitude\": 45.3113, \"country\": \"Canada\"}, {\"longitude\": -104.6173, \"latitude\": 50.4488, \"country\": \"Canada\"}, {\"longitude\": -79.6667, \"latitude\": 43.4474, \"country\": \"Canada\"}, {\"longitude\": -79.7967, \"latitude\": 43.3249, \"country\": \"Canada\"}, {\"longitude\": -81.0685, \"latitude\": 46.5815, \"country\": \"Canada\"}, {\"longitude\": -122.3295, \"latitude\": 49.0521, \"country\": \"Canada\"}, {\"longitude\": -71.0692, \"latitude\": 48.406, \"country\": \"Canada\"}, {\"longitude\": -79.2441, \"latitude\": 43.158, \"country\": \"Canada\"}, {\"longitude\": -71.889, \"latitude\": 45.4033, \"country\": \"Canada\"}, {\"longitude\": -122.8565, \"latitude\": 49.3144, \"country\": \"Canada\"}, {\"longitude\": -71.1753, \"latitude\": 46.791, \"country\": \"Canada\"}, {\"longitude\": -119.4983, \"latitude\": 49.8893, \"country\": \"Canada\"}, {\"longitude\": -80.3123, \"latitude\": 43.3601, \"country\": \"Canada\"}, {\"longitude\": -72.5565, \"latitude\": 46.3327, \"country\": \"Canada\"}, {\"longitude\": -80.2493, \"latitude\": 43.5461, \"country\": \"Canada\"}, {\"longitude\": -79.3325, \"latitude\": 43.7, \"country\": \"Canada\"}, {\"longitude\": -122.7933, \"latitude\": 49.2843, \"country\": \"Canada\"}, {\"longitude\": -76.4813, \"latitude\": 44.2307, \"country\": \"Canada\"}, {\"longitude\": -60.1941, \"latitude\": 46.138, \"country\": \"Canada\"}, {\"longitude\": -123.0579, \"latitude\": 49.0846, \"country\": \"Canada\"}, {\"longitude\": -63.572, \"latitude\": 44.68, \"country\": \"Canada\"}, {\"longitude\": -89.2598, \"latitude\": 48.4064, \"country\": \"Canada\"}, {\"longitude\": -52.7151, \"latitude\": 47.5617, \"country\": \"Canada\"}, {\"longitude\": -80.5246, \"latitude\": 43.4669, \"country\": \"Canada\"}, {\"longitude\": -73.6515, \"latitude\": 45.7081, \"country\": \"Canada\"}, {\"longitude\": -79.0247, \"latitude\": 43.8504, \"country\": \"Canada\"}, {\"longitude\": -66.058, \"latitude\": 45.2788, \"country\": \"Canada\"}, {\"longitude\": -79.0906, \"latitude\": 43.8358, \"country\": \"Canada\"}, {\"longitude\": -80.2632, \"latitude\": 43.1408, \"country\": \"Canada\"}, {\"longitude\": -64.8001, \"latitude\": 46.098, \"country\": \"Canada\"}, {\"longitude\": -123.938, \"latitude\": 49.1638, \"country\": \"Canada\"}, {\"longitude\": -79.8828, \"latitude\": 43.5137, \"country\": \"Canada\"}, {\"longitude\": -82.4066, \"latitude\": 42.9746, \"country\": \"Canada\"}, {\"longitude\": -79.1153, \"latitude\": 43.101, \"country\": \"Canada\"}, {\"longitude\": -79.4109, \"latitude\": 43.7615, \"country\": \"Canada\"}, {\"longitude\": -73.6875, \"latitude\": 45.5089, \"country\": \"Canada\"}, {\"longitude\": -121.9514, \"latitude\": 49.1577, \"country\": \"Canada\"}, {\"longitude\": -73.4528, \"latitude\": 45.7326, \"country\": \"Canada\"}, {\"longitude\": -111.3885, \"latitude\": 56.7292, \"country\": \"Canada\"}, {\"longitude\": -78.3199, \"latitude\": 44.3048, \"country\": \"Canada\"}, {\"longitude\": -84.3201, \"latitude\": 46.5239, \"country\": \"Canada\"}, {\"longitude\": -79.4617, \"latitude\": 44.0563, \"country\": \"Canada\"}, {\"longitude\": -71.3998, \"latitude\": 46.8884, \"country\": \"Canada\"}, {\"longitude\": -113.8184, \"latitude\": 52.2698, \"country\": \"Canada\"}, {\"longitude\": -67.9245, \"latitude\": 47.1652, \"country\": \"Canada\"}, {\"longitude\": -73.2533, \"latitude\": 45.3057, \"country\": \"Canada\"}, {\"longitude\": -112.8516, \"latitude\": 49.6943, \"country\": \"Canada\"}, {\"longitude\": -122.5997, \"latitude\": 49.2197, \"country\": \"Canada\"}, {\"longitude\": -73.4679, \"latitude\": 45.4555, \"country\": \"Canada\"}, {\"longitude\": -120.3394, \"latitude\": 50.6758, \"country\": \"Canada\"}, {\"longitude\": -73.6289, \"latitude\": 45.468, \"country\": \"Canada\"}, {\"longitude\": -122.7979, \"latitude\": 49.0235, \"country\": \"Canada\"}, {\"longitude\": -122.7454, \"latitude\": 53.9129, \"country\": \"Canada\"}, {\"longitude\": -110.679, \"latitude\": 50.043, \"country\": \"Canada\"}, {\"longitude\": -80.4538, \"latitude\": 42.7972, \"country\": \"Canada\"}, {\"longitude\": -72.5019, \"latitude\": 45.8864, \"country\": \"Canada\"}, {\"longitude\": -122.9109, \"latitude\": 49.2068, \"country\": \"Canada\"}, {\"longitude\": -72.0885, \"latitude\": 46.0004, \"country\": \"Canada\"}, {\"longitude\": -113.2966, \"latitude\": 53.5257, \"country\": \"Canada\"}, {\"longitude\": -74.0132, \"latitude\": 45.7754, \"country\": \"Canada\"}, {\"longitude\": -71.1473, \"latitude\": 48.382, \"country\": \"Canada\"}, {\"longitude\": -72.7218, \"latitude\": 45.399, \"country\": \"Canada\"}, {\"longitude\": -66.6458, \"latitude\": 45.9664, \"country\": \"Canada\"}, {\"longitude\": -79.2506, \"latitude\": 42.9931, \"country\": \"Canada\"}, {\"longitude\": -72.9406, \"latitude\": 45.6275, \"country\": \"Canada\"}, {\"longitude\": -79.4608, \"latitude\": 46.3092, \"country\": \"Canada\"}]}}, {\"mode\": \"vega-lite\"});\n",
       "</script>"
      ],
      "text/plain": [
       "alt.Chart(...)"
      ]
     },
     "execution_count": 18,
     "metadata": {},
     "output_type": "execute_result"
    }
   ],
   "source": [
    "chart1 = alt.Chart(df).mark_circle(size=20, opacity=0.6).encode(\n",
    "    alt.X('longitude:Q', scale=alt.Scale(domain=[-140, -40]), axis=alt.Axis(grid=False)),\n",
    "    alt.Y('latitude:Q', scale=alt.Scale(domain=[20, 60]), axis=alt.Axis(grid=False)),\n",
    "    alt.Color('country:N', scale=alt.Scale(domain=['Canada', 'USA'], range=['red', 'blue']))\n",
    ")\n",
    "\n",
    "chart1"
   ]
  },
  {
   "cell_type": "markdown",
   "id": "4224db76-00d3-4b3b-9228-c5878e881aa1",
   "metadata": {},
   "source": [
    "### Parameters & Hyperparameters"
   ]
  },
  {
   "cell_type": "markdown",
   "id": "9cd59d20-4cae-4d7a-88ea-0d8eb9103abe",
   "metadata": {},
   "source": [
    "* **Parameters** are automatically learned by the algorithm during training\n",
    "* **Hyperparameters** are specified based on:\n",
    "    * expert knowledge\n",
    "    * heuristics, or\n",
    "    * systematic/automated optimization"
   ]
  },
  {
   "cell_type": "markdown",
   "id": "621fd2ad-8c99-4a0c-a73e-b00d75665830",
   "metadata": {},
   "source": [
    "**Parameters**\n",
    "\n",
    "* **criterion**: default = \"gini\"\n",
    "    * The function to measure the quality of a split. Supported criteria are \"gini\" for the Gini impurity and \"entropy\" for the information gain.\n",
    "    \n",
    "* **splitter**: default = \"best\"\n",
    "    * the strategy used to choose the split at each node. Supported strategies are \"best\" to choose the best split and \"random\" to choose the best random split.\n",
    "    \n",
    "* **max_depth**: default=None\n",
    "    * The maximum depth of the tree. If None, then nodes are expanded until all leaves are pure or until all leaves contain less than min_samples_split samples.\n",
    "    \n",
    "* **min_samples_split**: default=2\n",
    "    * The minimum number of samples required to split an internal node"
   ]
  },
  {
   "cell_type": "code",
   "execution_count": 19,
   "id": "abf64fca-ae63-4311-b2ae-5139127239e4",
   "metadata": {},
   "outputs": [
    {
     "data": {
      "text/html": [
       "<div>\n",
       "<style scoped>\n",
       "    .dataframe tbody tr th:only-of-type {\n",
       "        vertical-align: middle;\n",
       "    }\n",
       "\n",
       "    .dataframe tbody tr th {\n",
       "        vertical-align: top;\n",
       "    }\n",
       "\n",
       "    .dataframe thead th {\n",
       "        text-align: right;\n",
       "    }\n",
       "</style>\n",
       "<table border=\"1\" class=\"dataframe\">\n",
       "  <thead>\n",
       "    <tr style=\"text-align: right;\">\n",
       "      <th></th>\n",
       "      <th>ml_experience</th>\n",
       "      <th>class_attendance</th>\n",
       "      <th>lab1</th>\n",
       "      <th>lab2</th>\n",
       "      <th>lab3</th>\n",
       "      <th>lab4</th>\n",
       "      <th>quiz1</th>\n",
       "    </tr>\n",
       "  </thead>\n",
       "  <tbody>\n",
       "    <tr>\n",
       "      <th>0</th>\n",
       "      <td>1</td>\n",
       "      <td>1</td>\n",
       "      <td>92</td>\n",
       "      <td>93</td>\n",
       "      <td>84</td>\n",
       "      <td>91</td>\n",
       "      <td>92</td>\n",
       "    </tr>\n",
       "    <tr>\n",
       "      <th>1</th>\n",
       "      <td>1</td>\n",
       "      <td>0</td>\n",
       "      <td>94</td>\n",
       "      <td>90</td>\n",
       "      <td>80</td>\n",
       "      <td>83</td>\n",
       "      <td>91</td>\n",
       "    </tr>\n",
       "    <tr>\n",
       "      <th>2</th>\n",
       "      <td>0</td>\n",
       "      <td>0</td>\n",
       "      <td>78</td>\n",
       "      <td>85</td>\n",
       "      <td>83</td>\n",
       "      <td>80</td>\n",
       "      <td>80</td>\n",
       "    </tr>\n",
       "  </tbody>\n",
       "</table>\n",
       "</div>"
      ],
      "text/plain": [
       "   ml_experience  class_attendance  lab1  lab2  lab3  lab4  quiz1\n",
       "0              1                 1    92    93    84    91     92\n",
       "1              1                 0    94    90    80    83     91\n",
       "2              0                 0    78    85    83    80     80"
      ]
     },
     "execution_count": 19,
     "metadata": {},
     "output_type": "execute_result"
    }
   ],
   "source": [
    "X.head(3)"
   ]
  },
  {
   "cell_type": "code",
   "execution_count": 20,
   "id": "63ed8eae-71bb-4b2b-a158-698f6d9155c9",
   "metadata": {},
   "outputs": [],
   "source": [
    "model = DecisionTreeClassifier(max_depth=1)\n",
    "model.fit(X, y);"
   ]
  },
  {
   "cell_type": "code",
   "execution_count": 21,
   "id": "032b3ad0-0dbf-4842-b673-c990d57f31ab",
   "metadata": {},
   "outputs": [],
   "source": [
    "model2 = DecisionTreeClassifier(max_depth=2)\n",
    "model2.fit(X, y);"
   ]
  },
  {
   "cell_type": "code",
   "execution_count": 22,
   "id": "660792f1-5988-40ab-8e7e-b37d31c8f7d0",
   "metadata": {},
   "outputs": [],
   "source": [
    "model3 = DecisionTreeClassifier(max_depth=3)\n",
    "model3.fit(X, y);"
   ]
  },
  {
   "cell_type": "code",
   "execution_count": 23,
   "id": "fc628f12-6892-487f-b7de-d3d681cc728a",
   "metadata": {},
   "outputs": [
    {
     "data": {
      "text/plain": [
       "0.7619047619047619"
      ]
     },
     "execution_count": 23,
     "metadata": {},
     "output_type": "execute_result"
    }
   ],
   "source": [
    "model.score(X,y)"
   ]
  },
  {
   "cell_type": "code",
   "execution_count": 24,
   "id": "4f7b454e-fb44-4fff-b496-75eec8c5d251",
   "metadata": {},
   "outputs": [
    {
     "data": {
      "text/plain": [
       "0.8571428571428571"
      ]
     },
     "execution_count": 24,
     "metadata": {},
     "output_type": "execute_result"
    }
   ],
   "source": [
    "model2.score(X,y)"
   ]
  },
  {
   "cell_type": "code",
   "execution_count": 25,
   "id": "9fc2bbf4-19fa-4ff6-b9b6-6da5e2fda4d8",
   "metadata": {},
   "outputs": [
    {
     "data": {
      "text/plain": [
       "0.9523809523809523"
      ]
     },
     "execution_count": 25,
     "metadata": {},
     "output_type": "execute_result"
    }
   ],
   "source": [
    "model3.score(X,y)"
   ]
  },
  {
   "cell_type": "code",
   "execution_count": 26,
   "id": "249bc071-b2dd-421d-82db-16b3269b8e20",
   "metadata": {},
   "outputs": [
    {
     "data": {
      "text/plain": [
       "1.0"
      ]
     },
     "execution_count": 26,
     "metadata": {},
     "output_type": "execute_result"
    }
   ],
   "source": [
    "model4 = DecisionTreeClassifier(max_depth=5)\n",
    "model4.fit(X, y);\n",
    "model4.score(X,y)"
   ]
  },
  {
   "cell_type": "code",
   "execution_count": 27,
   "id": "5f427bf6-71ff-47e9-a4d1-1721d2644452",
   "metadata": {},
   "outputs": [
    {
     "data": {
      "text/plain": [
       "1.0"
      ]
     },
     "execution_count": 27,
     "metadata": {},
     "output_type": "execute_result"
    }
   ],
   "source": [
    "model5 = DecisionTreeClassifier(min_samples_split=2)\n",
    "model5.fit(X,y);\n",
    "model5.score(X, y)"
   ]
  },
  {
   "cell_type": "code",
   "execution_count": 28,
   "id": "413bf817-30bd-4d29-b520-d717dd0fb204",
   "metadata": {},
   "outputs": [
    {
     "data": {
      "text/plain": [
       "0.9523809523809523"
      ]
     },
     "execution_count": 28,
     "metadata": {},
     "output_type": "execute_result"
    }
   ],
   "source": [
    "model6 = DecisionTreeClassifier(min_samples_split=4)\n",
    "model6.fit(X,y);\n",
    "model6.score(X, y)"
   ]
  },
  {
   "cell_type": "code",
   "execution_count": 29,
   "id": "02b0f3bf-1671-4a44-87df-0b99102eeab7",
   "metadata": {},
   "outputs": [
    {
     "data": {
      "text/plain": [
       "0.9047619047619048"
      ]
     },
     "execution_count": 29,
     "metadata": {},
     "output_type": "execute_result"
    }
   ],
   "source": [
    "model7 = DecisionTreeClassifier(min_samples_split=10)\n",
    "model7.fit(X,y);\n",
    "model7.score(X, y)"
   ]
  },
  {
   "cell_type": "markdown",
   "id": "b0714056-7732-43f6-97a6-168df8ecc508",
   "metadata": {},
   "source": [
    "### Decision Tree Regressor"
   ]
  },
  {
   "cell_type": "code",
   "execution_count": 30,
   "id": "eead5a4a-6b3d-4c58-a01e-f9dde3a09522",
   "metadata": {},
   "outputs": [
    {
     "data": {
      "text/html": [
       "<div>\n",
       "<style scoped>\n",
       "    .dataframe tbody tr th:only-of-type {\n",
       "        vertical-align: middle;\n",
       "    }\n",
       "\n",
       "    .dataframe tbody tr th {\n",
       "        vertical-align: top;\n",
       "    }\n",
       "\n",
       "    .dataframe thead th {\n",
       "        text-align: right;\n",
       "    }\n",
       "</style>\n",
       "<table border=\"1\" class=\"dataframe\">\n",
       "  <thead>\n",
       "    <tr style=\"text-align: right;\">\n",
       "      <th></th>\n",
       "      <th>ml_experience</th>\n",
       "      <th>class_attendance</th>\n",
       "      <th>lab1</th>\n",
       "      <th>lab2</th>\n",
       "      <th>lab3</th>\n",
       "      <th>lab4</th>\n",
       "      <th>quiz1</th>\n",
       "      <th>quiz2</th>\n",
       "    </tr>\n",
       "  </thead>\n",
       "  <tbody>\n",
       "    <tr>\n",
       "      <th>0</th>\n",
       "      <td>1</td>\n",
       "      <td>1</td>\n",
       "      <td>92</td>\n",
       "      <td>93</td>\n",
       "      <td>84</td>\n",
       "      <td>91</td>\n",
       "      <td>92</td>\n",
       "      <td>90</td>\n",
       "    </tr>\n",
       "    <tr>\n",
       "      <th>1</th>\n",
       "      <td>1</td>\n",
       "      <td>0</td>\n",
       "      <td>94</td>\n",
       "      <td>90</td>\n",
       "      <td>80</td>\n",
       "      <td>83</td>\n",
       "      <td>91</td>\n",
       "      <td>84</td>\n",
       "    </tr>\n",
       "    <tr>\n",
       "      <th>2</th>\n",
       "      <td>0</td>\n",
       "      <td>0</td>\n",
       "      <td>78</td>\n",
       "      <td>85</td>\n",
       "      <td>83</td>\n",
       "      <td>80</td>\n",
       "      <td>80</td>\n",
       "      <td>82</td>\n",
       "    </tr>\n",
       "    <tr>\n",
       "      <th>3</th>\n",
       "      <td>0</td>\n",
       "      <td>1</td>\n",
       "      <td>91</td>\n",
       "      <td>94</td>\n",
       "      <td>92</td>\n",
       "      <td>91</td>\n",
       "      <td>89</td>\n",
       "      <td>92</td>\n",
       "    </tr>\n",
       "    <tr>\n",
       "      <th>4</th>\n",
       "      <td>0</td>\n",
       "      <td>1</td>\n",
       "      <td>77</td>\n",
       "      <td>83</td>\n",
       "      <td>90</td>\n",
       "      <td>92</td>\n",
       "      <td>85</td>\n",
       "      <td>90</td>\n",
       "    </tr>\n",
       "  </tbody>\n",
       "</table>\n",
       "</div>"
      ],
      "text/plain": [
       "   ml_experience  class_attendance  lab1  lab2  lab3  lab4  quiz1  quiz2\n",
       "0              1                 1    92    93    84    91     92     90\n",
       "1              1                 0    94    90    80    83     91     84\n",
       "2              0                 0    78    85    83    80     80     82\n",
       "3              0                 1    91    94    92    91     89     92\n",
       "4              0                 1    77    83    90    92     85     90"
      ]
     },
     "execution_count": 30,
     "metadata": {},
     "output_type": "execute_result"
    }
   ],
   "source": [
    "regression_df = pd.read_csv(\"https://raw.githubusercontent.com/UBC-MDS/DSCI_571_sup-learn-1/master/lectures/data/quiz2-grade-toy-regression.csv\")\n",
    "regression_df.head()"
   ]
  },
  {
   "cell_type": "code",
   "execution_count": 31,
   "id": "d34b9c0b-4f98-4890-becc-98760c158f35",
   "metadata": {},
   "outputs": [],
   "source": [
    "X = regression_df.drop(columns=[\"quiz2\"])"
   ]
  },
  {
   "cell_type": "code",
   "execution_count": 32,
   "id": "6faaf66e-47f0-4941-89b1-8d55e83f0f3f",
   "metadata": {},
   "outputs": [],
   "source": [
    "y = regression_df[\"quiz2\"]"
   ]
  },
  {
   "cell_type": "code",
   "execution_count": 33,
   "id": "632c50c6-289d-4d81-8c40-1abf7551cbb7",
   "metadata": {},
   "outputs": [],
   "source": [
    "from sklearn.tree import DecisionTreeRegressor"
   ]
  },
  {
   "cell_type": "code",
   "execution_count": 34,
   "id": "0e31bae5-017c-4d53-99b5-e5b208d013f0",
   "metadata": {},
   "outputs": [],
   "source": [
    "depth = 4\n",
    "reg_model = DecisionTreeRegressor(max_depth=depth)\n",
    "reg_model.fit(X,y);"
   ]
  },
  {
   "cell_type": "code",
   "execution_count": 35,
   "id": "66dbb793-1d26-4477-9af3-297553491c3a",
   "metadata": {},
   "outputs": [
    {
     "data": {
      "text/html": [
       "<div>\n",
       "<style scoped>\n",
       "    .dataframe tbody tr th:only-of-type {\n",
       "        vertical-align: middle;\n",
       "    }\n",
       "\n",
       "    .dataframe tbody tr th {\n",
       "        vertical-align: top;\n",
       "    }\n",
       "\n",
       "    .dataframe thead th {\n",
       "        text-align: right;\n",
       "    }\n",
       "</style>\n",
       "<table border=\"1\" class=\"dataframe\">\n",
       "  <thead>\n",
       "    <tr style=\"text-align: right;\">\n",
       "      <th></th>\n",
       "      <th>ml_experience</th>\n",
       "      <th>class_attendance</th>\n",
       "      <th>lab1</th>\n",
       "      <th>lab2</th>\n",
       "      <th>lab3</th>\n",
       "      <th>lab4</th>\n",
       "      <th>quiz1</th>\n",
       "    </tr>\n",
       "  </thead>\n",
       "  <tbody>\n",
       "    <tr>\n",
       "      <th>0</th>\n",
       "      <td>1</td>\n",
       "      <td>1</td>\n",
       "      <td>92</td>\n",
       "      <td>93</td>\n",
       "      <td>84</td>\n",
       "      <td>91</td>\n",
       "      <td>92</td>\n",
       "    </tr>\n",
       "  </tbody>\n",
       "</table>\n",
       "</div>"
      ],
      "text/plain": [
       "   ml_experience  class_attendance  lab1  lab2  lab3  lab4  quiz1\n",
       "0              1                 1    92    93    84    91     92"
      ]
     },
     "execution_count": 35,
     "metadata": {},
     "output_type": "execute_result"
    }
   ],
   "source": [
    "X.loc[[0]]"
   ]
  },
  {
   "cell_type": "code",
   "execution_count": 36,
   "id": "6f3d04d9-8362-4511-af97-6bce673f7b01",
   "metadata": {},
   "outputs": [
    {
     "data": {
      "text/plain": [
       "array([90.])"
      ]
     },
     "execution_count": 36,
     "metadata": {},
     "output_type": "execute_result"
    }
   ],
   "source": [
    "reg_model.predict(X.loc[[0]])"
   ]
  },
  {
   "cell_type": "code",
   "execution_count": 37,
   "id": "61ac86c6-86e8-4a1d-bbcb-d960651dd957",
   "metadata": {},
   "outputs": [
    {
     "name": "stdout",
     "output_type": "stream",
     "text": [
      "R^2 score on the training data:1.0\n"
     ]
    }
   ],
   "source": [
    "predicted_grades = reg_model.predict(X)\n",
    "regression_df = regression_df.assign(predicted_quiz2 = predicted_grades)\n",
    "print(\"R^2 score on the training data:\" + str(round(reg_model.score(X,y), 3)))"
   ]
  },
  {
   "cell_type": "code",
   "execution_count": 38,
   "id": "bce26078-7963-451b-9d47-3efa2ce954b5",
   "metadata": {},
   "outputs": [
    {
     "data": {
      "text/html": [
       "<div>\n",
       "<style scoped>\n",
       "    .dataframe tbody tr th:only-of-type {\n",
       "        vertical-align: middle;\n",
       "    }\n",
       "\n",
       "    .dataframe tbody tr th {\n",
       "        vertical-align: top;\n",
       "    }\n",
       "\n",
       "    .dataframe thead th {\n",
       "        text-align: right;\n",
       "    }\n",
       "</style>\n",
       "<table border=\"1\" class=\"dataframe\">\n",
       "  <thead>\n",
       "    <tr style=\"text-align: right;\">\n",
       "      <th></th>\n",
       "      <th>ml_experience</th>\n",
       "      <th>class_attendance</th>\n",
       "      <th>lab1</th>\n",
       "      <th>lab2</th>\n",
       "      <th>lab3</th>\n",
       "      <th>lab4</th>\n",
       "      <th>quiz1</th>\n",
       "      <th>quiz2</th>\n",
       "      <th>predicted_quiz2</th>\n",
       "    </tr>\n",
       "  </thead>\n",
       "  <tbody>\n",
       "    <tr>\n",
       "      <th>0</th>\n",
       "      <td>1</td>\n",
       "      <td>1</td>\n",
       "      <td>92</td>\n",
       "      <td>93</td>\n",
       "      <td>84</td>\n",
       "      <td>91</td>\n",
       "      <td>92</td>\n",
       "      <td>90</td>\n",
       "      <td>90.0</td>\n",
       "    </tr>\n",
       "    <tr>\n",
       "      <th>1</th>\n",
       "      <td>1</td>\n",
       "      <td>0</td>\n",
       "      <td>94</td>\n",
       "      <td>90</td>\n",
       "      <td>80</td>\n",
       "      <td>83</td>\n",
       "      <td>91</td>\n",
       "      <td>84</td>\n",
       "      <td>84.0</td>\n",
       "    </tr>\n",
       "    <tr>\n",
       "      <th>2</th>\n",
       "      <td>0</td>\n",
       "      <td>0</td>\n",
       "      <td>78</td>\n",
       "      <td>85</td>\n",
       "      <td>83</td>\n",
       "      <td>80</td>\n",
       "      <td>80</td>\n",
       "      <td>82</td>\n",
       "      <td>82.0</td>\n",
       "    </tr>\n",
       "    <tr>\n",
       "      <th>3</th>\n",
       "      <td>0</td>\n",
       "      <td>1</td>\n",
       "      <td>91</td>\n",
       "      <td>94</td>\n",
       "      <td>92</td>\n",
       "      <td>91</td>\n",
       "      <td>89</td>\n",
       "      <td>92</td>\n",
       "      <td>92.0</td>\n",
       "    </tr>\n",
       "    <tr>\n",
       "      <th>4</th>\n",
       "      <td>0</td>\n",
       "      <td>1</td>\n",
       "      <td>77</td>\n",
       "      <td>83</td>\n",
       "      <td>90</td>\n",
       "      <td>92</td>\n",
       "      <td>85</td>\n",
       "      <td>90</td>\n",
       "      <td>90.0</td>\n",
       "    </tr>\n",
       "  </tbody>\n",
       "</table>\n",
       "</div>"
      ],
      "text/plain": [
       "   ml_experience  class_attendance  lab1  lab2  lab3  lab4  quiz1  quiz2  \\\n",
       "0              1                 1    92    93    84    91     92     90   \n",
       "1              1                 0    94    90    80    83     91     84   \n",
       "2              0                 0    78    85    83    80     80     82   \n",
       "3              0                 1    91    94    92    91     89     92   \n",
       "4              0                 1    77    83    90    92     85     90   \n",
       "\n",
       "   predicted_quiz2  \n",
       "0             90.0  \n",
       "1             84.0  \n",
       "2             82.0  \n",
       "3             92.0  \n",
       "4             90.0  "
      ]
     },
     "execution_count": 38,
     "metadata": {},
     "output_type": "execute_result"
    }
   ],
   "source": [
    "regression_df.head()"
   ]
  },
  {
   "cell_type": "markdown",
   "id": "e2e5b691-7762-4501-8eaa-8e61f973c0f0",
   "metadata": {},
   "source": [
    "### Generalization"
   ]
  },
  {
   "cell_type": "code",
   "execution_count": 39,
   "id": "3d038e99-4c75-45b8-9b92-cf0f701c3f05",
   "metadata": {},
   "outputs": [
    {
     "data": {
      "text/html": [
       "<div>\n",
       "<style scoped>\n",
       "    .dataframe tbody tr th:only-of-type {\n",
       "        vertical-align: middle;\n",
       "    }\n",
       "\n",
       "    .dataframe tbody tr th {\n",
       "        vertical-align: top;\n",
       "    }\n",
       "\n",
       "    .dataframe thead th {\n",
       "        text-align: right;\n",
       "    }\n",
       "</style>\n",
       "<table border=\"1\" class=\"dataframe\">\n",
       "  <thead>\n",
       "    <tr style=\"text-align: right;\">\n",
       "      <th></th>\n",
       "      <th>ml_experience</th>\n",
       "      <th>class_attendance</th>\n",
       "      <th>lab1</th>\n",
       "      <th>lab2</th>\n",
       "      <th>lab3</th>\n",
       "      <th>lab4</th>\n",
       "      <th>quiz1</th>\n",
       "      <th>quiz2</th>\n",
       "    </tr>\n",
       "  </thead>\n",
       "  <tbody>\n",
       "    <tr>\n",
       "      <th>0</th>\n",
       "      <td>1</td>\n",
       "      <td>1</td>\n",
       "      <td>92</td>\n",
       "      <td>93</td>\n",
       "      <td>84</td>\n",
       "      <td>91</td>\n",
       "      <td>92</td>\n",
       "      <td>A+</td>\n",
       "    </tr>\n",
       "    <tr>\n",
       "      <th>1</th>\n",
       "      <td>1</td>\n",
       "      <td>0</td>\n",
       "      <td>94</td>\n",
       "      <td>90</td>\n",
       "      <td>80</td>\n",
       "      <td>83</td>\n",
       "      <td>91</td>\n",
       "      <td>not A+</td>\n",
       "    </tr>\n",
       "    <tr>\n",
       "      <th>2</th>\n",
       "      <td>0</td>\n",
       "      <td>0</td>\n",
       "      <td>78</td>\n",
       "      <td>85</td>\n",
       "      <td>83</td>\n",
       "      <td>80</td>\n",
       "      <td>80</td>\n",
       "      <td>not A+</td>\n",
       "    </tr>\n",
       "    <tr>\n",
       "      <th>3</th>\n",
       "      <td>0</td>\n",
       "      <td>1</td>\n",
       "      <td>91</td>\n",
       "      <td>94</td>\n",
       "      <td>92</td>\n",
       "      <td>91</td>\n",
       "      <td>89</td>\n",
       "      <td>A+</td>\n",
       "    </tr>\n",
       "    <tr>\n",
       "      <th>4</th>\n",
       "      <td>0</td>\n",
       "      <td>1</td>\n",
       "      <td>77</td>\n",
       "      <td>83</td>\n",
       "      <td>90</td>\n",
       "      <td>92</td>\n",
       "      <td>85</td>\n",
       "      <td>A+</td>\n",
       "    </tr>\n",
       "  </tbody>\n",
       "</table>\n",
       "</div>"
      ],
      "text/plain": [
       "   ml_experience  class_attendance  lab1  lab2  lab3  lab4  quiz1   quiz2\n",
       "0              1                 1    92    93    84    91     92      A+\n",
       "1              1                 0    94    90    80    83     91  not A+\n",
       "2              0                 0    78    85    83    80     80  not A+\n",
       "3              0                 1    91    94    92    91     89      A+\n",
       "4              0                 1    77    83    90    92     85      A+"
      ]
     },
     "execution_count": 39,
     "metadata": {},
     "output_type": "execute_result"
    }
   ],
   "source": [
    "classification_df.head()"
   ]
  },
  {
   "cell_type": "code",
   "execution_count": 40,
   "id": "3a781cbf-e61a-4490-a6e5-aae86f9a13b4",
   "metadata": {},
   "outputs": [],
   "source": [
    "X = classification_df.drop(columns=[\"quiz2\"])\n",
    "y = classification_df[\"quiz2\"]"
   ]
  },
  {
   "cell_type": "code",
   "execution_count": 41,
   "id": "5bc7dc53-dd34-4c7b-a298-3a983d3ebe53",
   "metadata": {},
   "outputs": [
    {
     "data": {
      "text/html": [
       "<div>\n",
       "<style scoped>\n",
       "    .dataframe tbody tr th:only-of-type {\n",
       "        vertical-align: middle;\n",
       "    }\n",
       "\n",
       "    .dataframe tbody tr th {\n",
       "        vertical-align: top;\n",
       "    }\n",
       "\n",
       "    .dataframe thead th {\n",
       "        text-align: right;\n",
       "    }\n",
       "</style>\n",
       "<table border=\"1\" class=\"dataframe\">\n",
       "  <thead>\n",
       "    <tr style=\"text-align: right;\">\n",
       "      <th></th>\n",
       "      <th>lab4</th>\n",
       "      <th>quiz1</th>\n",
       "    </tr>\n",
       "  </thead>\n",
       "  <tbody>\n",
       "    <tr>\n",
       "      <th>0</th>\n",
       "      <td>91</td>\n",
       "      <td>92</td>\n",
       "    </tr>\n",
       "    <tr>\n",
       "      <th>1</th>\n",
       "      <td>83</td>\n",
       "      <td>91</td>\n",
       "    </tr>\n",
       "    <tr>\n",
       "      <th>2</th>\n",
       "      <td>80</td>\n",
       "      <td>80</td>\n",
       "    </tr>\n",
       "    <tr>\n",
       "      <th>3</th>\n",
       "      <td>91</td>\n",
       "      <td>89</td>\n",
       "    </tr>\n",
       "    <tr>\n",
       "      <th>4</th>\n",
       "      <td>92</td>\n",
       "      <td>85</td>\n",
       "    </tr>\n",
       "  </tbody>\n",
       "</table>\n",
       "</div>"
      ],
      "text/plain": [
       "   lab4  quiz1\n",
       "0    91     92\n",
       "1    83     91\n",
       "2    80     80\n",
       "3    91     89\n",
       "4    92     85"
      ]
     },
     "execution_count": 41,
     "metadata": {},
     "output_type": "execute_result"
    }
   ],
   "source": [
    "X_subset = X[[\"lab4\", \"quiz1\"]]\n",
    "X_subset.head()"
   ]
  },
  {
   "cell_type": "code",
   "execution_count": 42,
   "id": "153cb6c0-7269-49b1-8379-b886c00c8006",
   "metadata": {},
   "outputs": [
    {
     "data": {
      "text/plain": [
       "0.7142857142857143"
      ]
     },
     "execution_count": 42,
     "metadata": {},
     "output_type": "execute_result"
    }
   ],
   "source": [
    "depth = 1\n",
    "model = DecisionTreeClassifier(max_depth = depth)\n",
    "model.fit(X_subset, y);\n",
    "model.score(X_subset, y)"
   ]
  },
  {
   "cell_type": "code",
   "execution_count": 43,
   "id": "0197c144-b06b-468b-bc51-3cea611e8aca",
   "metadata": {},
   "outputs": [
    {
     "data": {
      "text/plain": [
       "0.8095238095238095"
      ]
     },
     "execution_count": 43,
     "metadata": {},
     "output_type": "execute_result"
    }
   ],
   "source": [
    "depth = 2\n",
    "model = DecisionTreeClassifier(max_depth = depth)\n",
    "model.fit(X_subset, y);\n",
    "model.score(X_subset, y)"
   ]
  },
  {
   "cell_type": "code",
   "execution_count": 44,
   "id": "f29e8668-5fdb-4ec2-a611-96517a3ffe7b",
   "metadata": {},
   "outputs": [
    {
     "data": {
      "text/plain": [
       "0.9523809523809523"
      ]
     },
     "execution_count": 44,
     "metadata": {},
     "output_type": "execute_result"
    }
   ],
   "source": [
    "depth = 4\n",
    "model = DecisionTreeClassifier(max_depth = depth)\n",
    "model.fit(X_subset, y);\n",
    "model.score(X_subset, y)"
   ]
  },
  {
   "cell_type": "code",
   "execution_count": 45,
   "id": "9c9621ce-834a-4ef9-8d16-f5b71d3c8f7d",
   "metadata": {},
   "outputs": [
    {
     "data": {
      "text/plain": [
       "1.0"
      ]
     },
     "execution_count": 45,
     "metadata": {},
     "output_type": "execute_result"
    }
   ],
   "source": [
    "depth = 10\n",
    "model = DecisionTreeClassifier(max_depth = depth)\n",
    "model.fit(X_subset, y);\n",
    "model.score(X_subset, y)"
   ]
  },
  {
   "cell_type": "code",
   "execution_count": null,
   "id": "90b4d28e-791b-47c2-822d-f944f395d581",
   "metadata": {},
   "outputs": [],
   "source": []
  }
 ],
 "metadata": {
  "kernelspec": {
   "display_name": "Python 3 (ipykernel)",
   "language": "python",
   "name": "python3"
  },
  "language_info": {
   "codemirror_mode": {
    "name": "ipython",
    "version": 3
   },
   "file_extension": ".py",
   "mimetype": "text/x-python",
   "name": "python",
   "nbconvert_exporter": "python",
   "pygments_lexer": "ipython3",
   "version": "3.10.8"
  }
 },
 "nbformat": 4,
 "nbformat_minor": 5
}
