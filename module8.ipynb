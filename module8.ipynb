{
 "cells": [
  {
   "cell_type": "markdown",
   "id": "a40f9bdc-affb-4754-a496-18ee9b04ab9e",
   "metadata": {},
   "source": [
    "# Module 8: Linear Models"
   ]
  },
  {
   "cell_type": "markdown",
   "id": "715a499c-d41d-4f61-828e-393a857ca411",
   "metadata": {},
   "source": [
    "### Introducing Linear Regression"
   ]
  },
  {
   "cell_type": "code",
   "execution_count": 17,
   "id": "c8b9f475-98c4-4dfc-a722-4880d333cf1d",
   "metadata": {},
   "outputs": [],
   "source": [
    "import pandas as pd \n",
    "import numpy as np\n",
    "from sklearn.linear_model import LinearRegression\n",
    "from sklearn.linear_model import Ridge\n",
    "from sklearn.model_selection import train_test_split\n",
    "from sklearn.model_selection import cross_validate"
   ]
  },
  {
   "cell_type": "code",
   "execution_count": 2,
   "id": "735cf765-65e0-48d9-8dac-843d3c775280",
   "metadata": {},
   "outputs": [
    {
     "data": {
      "text/html": [
       "<div>\n",
       "<style scoped>\n",
       "    .dataframe tbody tr th:only-of-type {\n",
       "        vertical-align: middle;\n",
       "    }\n",
       "\n",
       "    .dataframe tbody tr th {\n",
       "        vertical-align: top;\n",
       "    }\n",
       "\n",
       "    .dataframe thead th {\n",
       "        text-align: right;\n",
       "    }\n",
       "</style>\n",
       "<table border=\"1\" class=\"dataframe\">\n",
       "  <thead>\n",
       "    <tr style=\"text-align: right;\">\n",
       "      <th></th>\n",
       "      <th>length</th>\n",
       "    </tr>\n",
       "  </thead>\n",
       "  <tbody>\n",
       "    <tr>\n",
       "      <th>0</th>\n",
       "      <td>0.017641</td>\n",
       "    </tr>\n",
       "    <tr>\n",
       "      <th>1</th>\n",
       "      <td>0.044818</td>\n",
       "    </tr>\n",
       "    <tr>\n",
       "      <th>2</th>\n",
       "      <td>0.091420</td>\n",
       "    </tr>\n",
       "    <tr>\n",
       "      <th>3</th>\n",
       "      <td>0.144858</td>\n",
       "    </tr>\n",
       "    <tr>\n",
       "      <th>4</th>\n",
       "      <td>0.181941</td>\n",
       "    </tr>\n",
       "  </tbody>\n",
       "</table>\n",
       "</div>"
      ],
      "text/plain": [
       "     length\n",
       "0  0.017641\n",
       "1  0.044818\n",
       "2  0.091420\n",
       "3  0.144858\n",
       "4  0.181941"
      ]
     },
     "execution_count": 2,
     "metadata": {},
     "output_type": "execute_result"
    }
   ],
   "source": [
    "np.random.seed(0)\n",
    "n = 50\n",
    "X_1 = np.linspace(0,2,n)+np.random.randn(n)*0.01\n",
    "X = pd.DataFrame(X_1[:,None], columns=['length'])\n",
    "X.head()"
   ]
  },
  {
   "cell_type": "code",
   "execution_count": 3,
   "id": "e3f8edbf-7030-4ea5-b282-b1ad98f42781",
   "metadata": {},
   "outputs": [
    {
     "data": {
      "text/html": [
       "<div>\n",
       "<style scoped>\n",
       "    .dataframe tbody tr th:only-of-type {\n",
       "        vertical-align: middle;\n",
       "    }\n",
       "\n",
       "    .dataframe tbody tr th {\n",
       "        vertical-align: top;\n",
       "    }\n",
       "\n",
       "    .dataframe thead th {\n",
       "        text-align: right;\n",
       "    }\n",
       "</style>\n",
       "<table border=\"1\" class=\"dataframe\">\n",
       "  <thead>\n",
       "    <tr style=\"text-align: right;\">\n",
       "      <th></th>\n",
       "      <th>weight</th>\n",
       "    </tr>\n",
       "  </thead>\n",
       "  <tbody>\n",
       "    <tr>\n",
       "      <th>0</th>\n",
       "      <td>1.879136</td>\n",
       "    </tr>\n",
       "    <tr>\n",
       "      <th>1</th>\n",
       "      <td>0.997894</td>\n",
       "    </tr>\n",
       "    <tr>\n",
       "      <th>2</th>\n",
       "      <td>1.478710</td>\n",
       "    </tr>\n",
       "    <tr>\n",
       "      <th>3</th>\n",
       "      <td>3.085554</td>\n",
       "    </tr>\n",
       "    <tr>\n",
       "      <th>4</th>\n",
       "      <td>0.966069</td>\n",
       "    </tr>\n",
       "  </tbody>\n",
       "</table>\n",
       "</div>"
      ],
      "text/plain": [
       "     weight\n",
       "0  1.879136\n",
       "1  0.997894\n",
       "2  1.478710\n",
       "3  3.085554\n",
       "4  0.966069"
      ]
     },
     "execution_count": 3,
     "metadata": {},
     "output_type": "execute_result"
    }
   ],
   "source": [
    "y = abs(np.random.randn(n,1))*2 + X_1[:, None]*5\n",
    "y = pd.DataFrame(y, columns=['weight'])\n",
    "y.head()"
   ]
  },
  {
   "cell_type": "code",
   "execution_count": 8,
   "id": "4924ec04-05db-4d57-8f0c-dedff79b0bd3",
   "metadata": {},
   "outputs": [],
   "source": [
    "X_train, X_test, y_train, y_test = train_test_split(X, y, test_size=0.2, random_state=123)"
   ]
  },
  {
   "cell_type": "code",
   "execution_count": 9,
   "id": "03fe66fd-9e5e-4c6f-a1c5-409db3f39edc",
   "metadata": {},
   "outputs": [],
   "source": [
    "rm = Ridge()\n",
    "rm.fit(X_train, y_train);"
   ]
  },
  {
   "cell_type": "code",
   "execution_count": 10,
   "id": "fdd88224-6631-44a2-935a-c9b95fb0fc59",
   "metadata": {},
   "outputs": [
    {
     "data": {
      "text/plain": [
       "array([[ 5.68777859],\n",
       "       [11.17960813],\n",
       "       [ 3.61938463],\n",
       "       [ 9.80015212],\n",
       "       [ 2.22783103]])"
      ]
     },
     "execution_count": 10,
     "metadata": {},
     "output_type": "execute_result"
    }
   ],
   "source": [
    "rm.predict(X_train)[:5]"
   ]
  },
  {
   "cell_type": "code",
   "execution_count": 11,
   "id": "a0bea617-0d4d-4db4-92c3-54e4b4b9a7a1",
   "metadata": {},
   "outputs": [
    {
     "data": {
      "text/plain": [
       "0.9131303171985857"
      ]
     },
     "execution_count": 11,
     "metadata": {},
     "output_type": "execute_result"
    }
   ],
   "source": [
    "rm.score(X_train, y_train)"
   ]
  },
  {
   "cell_type": "markdown",
   "id": "35facb5a-d582-4016-a0be-e1a860f82edf",
   "metadata": {},
   "source": [
    "**alpha**: bigger values make the model less complex"
   ]
  },
  {
   "cell_type": "code",
   "execution_count": 12,
   "id": "2aa64745-c9a8-47ef-a276-726d753d5216",
   "metadata": {},
   "outputs": [],
   "source": [
    "rm2 = Ridge(alpha=10000)\n",
    "rm2.fit(X_train, y_train);"
   ]
  },
  {
   "cell_type": "code",
   "execution_count": 13,
   "id": "8f6fbc59-b264-43d7-b067-e966ed3e640d",
   "metadata": {},
   "outputs": [
    {
     "data": {
      "text/plain": [
       "0.0024734002721027437"
      ]
     },
     "execution_count": 13,
     "metadata": {},
     "output_type": "execute_result"
    }
   ],
   "source": [
    "rm2.score(X_train, y_train)"
   ]
  },
  {
   "cell_type": "code",
   "execution_count": 18,
   "id": "690b7d8d-dd33-4296-abd6-178680d56f37",
   "metadata": {},
   "outputs": [],
   "source": [
    "scores_dict = {\n",
    "    \"alpha\": 10.0**np.arange(-2,6,1),\n",
    "    \"train_scores\": list(),\n",
    "    \"cv_scores\":list(),\n",
    "}\n",
    "\n",
    "for alpha in scores_dict['alpha']:\n",
    "    ridge_model = Ridge(alpha=alpha)\n",
    "    results = cross_validate(ridge_model, X_train, y_train, return_train_score=True)\n",
    "    scores_dict['train_scores'].append(results[\"train_score\"].mean())\n",
    "    scores_dict[\"cv_scores\"].append(results[\"test_score\"].mean())"
   ]
  },
  {
   "cell_type": "code",
   "execution_count": 19,
   "id": "42601f8a-643e-4a62-942a-88d4293a3266",
   "metadata": {},
   "outputs": [
    {
     "data": {
      "text/html": [
       "<div>\n",
       "<style scoped>\n",
       "    .dataframe tbody tr th:only-of-type {\n",
       "        vertical-align: middle;\n",
       "    }\n",
       "\n",
       "    .dataframe tbody tr th {\n",
       "        vertical-align: top;\n",
       "    }\n",
       "\n",
       "    .dataframe thead th {\n",
       "        text-align: right;\n",
       "    }\n",
       "</style>\n",
       "<table border=\"1\" class=\"dataframe\">\n",
       "  <thead>\n",
       "    <tr style=\"text-align: right;\">\n",
       "      <th></th>\n",
       "      <th>alpha</th>\n",
       "      <th>train_scores</th>\n",
       "      <th>cv_scores</th>\n",
       "    </tr>\n",
       "  </thead>\n",
       "  <tbody>\n",
       "    <tr>\n",
       "      <th>0</th>\n",
       "      <td>0.01</td>\n",
       "      <td>0.917359</td>\n",
       "      <td>0.892893</td>\n",
       "    </tr>\n",
       "    <tr>\n",
       "      <th>1</th>\n",
       "      <td>0.10</td>\n",
       "      <td>0.917281</td>\n",
       "      <td>0.893221</td>\n",
       "    </tr>\n",
       "    <tr>\n",
       "      <th>2</th>\n",
       "      <td>1.00</td>\n",
       "      <td>0.910626</td>\n",
       "      <td>0.889479</td>\n",
       "    </tr>\n",
       "    <tr>\n",
       "      <th>3</th>\n",
       "      <td>10.00</td>\n",
       "      <td>0.703560</td>\n",
       "      <td>0.674002</td>\n",
       "    </tr>\n",
       "    <tr>\n",
       "      <th>4</th>\n",
       "      <td>100.00</td>\n",
       "      <td>0.169554</td>\n",
       "      <td>0.087447</td>\n",
       "    </tr>\n",
       "    <tr>\n",
       "      <th>5</th>\n",
       "      <td>1000.00</td>\n",
       "      <td>0.019440</td>\n",
       "      <td>-0.079094</td>\n",
       "    </tr>\n",
       "    <tr>\n",
       "      <th>6</th>\n",
       "      <td>10000.00</td>\n",
       "      <td>0.001972</td>\n",
       "      <td>-0.098498</td>\n",
       "    </tr>\n",
       "    <tr>\n",
       "      <th>7</th>\n",
       "      <td>100000.00</td>\n",
       "      <td>0.000198</td>\n",
       "      <td>-0.100470</td>\n",
       "    </tr>\n",
       "  </tbody>\n",
       "</table>\n",
       "</div>"
      ],
      "text/plain": [
       "       alpha  train_scores  cv_scores\n",
       "0       0.01      0.917359   0.892893\n",
       "1       0.10      0.917281   0.893221\n",
       "2       1.00      0.910626   0.889479\n",
       "3      10.00      0.703560   0.674002\n",
       "4     100.00      0.169554   0.087447\n",
       "5    1000.00      0.019440  -0.079094\n",
       "6   10000.00      0.001972  -0.098498\n",
       "7  100000.00      0.000198  -0.100470"
      ]
     },
     "execution_count": 19,
     "metadata": {},
     "output_type": "execute_result"
    }
   ],
   "source": [
    "pd.DataFrame(scores_dict)"
   ]
  },
  {
   "cell_type": "markdown",
   "id": "f3651da3-7019-492d-96af-668cb8a7ef33",
   "metadata": {},
   "source": [
    "### Coefficients and coef_"
   ]
  },
  {
   "cell_type": "code",
   "execution_count": 21,
   "id": "3c051f41-d4c3-4945-be21-1ea2ca8eea9e",
   "metadata": {},
   "outputs": [
    {
     "data": {
      "text/html": [
       "<div>\n",
       "<style scoped>\n",
       "    .dataframe tbody tr th:only-of-type {\n",
       "        vertical-align: middle;\n",
       "    }\n",
       "\n",
       "    .dataframe tbody tr th {\n",
       "        vertical-align: top;\n",
       "    }\n",
       "\n",
       "    .dataframe thead th {\n",
       "        text-align: right;\n",
       "    }\n",
       "</style>\n",
       "<table border=\"1\" class=\"dataframe\">\n",
       "  <thead>\n",
       "    <tr style=\"text-align: right;\">\n",
       "      <th></th>\n",
       "      <th>longitude</th>\n",
       "      <th>latitude</th>\n",
       "      <th>housing_median_age</th>\n",
       "      <th>total_rooms</th>\n",
       "      <th>total_bedrooms</th>\n",
       "      <th>population</th>\n",
       "      <th>households</th>\n",
       "      <th>median_income</th>\n",
       "      <th>median_house_value</th>\n",
       "      <th>ocean_proximity</th>\n",
       "    </tr>\n",
       "  </thead>\n",
       "  <tbody>\n",
       "    <tr>\n",
       "      <th>5425</th>\n",
       "      <td>-118.42</td>\n",
       "      <td>34.02</td>\n",
       "      <td>34.0</td>\n",
       "      <td>2243.0</td>\n",
       "      <td>444.0</td>\n",
       "      <td>973.0</td>\n",
       "      <td>413.0</td>\n",
       "      <td>4.9676</td>\n",
       "      <td>414100.0</td>\n",
       "      <td>&lt;1H OCEAN</td>\n",
       "    </tr>\n",
       "    <tr>\n",
       "      <th>12499</th>\n",
       "      <td>-121.46</td>\n",
       "      <td>38.57</td>\n",
       "      <td>52.0</td>\n",
       "      <td>810.0</td>\n",
       "      <td>172.0</td>\n",
       "      <td>326.0</td>\n",
       "      <td>151.0</td>\n",
       "      <td>3.1583</td>\n",
       "      <td>140000.0</td>\n",
       "      <td>INLAND</td>\n",
       "    </tr>\n",
       "    <tr>\n",
       "      <th>7020</th>\n",
       "      <td>-118.10</td>\n",
       "      <td>33.97</td>\n",
       "      <td>35.0</td>\n",
       "      <td>2426.0</td>\n",
       "      <td>529.0</td>\n",
       "      <td>2010.0</td>\n",
       "      <td>514.0</td>\n",
       "      <td>2.9922</td>\n",
       "      <td>163500.0</td>\n",
       "      <td>&lt;1H OCEAN</td>\n",
       "    </tr>\n",
       "    <tr>\n",
       "      <th>6477</th>\n",
       "      <td>-118.08</td>\n",
       "      <td>34.09</td>\n",
       "      <td>32.0</td>\n",
       "      <td>3214.0</td>\n",
       "      <td>718.0</td>\n",
       "      <td>2316.0</td>\n",
       "      <td>751.0</td>\n",
       "      <td>3.7066</td>\n",
       "      <td>206800.0</td>\n",
       "      <td>&lt;1H OCEAN</td>\n",
       "    </tr>\n",
       "    <tr>\n",
       "      <th>8670</th>\n",
       "      <td>-118.37</td>\n",
       "      <td>33.82</td>\n",
       "      <td>32.0</td>\n",
       "      <td>2815.0</td>\n",
       "      <td>607.0</td>\n",
       "      <td>1338.0</td>\n",
       "      <td>609.0</td>\n",
       "      <td>4.5687</td>\n",
       "      <td>381200.0</td>\n",
       "      <td>&lt;1H OCEAN</td>\n",
       "    </tr>\n",
       "  </tbody>\n",
       "</table>\n",
       "</div>"
      ],
      "text/plain": [
       "       longitude  latitude  housing_median_age  total_rooms  total_bedrooms  \\\n",
       "5425     -118.42     34.02                34.0       2243.0           444.0   \n",
       "12499    -121.46     38.57                52.0        810.0           172.0   \n",
       "7020     -118.10     33.97                35.0       2426.0           529.0   \n",
       "6477     -118.08     34.09                32.0       3214.0           718.0   \n",
       "8670     -118.37     33.82                32.0       2815.0           607.0   \n",
       "\n",
       "       population  households  median_income  median_house_value  \\\n",
       "5425        973.0       413.0         4.9676            414100.0   \n",
       "12499       326.0       151.0         3.1583            140000.0   \n",
       "7020       2010.0       514.0         2.9922            163500.0   \n",
       "6477       2316.0       751.0         3.7066            206800.0   \n",
       "8670       1338.0       609.0         4.5687            381200.0   \n",
       "\n",
       "      ocean_proximity  \n",
       "5425        <1H OCEAN  \n",
       "12499          INLAND  \n",
       "7020        <1H OCEAN  \n",
       "6477        <1H OCEAN  \n",
       "8670        <1H OCEAN  "
      ]
     },
     "execution_count": 21,
     "metadata": {},
     "output_type": "execute_result"
    }
   ],
   "source": [
    "housing_df = pd.read_csv(\"data/housing.csv\")\n",
    "train_df, test_df = train_test_split(housing_df, test_size=0.1, random_state=1)\n",
    "train_df.head()"
   ]
  },
  {
   "cell_type": "code",
   "execution_count": 26,
   "id": "922c9760-d375-4469-95b1-bf96f3f34d7e",
   "metadata": {},
   "outputs": [],
   "source": [
    "X_train, y_train = train_df.drop(columns=[\"median_house_value\", \"ocean_proximity\", \"total_bedrooms\"]), train_df[\"median_house_value\"]\n",
    "X_test, y_test = test_df.drop(columns=[\"median_house_value\",\"ocean_proximity\",\"total_bedrooms\"]), test_df[\"median_house_value\"]"
   ]
  },
  {
   "cell_type": "code",
   "execution_count": 27,
   "id": "2b3ae996-9209-4420-96c8-8276a3244ad1",
   "metadata": {},
   "outputs": [
    {
     "name": "stdout",
     "output_type": "stream",
     "text": [
      "<class 'pandas.core.frame.DataFrame'>\n",
      "Int64Index: 18576 entries, 5425 to 235\n",
      "Data columns (total 7 columns):\n",
      " #   Column              Non-Null Count  Dtype  \n",
      "---  ------              --------------  -----  \n",
      " 0   longitude           18576 non-null  float64\n",
      " 1   latitude            18576 non-null  float64\n",
      " 2   housing_median_age  18576 non-null  float64\n",
      " 3   total_rooms         18576 non-null  float64\n",
      " 4   population          18576 non-null  float64\n",
      " 5   households          18576 non-null  float64\n",
      " 6   median_income       18576 non-null  float64\n",
      "dtypes: float64(7)\n",
      "memory usage: 1.1 MB\n"
     ]
    }
   ],
   "source": [
    "X_train.info()"
   ]
  },
  {
   "cell_type": "code",
   "execution_count": 29,
   "id": "46f1270b-8eff-4f4a-bb1a-c4bde27a3cf4",
   "metadata": {},
   "outputs": [
    {
     "data": {
      "text/plain": [
       "0.6319807221851641"
      ]
     },
     "execution_count": 29,
     "metadata": {},
     "output_type": "execute_result"
    }
   ],
   "source": [
    "lm = Ridge()\n",
    "lm.fit(X_train, y_train);\n",
    "training_score = lm.score(X_train, y_train)\n",
    "training_score"
   ]
  },
  {
   "cell_type": "code",
   "execution_count": 30,
   "id": "7b7607c3-d6bd-44ce-adb5-08c2d6354d68",
   "metadata": {},
   "outputs": [
    {
     "data": {
      "text/plain": [
       "array([-4.22348876e+04, -4.24083058e+04,  1.14085214e+03, -1.69515643e+00,\n",
       "       -4.22416401e+01,  1.46421396e+02,  3.84011720e+04])"
      ]
     },
     "execution_count": 30,
     "metadata": {},
     "output_type": "execute_result"
    }
   ],
   "source": [
    "lm.coef_"
   ]
  },
  {
   "cell_type": "code",
   "execution_count": 31,
   "id": "b102edb5-6dcc-4f7b-bef4-b73560766399",
   "metadata": {},
   "outputs": [
    {
     "data": {
      "text/plain": [
       "array([-4.22348876e+04, -4.24083058e+04,  1.14085214e+03, -1.69515643e+00,\n",
       "       -4.22416401e+01,  1.46421396e+02,  3.84011720e+04])"
      ]
     },
     "execution_count": 31,
     "metadata": {},
     "output_type": "execute_result"
    }
   ],
   "source": [
    "ridge_coeffs = lm.coef_\n",
    "ridge_coeffs"
   ]
  },
  {
   "cell_type": "code",
   "execution_count": 32,
   "id": "ef2c0bd9-2a68-4d38-a095-f89fb79b5dd2",
   "metadata": {},
   "outputs": [
    {
     "data": {
      "text/html": [
       "<div>\n",
       "<style scoped>\n",
       "    .dataframe tbody tr th:only-of-type {\n",
       "        vertical-align: middle;\n",
       "    }\n",
       "\n",
       "    .dataframe tbody tr th {\n",
       "        vertical-align: top;\n",
       "    }\n",
       "\n",
       "    .dataframe thead th {\n",
       "        text-align: right;\n",
       "    }\n",
       "</style>\n",
       "<table border=\"1\" class=\"dataframe\">\n",
       "  <thead>\n",
       "    <tr style=\"text-align: right;\">\n",
       "      <th></th>\n",
       "      <th>Coefficients</th>\n",
       "    </tr>\n",
       "  </thead>\n",
       "  <tbody>\n",
       "    <tr>\n",
       "      <th>longitude</th>\n",
       "      <td>-42234.887639</td>\n",
       "    </tr>\n",
       "    <tr>\n",
       "      <th>latitude</th>\n",
       "      <td>-42408.305835</td>\n",
       "    </tr>\n",
       "    <tr>\n",
       "      <th>housing_median_age</th>\n",
       "      <td>1140.852140</td>\n",
       "    </tr>\n",
       "    <tr>\n",
       "      <th>total_rooms</th>\n",
       "      <td>-1.695156</td>\n",
       "    </tr>\n",
       "    <tr>\n",
       "      <th>population</th>\n",
       "      <td>-42.241640</td>\n",
       "    </tr>\n",
       "    <tr>\n",
       "      <th>households</th>\n",
       "      <td>146.421396</td>\n",
       "    </tr>\n",
       "    <tr>\n",
       "      <th>median_income</th>\n",
       "      <td>38401.172030</td>\n",
       "    </tr>\n",
       "  </tbody>\n",
       "</table>\n",
       "</div>"
      ],
      "text/plain": [
       "                    Coefficients\n",
       "longitude          -42234.887639\n",
       "latitude           -42408.305835\n",
       "housing_median_age   1140.852140\n",
       "total_rooms            -1.695156\n",
       "population            -42.241640\n",
       "households            146.421396\n",
       "median_income       38401.172030"
      ]
     },
     "execution_count": 32,
     "metadata": {},
     "output_type": "execute_result"
    }
   ],
   "source": [
    "words_coeffs_df = pd.DataFrame(data=ridge_coeffs, index=X_train.columns, columns=['Coefficients'])\n",
    "words_coeffs_df"
   ]
  },
  {
   "cell_type": "code",
   "execution_count": 33,
   "id": "cce5ecf1-f8f1-4d4f-8923-49a8474e2e29",
   "metadata": {},
   "outputs": [
    {
     "data": {
      "text/html": [
       "<div>\n",
       "<style scoped>\n",
       "    .dataframe tbody tr th:only-of-type {\n",
       "        vertical-align: middle;\n",
       "    }\n",
       "\n",
       "    .dataframe tbody tr th {\n",
       "        vertical-align: top;\n",
       "    }\n",
       "\n",
       "    .dataframe thead th {\n",
       "        text-align: right;\n",
       "    }\n",
       "</style>\n",
       "<table border=\"1\" class=\"dataframe\">\n",
       "  <thead>\n",
       "    <tr style=\"text-align: right;\">\n",
       "      <th></th>\n",
       "      <th>Coefficients</th>\n",
       "    </tr>\n",
       "  </thead>\n",
       "  <tbody>\n",
       "    <tr>\n",
       "      <th>total_rooms</th>\n",
       "      <td>1.695156</td>\n",
       "    </tr>\n",
       "    <tr>\n",
       "      <th>population</th>\n",
       "      <td>42.241640</td>\n",
       "    </tr>\n",
       "    <tr>\n",
       "      <th>households</th>\n",
       "      <td>146.421396</td>\n",
       "    </tr>\n",
       "    <tr>\n",
       "      <th>housing_median_age</th>\n",
       "      <td>1140.852140</td>\n",
       "    </tr>\n",
       "    <tr>\n",
       "      <th>median_income</th>\n",
       "      <td>38401.172030</td>\n",
       "    </tr>\n",
       "    <tr>\n",
       "      <th>longitude</th>\n",
       "      <td>42234.887639</td>\n",
       "    </tr>\n",
       "    <tr>\n",
       "      <th>latitude</th>\n",
       "      <td>42408.305835</td>\n",
       "    </tr>\n",
       "  </tbody>\n",
       "</table>\n",
       "</div>"
      ],
      "text/plain": [
       "                    Coefficients\n",
       "total_rooms             1.695156\n",
       "population             42.241640\n",
       "households            146.421396\n",
       "housing_median_age   1140.852140\n",
       "median_income       38401.172030\n",
       "longitude           42234.887639\n",
       "latitude            42408.305835"
      ]
     },
     "execution_count": 33,
     "metadata": {},
     "output_type": "execute_result"
    }
   ],
   "source": [
    "words_coeffs_df.abs().sort_values(by='Coefficients')"
   ]
  },
  {
   "cell_type": "markdown",
   "id": "79fe56cf-17b5-43e0-a5a7-c4038ea0184d",
   "metadata": {},
   "source": [
    "**Interpreting learned coefficients**\n",
    "\n",
    "In linear models:\n",
    "* if the coefficient is positive, then increasing the feature values increases the prediction value\n",
    "* if the coefficient is negative, then increasing the feature values decreases the prediction value\n",
    "* if the coefficient is 0, the feature is not used in making a prediction"
   ]
  },
  {
   "cell_type": "markdown",
   "id": "ecf0a3e1-9892-4259-bc5e-4dab2217b72d",
   "metadata": {},
   "source": [
    "**Predicting**"
   ]
  },
  {
   "cell_type": "code",
   "execution_count": 34,
   "id": "d04eac1f-aa0f-4269-8151-83602e287bf2",
   "metadata": {},
   "outputs": [
    {
     "data": {
      "text/html": [
       "<div>\n",
       "<style scoped>\n",
       "    .dataframe tbody tr th:only-of-type {\n",
       "        vertical-align: middle;\n",
       "    }\n",
       "\n",
       "    .dataframe tbody tr th {\n",
       "        vertical-align: top;\n",
       "    }\n",
       "\n",
       "    .dataframe thead th {\n",
       "        text-align: right;\n",
       "    }\n",
       "</style>\n",
       "<table border=\"1\" class=\"dataframe\">\n",
       "  <thead>\n",
       "    <tr style=\"text-align: right;\">\n",
       "      <th></th>\n",
       "      <th>longitude</th>\n",
       "      <th>latitude</th>\n",
       "      <th>housing_median_age</th>\n",
       "      <th>total_rooms</th>\n",
       "      <th>population</th>\n",
       "      <th>households</th>\n",
       "      <th>median_income</th>\n",
       "    </tr>\n",
       "  </thead>\n",
       "  <tbody>\n",
       "    <tr>\n",
       "      <th>5425</th>\n",
       "      <td>-118.42</td>\n",
       "      <td>34.02</td>\n",
       "      <td>34.0</td>\n",
       "      <td>2243.0</td>\n",
       "      <td>973.0</td>\n",
       "      <td>413.0</td>\n",
       "      <td>4.9676</td>\n",
       "    </tr>\n",
       "  </tbody>\n",
       "</table>\n",
       "</div>"
      ],
      "text/plain": [
       "      longitude  latitude  housing_median_age  total_rooms  population  \\\n",
       "5425    -118.42     34.02                34.0       2243.0       973.0   \n",
       "\n",
       "      households  median_income  \n",
       "5425       413.0         4.9676  "
      ]
     },
     "execution_count": 34,
     "metadata": {},
     "output_type": "execute_result"
    }
   ],
   "source": [
    "X_train.iloc[0:1]"
   ]
  },
  {
   "cell_type": "code",
   "execution_count": 36,
   "id": "3626eea1-9c95-4ff2-bac0-b80219cbd14f",
   "metadata": {},
   "outputs": [
    {
     "data": {
      "text/plain": [
       "array([281969.52599679])"
      ]
     },
     "execution_count": 36,
     "metadata": {},
     "output_type": "execute_result"
    }
   ],
   "source": [
    "lm.predict(X_train.iloc[0:1])"
   ]
  },
  {
   "cell_type": "code",
   "execution_count": 37,
   "id": "980c7cd7-77c0-4d38-bcc7-cf196e9bbc7e",
   "metadata": {},
   "outputs": [
    {
     "data": {
      "text/html": [
       "<div>\n",
       "<style scoped>\n",
       "    .dataframe tbody tr th:only-of-type {\n",
       "        vertical-align: middle;\n",
       "    }\n",
       "\n",
       "    .dataframe tbody tr th {\n",
       "        vertical-align: top;\n",
       "    }\n",
       "\n",
       "    .dataframe thead th {\n",
       "        text-align: right;\n",
       "    }\n",
       "</style>\n",
       "<table border=\"1\" class=\"dataframe\">\n",
       "  <thead>\n",
       "    <tr style=\"text-align: right;\">\n",
       "      <th></th>\n",
       "      <th>longitude</th>\n",
       "      <th>latitude</th>\n",
       "      <th>housing_median_age</th>\n",
       "      <th>total_rooms</th>\n",
       "      <th>population</th>\n",
       "      <th>households</th>\n",
       "      <th>median_income</th>\n",
       "    </tr>\n",
       "  </thead>\n",
       "  <tbody>\n",
       "    <tr>\n",
       "      <th>Coefficients</th>\n",
       "      <td>-42234.887639</td>\n",
       "      <td>-42408.305835</td>\n",
       "      <td>1140.85214</td>\n",
       "      <td>-1.695156</td>\n",
       "      <td>-42.24164</td>\n",
       "      <td>146.421396</td>\n",
       "      <td>38401.17203</td>\n",
       "    </tr>\n",
       "  </tbody>\n",
       "</table>\n",
       "</div>"
      ],
      "text/plain": [
       "                 longitude      latitude  housing_median_age  total_rooms  \\\n",
       "Coefficients -42234.887639 -42408.305835          1140.85214    -1.695156   \n",
       "\n",
       "              population  households  median_income  \n",
       "Coefficients   -42.24164  146.421396    38401.17203  "
      ]
     },
     "execution_count": 37,
     "metadata": {},
     "output_type": "execute_result"
    }
   ],
   "source": [
    "words_coeffs_df.T"
   ]
  },
  {
   "cell_type": "code",
   "execution_count": 38,
   "id": "d210f7ac-21d6-40db-adf4-91e169ed078f",
   "metadata": {},
   "outputs": [
    {
     "data": {
      "text/html": [
       "<div>\n",
       "<style scoped>\n",
       "    .dataframe tbody tr th:only-of-type {\n",
       "        vertical-align: middle;\n",
       "    }\n",
       "\n",
       "    .dataframe tbody tr th {\n",
       "        vertical-align: top;\n",
       "    }\n",
       "\n",
       "    .dataframe thead th {\n",
       "        text-align: right;\n",
       "    }\n",
       "</style>\n",
       "<table border=\"1\" class=\"dataframe\">\n",
       "  <thead>\n",
       "    <tr style=\"text-align: right;\">\n",
       "      <th></th>\n",
       "      <th>longitude</th>\n",
       "      <th>latitude</th>\n",
       "      <th>housing_median_age</th>\n",
       "      <th>total_rooms</th>\n",
       "      <th>population</th>\n",
       "      <th>households</th>\n",
       "      <th>median_income</th>\n",
       "    </tr>\n",
       "  </thead>\n",
       "  <tbody>\n",
       "    <tr>\n",
       "      <th>5425</th>\n",
       "      <td>-118.42</td>\n",
       "      <td>34.02</td>\n",
       "      <td>34.0</td>\n",
       "      <td>2243.0</td>\n",
       "      <td>973.0</td>\n",
       "      <td>413.0</td>\n",
       "      <td>4.9676</td>\n",
       "    </tr>\n",
       "  </tbody>\n",
       "</table>\n",
       "</div>"
      ],
      "text/plain": [
       "      longitude  latitude  housing_median_age  total_rooms  population  \\\n",
       "5425    -118.42     34.02                34.0       2243.0       973.0   \n",
       "\n",
       "      households  median_income  \n",
       "5425       413.0         4.9676  "
      ]
     },
     "execution_count": 38,
     "metadata": {},
     "output_type": "execute_result"
    }
   ],
   "source": [
    "X_train.iloc[0:1]"
   ]
  },
  {
   "cell_type": "code",
   "execution_count": 41,
   "id": "55fcc2f6-84b1-444d-94de-225107ec84a2",
   "metadata": {},
   "outputs": [
    {
     "data": {
      "text/plain": [
       "5425    281969.525997\n",
       "dtype: float64"
      ]
     },
     "execution_count": 41,
     "metadata": {},
     "output_type": "execute_result"
    }
   ],
   "source": [
    "intercept = lm.intercept_\n",
    "(ridge_coeffs * X_train.iloc[0:1]).sum(axis=1) + intercept"
   ]
  },
  {
   "cell_type": "markdown",
   "id": "25e97f06-b63e-4129-a7e7-7d65503805ef",
   "metadata": {},
   "source": [
    "### Logistic Regression"
   ]
  },
  {
   "cell_type": "code",
   "execution_count": 68,
   "id": "8b3a4609-d3da-4d0d-9e60-d2b047bbc7ef",
   "metadata": {},
   "outputs": [
    {
     "data": {
      "text/html": [
       "<div>\n",
       "<style scoped>\n",
       "    .dataframe tbody tr th:only-of-type {\n",
       "        vertical-align: middle;\n",
       "    }\n",
       "\n",
       "    .dataframe tbody tr th {\n",
       "        vertical-align: top;\n",
       "    }\n",
       "\n",
       "    .dataframe thead th {\n",
       "        text-align: right;\n",
       "    }\n",
       "</style>\n",
       "<table border=\"1\" class=\"dataframe\">\n",
       "  <thead>\n",
       "    <tr style=\"text-align: right;\">\n",
       "      <th></th>\n",
       "      <th>longitude</th>\n",
       "      <th>latitude</th>\n",
       "      <th>country</th>\n",
       "    </tr>\n",
       "  </thead>\n",
       "  <tbody>\n",
       "    <tr>\n",
       "      <th>160</th>\n",
       "      <td>-76.4813</td>\n",
       "      <td>44.2307</td>\n",
       "      <td>Canada</td>\n",
       "    </tr>\n",
       "    <tr>\n",
       "      <th>127</th>\n",
       "      <td>-81.2496</td>\n",
       "      <td>42.9837</td>\n",
       "      <td>Canada</td>\n",
       "    </tr>\n",
       "    <tr>\n",
       "      <th>169</th>\n",
       "      <td>-66.0580</td>\n",
       "      <td>45.2788</td>\n",
       "      <td>Canada</td>\n",
       "    </tr>\n",
       "    <tr>\n",
       "      <th>188</th>\n",
       "      <td>-73.2533</td>\n",
       "      <td>45.3057</td>\n",
       "      <td>Canada</td>\n",
       "    </tr>\n",
       "    <tr>\n",
       "      <th>187</th>\n",
       "      <td>-67.9245</td>\n",
       "      <td>47.1652</td>\n",
       "      <td>Canada</td>\n",
       "    </tr>\n",
       "  </tbody>\n",
       "</table>\n",
       "</div>"
      ],
      "text/plain": [
       "     longitude  latitude country\n",
       "160   -76.4813   44.2307  Canada\n",
       "127   -81.2496   42.9837  Canada\n",
       "169   -66.0580   45.2788  Canada\n",
       "188   -73.2533   45.3057  Canada\n",
       "187   -67.9245   47.1652  Canada"
      ]
     },
     "execution_count": 68,
     "metadata": {},
     "output_type": "execute_result"
    }
   ],
   "source": [
    "cities_df = pd.read_csv(\"https://raw.githubusercontent.com/UBC-MDS/DSCI_571_sup-learn-1/master/lectures/data/canada_usa_cities.csv\")\n",
    "train_df, test_df = train_test_split(cities_df, test_size=0.2, random_state=123)\n",
    "\n",
    "X_train, y_train = train_df.drop(columns=[\"country\"], axis=1), train_df[\"country\"]\n",
    "X_test, y_test = test_df.drop(columns=[\"country\"], axis=1), test_df[\"country\"]\n",
    "\n",
    "train_df.head()"
   ]
  },
  {
   "cell_type": "code",
   "execution_count": 70,
   "id": "e33ca505-65b3-486e-9f51-169594a7bbd9",
   "metadata": {},
   "outputs": [],
   "source": [
    "from sklearn.dummy import DummyClassifier\n",
    "dc = DummyClassifier(strategy=\"prior\")\n",
    "\n",
    "scores = pd.DataFrame(cross_validate(dc, X_train, y_train, return_train_score=True))"
   ]
  },
  {
   "cell_type": "code",
   "execution_count": 71,
   "id": "66b94104-f224-4f6a-a0ee-fbaee97618d7",
   "metadata": {},
   "outputs": [],
   "source": [
    "from sklearn.linear_model import LogisticRegression"
   ]
  },
  {
   "cell_type": "code",
   "execution_count": 74,
   "id": "a1eba618-a7a1-4b9c-9aeb-0846ce821693",
   "metadata": {},
   "outputs": [
    {
     "data": {
      "text/html": [
       "<div>\n",
       "<style scoped>\n",
       "    .dataframe tbody tr th:only-of-type {\n",
       "        vertical-align: middle;\n",
       "    }\n",
       "\n",
       "    .dataframe tbody tr th {\n",
       "        vertical-align: top;\n",
       "    }\n",
       "\n",
       "    .dataframe thead th {\n",
       "        text-align: right;\n",
       "    }\n",
       "</style>\n",
       "<table border=\"1\" class=\"dataframe\">\n",
       "  <thead>\n",
       "    <tr style=\"text-align: right;\">\n",
       "      <th></th>\n",
       "      <th>fit_time</th>\n",
       "      <th>score_time</th>\n",
       "      <th>test_score</th>\n",
       "      <th>train_score</th>\n",
       "    </tr>\n",
       "  </thead>\n",
       "  <tbody>\n",
       "    <tr>\n",
       "      <th>0</th>\n",
       "      <td>0.087232</td>\n",
       "      <td>0.008018</td>\n",
       "      <td>0.852941</td>\n",
       "      <td>0.827068</td>\n",
       "    </tr>\n",
       "    <tr>\n",
       "      <th>1</th>\n",
       "      <td>0.046970</td>\n",
       "      <td>0.002546</td>\n",
       "      <td>0.823529</td>\n",
       "      <td>0.827068</td>\n",
       "    </tr>\n",
       "    <tr>\n",
       "      <th>2</th>\n",
       "      <td>0.010757</td>\n",
       "      <td>0.002385</td>\n",
       "      <td>0.696970</td>\n",
       "      <td>0.858209</td>\n",
       "    </tr>\n",
       "    <tr>\n",
       "      <th>3</th>\n",
       "      <td>0.008517</td>\n",
       "      <td>0.002186</td>\n",
       "      <td>0.787879</td>\n",
       "      <td>0.843284</td>\n",
       "    </tr>\n",
       "    <tr>\n",
       "      <th>4</th>\n",
       "      <td>0.010337</td>\n",
       "      <td>0.004234</td>\n",
       "      <td>0.939394</td>\n",
       "      <td>0.805970</td>\n",
       "    </tr>\n",
       "  </tbody>\n",
       "</table>\n",
       "</div>"
      ],
      "text/plain": [
       "   fit_time  score_time  test_score  train_score\n",
       "0  0.087232    0.008018    0.852941     0.827068\n",
       "1  0.046970    0.002546    0.823529     0.827068\n",
       "2  0.010757    0.002385    0.696970     0.858209\n",
       "3  0.008517    0.002186    0.787879     0.843284\n",
       "4  0.010337    0.004234    0.939394     0.805970"
      ]
     },
     "execution_count": 74,
     "metadata": {},
     "output_type": "execute_result"
    }
   ],
   "source": [
    "lr = LogisticRegression()\n",
    "scores = pd.DataFrame(cross_validate(lr, X_train, y_train, return_train_score=True))\n",
    "scores"
   ]
  },
  {
   "cell_type": "markdown",
   "id": "251178bb-9cb3-46c8-996f-def06737ad7b",
   "metadata": {},
   "source": [
    "**Coefficients**"
   ]
  },
  {
   "cell_type": "code",
   "execution_count": 75,
   "id": "eaac86eb-8c02-4563-b716-6f4a3244e1e5",
   "metadata": {},
   "outputs": [],
   "source": [
    "lr = LogisticRegression()\n",
    "lr.fit(X_train, y_train);"
   ]
  },
  {
   "cell_type": "code",
   "execution_count": 76,
   "id": "cf089f02-02d5-48dd-bd99-6a8350fcd091",
   "metadata": {},
   "outputs": [
    {
     "name": "stdout",
     "output_type": "stream",
     "text": [
      "Model coefficients: [[-0.04108149 -0.33683126]]\n",
      "Model intercept: [10.8869838]\n"
     ]
    }
   ],
   "source": [
    "print(\"Model coefficients:\", lr.coef_)\n",
    "print(\"Model intercept:\", lr.intercept_)"
   ]
  },
  {
   "cell_type": "markdown",
   "id": "3a812c74-ca53-4d00-b0f1-7255018a61af",
   "metadata": {},
   "source": [
    "**Predictions**"
   ]
  },
  {
   "cell_type": "code",
   "execution_count": 77,
   "id": "87e5576d-a1d2-45bf-ba63-c3905fdc5358",
   "metadata": {},
   "outputs": [
    {
     "data": {
      "text/plain": [
       "array(['Canada', 'USA'], dtype=object)"
      ]
     },
     "execution_count": 77,
     "metadata": {},
     "output_type": "execute_result"
    }
   ],
   "source": [
    "lr.classes_"
   ]
  },
  {
   "cell_type": "code",
   "execution_count": 79,
   "id": "a361cf30-5fc4-4b75-9a35-2ae054a9f541",
   "metadata": {},
   "outputs": [
    {
     "data": {
      "text/plain": [
       "[-64.8001, 46.098]"
      ]
     },
     "execution_count": 79,
     "metadata": {},
     "output_type": "execute_result"
    }
   ],
   "source": [
    "example = X_test.iloc[0,:]\n",
    "example.tolist()"
   ]
  },
  {
   "cell_type": "code",
   "execution_count": 80,
   "id": "a61f40c1-ac4c-4016-833d-1d9bae9d6370",
   "metadata": {},
   "outputs": [
    {
     "data": {
      "text/plain": [
       "array([-1.97817876])"
      ]
     },
     "execution_count": 80,
     "metadata": {},
     "output_type": "execute_result"
    }
   ],
   "source": [
    "(example.tolist() * lr.coef_).sum(axis=1) + lr.intercept_"
   ]
  },
  {
   "cell_type": "code",
   "execution_count": 81,
   "id": "af9f3606-0d58-4082-a2f5-4a78f525f914",
   "metadata": {},
   "outputs": [
    {
     "name": "stderr",
     "output_type": "stream",
     "text": [
      "/Users/jennalenoble/miniconda3/lib/python3.10/site-packages/sklearn/base.py:464: UserWarning: X does not have valid feature names, but LogisticRegression was fitted with feature names\n",
      "  warnings.warn(\n"
     ]
    },
    {
     "data": {
      "text/plain": [
       "array(['Canada'], dtype=object)"
      ]
     },
     "execution_count": 81,
     "metadata": {},
     "output_type": "execute_result"
    }
   ],
   "source": [
    "lr.predict([example])"
   ]
  },
  {
   "cell_type": "markdown",
   "id": "086d95e4-b5bd-4349-85c6-d35d11fe2dde",
   "metadata": {},
   "source": [
    "**Hyperparameter: C**\n",
    " Larger values increase the model’s complexity."
   ]
  },
  {
   "cell_type": "code",
   "execution_count": 83,
   "id": "f92616f3-305f-459a-ba0b-8a22e7fd6c6a",
   "metadata": {},
   "outputs": [],
   "source": [
    "scores_dict = {\n",
    "    \"C\": 10.0**np.arange(-6,2,1),\n",
    "    \"train_score\": list(),\n",
    "    \"cv_score\": list(),\n",
    "}\n",
    "\n",
    "for C in scores_dict['C']:\n",
    "    lr_model = LogisticRegression(C=C)\n",
    "    results = cross_validate(lr_model, X_train, y_train, return_train_score=True)\n",
    "    scores_dict['train_score'].append(results[\"train_score\"].mean())\n",
    "    scores_dict[\"cv_score\"].append(results[\"test_score\"].mean())"
   ]
  },
  {
   "cell_type": "code",
   "execution_count": 84,
   "id": "c888d1db-80f3-4d44-948f-60b0c5a27af1",
   "metadata": {},
   "outputs": [
    {
     "data": {
      "text/html": [
       "<div>\n",
       "<style scoped>\n",
       "    .dataframe tbody tr th:only-of-type {\n",
       "        vertical-align: middle;\n",
       "    }\n",
       "\n",
       "    .dataframe tbody tr th {\n",
       "        vertical-align: top;\n",
       "    }\n",
       "\n",
       "    .dataframe thead th {\n",
       "        text-align: right;\n",
       "    }\n",
       "</style>\n",
       "<table border=\"1\" class=\"dataframe\">\n",
       "  <thead>\n",
       "    <tr style=\"text-align: right;\">\n",
       "      <th></th>\n",
       "      <th>C</th>\n",
       "      <th>train_score</th>\n",
       "      <th>cv_score</th>\n",
       "    </tr>\n",
       "  </thead>\n",
       "  <tbody>\n",
       "    <tr>\n",
       "      <th>0</th>\n",
       "      <td>0.000001</td>\n",
       "      <td>0.598810</td>\n",
       "      <td>0.598930</td>\n",
       "    </tr>\n",
       "    <tr>\n",
       "      <th>1</th>\n",
       "      <td>0.000010</td>\n",
       "      <td>0.598810</td>\n",
       "      <td>0.598930</td>\n",
       "    </tr>\n",
       "    <tr>\n",
       "      <th>2</th>\n",
       "      <td>0.000100</td>\n",
       "      <td>0.664707</td>\n",
       "      <td>0.658645</td>\n",
       "    </tr>\n",
       "    <tr>\n",
       "      <th>3</th>\n",
       "      <td>0.001000</td>\n",
       "      <td>0.784424</td>\n",
       "      <td>0.790731</td>\n",
       "    </tr>\n",
       "    <tr>\n",
       "      <th>4</th>\n",
       "      <td>0.010000</td>\n",
       "      <td>0.827842</td>\n",
       "      <td>0.826203</td>\n",
       "    </tr>\n",
       "    <tr>\n",
       "      <th>5</th>\n",
       "      <td>0.100000</td>\n",
       "      <td>0.832320</td>\n",
       "      <td>0.820143</td>\n",
       "    </tr>\n",
       "    <tr>\n",
       "      <th>6</th>\n",
       "      <td>1.000000</td>\n",
       "      <td>0.832320</td>\n",
       "      <td>0.820143</td>\n",
       "    </tr>\n",
       "    <tr>\n",
       "      <th>7</th>\n",
       "      <td>10.000000</td>\n",
       "      <td>0.832320</td>\n",
       "      <td>0.820143</td>\n",
       "    </tr>\n",
       "  </tbody>\n",
       "</table>\n",
       "</div>"
      ],
      "text/plain": [
       "           C  train_score  cv_score\n",
       "0   0.000001     0.598810  0.598930\n",
       "1   0.000010     0.598810  0.598930\n",
       "2   0.000100     0.664707  0.658645\n",
       "3   0.001000     0.784424  0.790731\n",
       "4   0.010000     0.827842  0.826203\n",
       "5   0.100000     0.832320  0.820143\n",
       "6   1.000000     0.832320  0.820143\n",
       "7  10.000000     0.832320  0.820143"
      ]
     },
     "execution_count": 84,
     "metadata": {},
     "output_type": "execute_result"
    }
   ],
   "source": [
    "pd.DataFrame(scores_dict)"
   ]
  },
  {
   "cell_type": "code",
   "execution_count": 86,
   "id": "a01d6011-b93b-4a56-af37-026794cc6bb4",
   "metadata": {},
   "outputs": [
    {
     "name": "stdout",
     "output_type": "stream",
     "text": [
      "Fitting 5 folds for each of 10 candidates, totalling 50 fits\n"
     ]
    }
   ],
   "source": [
    "import scipy\n",
    "from sklearn.model_selection import RandomizedSearchCV\n",
    "\n",
    "param_grid = {\n",
    "    \"C\": scipy.stats.uniform(0,100)}\n",
    "\n",
    "lr = LogisticRegression()\n",
    "grid_search = RandomizedSearchCV(lr, param_grid, cv=5, return_train_score=True, verbose=1, n_jobs=-1)\n",
    "grid_search.fit(X_train, y_train);"
   ]
  },
  {
   "cell_type": "code",
   "execution_count": 87,
   "id": "95f18ca6-d890-4768-8fed-d38b5403aeae",
   "metadata": {},
   "outputs": [
    {
     "data": {
      "text/plain": [
       "{'C': 42.38550485581797}"
      ]
     },
     "execution_count": 87,
     "metadata": {},
     "output_type": "execute_result"
    }
   ],
   "source": [
    "grid_search.best_params_"
   ]
  },
  {
   "cell_type": "code",
   "execution_count": 89,
   "id": "ca3643a0-89eb-4b24-a654-1e81310f7122",
   "metadata": {},
   "outputs": [
    {
     "data": {
      "text/plain": [
       "0.8201426024955436"
      ]
     },
     "execution_count": 89,
     "metadata": {},
     "output_type": "execute_result"
    }
   ],
   "source": [
    "grid_search.best_score_"
   ]
  },
  {
   "cell_type": "markdown",
   "id": "f2549b26-a9e0-42d9-892d-e1a6c16c5b2f",
   "metadata": {},
   "source": [
    "**Logistic regression with text data**"
   ]
  },
  {
   "cell_type": "code",
   "execution_count": 90,
   "id": "4b27e268-8a3f-4b11-8def-132d715e4fe5",
   "metadata": {},
   "outputs": [],
   "source": [
    "X = [\n",
    "    \"URGENT! As a valued network customer you have been selected to receive a prize!\",\n",
    "    \"Lol you are always so convincing.\",\n",
    "    \"Nah I don't think he goes to usf\",\n",
    "    \"URGENT! You have won a 1 week FREE membership Jackpot!\",\n",
    "    \"Had your mobile 11 months or more? U R entitles to Update to latest color mobiles for Free!\",\n",
    "    \"As per your request, 'Melle Melle' has been set as your callertune for all Callers\"]\n",
    "\n",
    "y = [\"spam\", \"non spam\", \"non spam\", \"spam\", \"spam\", \"non spam\"]"
   ]
  },
  {
   "cell_type": "code",
   "execution_count": 91,
   "id": "580299af-63e5-4c6b-938b-32836b1b8edb",
   "metadata": {},
   "outputs": [
    {
     "data": {
      "text/html": [
       "<div>\n",
       "<style scoped>\n",
       "    .dataframe tbody tr th:only-of-type {\n",
       "        vertical-align: middle;\n",
       "    }\n",
       "\n",
       "    .dataframe tbody tr th {\n",
       "        vertical-align: top;\n",
       "    }\n",
       "\n",
       "    .dataframe thead th {\n",
       "        text-align: right;\n",
       "    }\n",
       "</style>\n",
       "<table border=\"1\" class=\"dataframe\">\n",
       "  <thead>\n",
       "    <tr style=\"text-align: right;\">\n",
       "      <th></th>\n",
       "      <th>11</th>\n",
       "      <th>all</th>\n",
       "      <th>always</th>\n",
       "      <th>are</th>\n",
       "      <th>as</th>\n",
       "      <th>been</th>\n",
       "      <th>callers</th>\n",
       "      <th>callertune</th>\n",
       "      <th>color</th>\n",
       "      <th>convincing</th>\n",
       "      <th>...</th>\n",
       "      <th>think</th>\n",
       "      <th>to</th>\n",
       "      <th>update</th>\n",
       "      <th>urgent</th>\n",
       "      <th>usf</th>\n",
       "      <th>valued</th>\n",
       "      <th>week</th>\n",
       "      <th>won</th>\n",
       "      <th>you</th>\n",
       "      <th>your</th>\n",
       "    </tr>\n",
       "  </thead>\n",
       "  <tbody>\n",
       "    <tr>\n",
       "      <th>URGENT! As a valued network customer you have been selected to receive a prize!</th>\n",
       "      <td>0</td>\n",
       "      <td>0</td>\n",
       "      <td>0</td>\n",
       "      <td>0</td>\n",
       "      <td>1</td>\n",
       "      <td>1</td>\n",
       "      <td>0</td>\n",
       "      <td>0</td>\n",
       "      <td>0</td>\n",
       "      <td>0</td>\n",
       "      <td>...</td>\n",
       "      <td>0</td>\n",
       "      <td>1</td>\n",
       "      <td>0</td>\n",
       "      <td>1</td>\n",
       "      <td>0</td>\n",
       "      <td>1</td>\n",
       "      <td>0</td>\n",
       "      <td>0</td>\n",
       "      <td>1</td>\n",
       "      <td>0</td>\n",
       "    </tr>\n",
       "    <tr>\n",
       "      <th>Lol you are always so convincing.</th>\n",
       "      <td>0</td>\n",
       "      <td>0</td>\n",
       "      <td>1</td>\n",
       "      <td>1</td>\n",
       "      <td>0</td>\n",
       "      <td>0</td>\n",
       "      <td>0</td>\n",
       "      <td>0</td>\n",
       "      <td>0</td>\n",
       "      <td>1</td>\n",
       "      <td>...</td>\n",
       "      <td>0</td>\n",
       "      <td>0</td>\n",
       "      <td>0</td>\n",
       "      <td>0</td>\n",
       "      <td>0</td>\n",
       "      <td>0</td>\n",
       "      <td>0</td>\n",
       "      <td>0</td>\n",
       "      <td>1</td>\n",
       "      <td>0</td>\n",
       "    </tr>\n",
       "    <tr>\n",
       "      <th>Nah I don't think he goes to usf</th>\n",
       "      <td>0</td>\n",
       "      <td>0</td>\n",
       "      <td>0</td>\n",
       "      <td>0</td>\n",
       "      <td>0</td>\n",
       "      <td>0</td>\n",
       "      <td>0</td>\n",
       "      <td>0</td>\n",
       "      <td>0</td>\n",
       "      <td>0</td>\n",
       "      <td>...</td>\n",
       "      <td>1</td>\n",
       "      <td>1</td>\n",
       "      <td>0</td>\n",
       "      <td>0</td>\n",
       "      <td>1</td>\n",
       "      <td>0</td>\n",
       "      <td>0</td>\n",
       "      <td>0</td>\n",
       "      <td>0</td>\n",
       "      <td>0</td>\n",
       "    </tr>\n",
       "    <tr>\n",
       "      <th>URGENT! You have won a 1 week FREE membership Jackpot!</th>\n",
       "      <td>0</td>\n",
       "      <td>0</td>\n",
       "      <td>0</td>\n",
       "      <td>0</td>\n",
       "      <td>0</td>\n",
       "      <td>0</td>\n",
       "      <td>0</td>\n",
       "      <td>0</td>\n",
       "      <td>0</td>\n",
       "      <td>0</td>\n",
       "      <td>...</td>\n",
       "      <td>0</td>\n",
       "      <td>0</td>\n",
       "      <td>0</td>\n",
       "      <td>1</td>\n",
       "      <td>0</td>\n",
       "      <td>0</td>\n",
       "      <td>1</td>\n",
       "      <td>1</td>\n",
       "      <td>1</td>\n",
       "      <td>0</td>\n",
       "    </tr>\n",
       "    <tr>\n",
       "      <th>Had your mobile 11 months or more? U R entitles to Update to latest color mobiles for Free!</th>\n",
       "      <td>1</td>\n",
       "      <td>0</td>\n",
       "      <td>0</td>\n",
       "      <td>0</td>\n",
       "      <td>0</td>\n",
       "      <td>0</td>\n",
       "      <td>0</td>\n",
       "      <td>0</td>\n",
       "      <td>1</td>\n",
       "      <td>0</td>\n",
       "      <td>...</td>\n",
       "      <td>0</td>\n",
       "      <td>2</td>\n",
       "      <td>1</td>\n",
       "      <td>0</td>\n",
       "      <td>0</td>\n",
       "      <td>0</td>\n",
       "      <td>0</td>\n",
       "      <td>0</td>\n",
       "      <td>0</td>\n",
       "      <td>1</td>\n",
       "    </tr>\n",
       "    <tr>\n",
       "      <th>As per your request, 'Melle Melle' has been set as your callertune for all Callers</th>\n",
       "      <td>0</td>\n",
       "      <td>1</td>\n",
       "      <td>0</td>\n",
       "      <td>0</td>\n",
       "      <td>2</td>\n",
       "      <td>1</td>\n",
       "      <td>1</td>\n",
       "      <td>1</td>\n",
       "      <td>0</td>\n",
       "      <td>0</td>\n",
       "      <td>...</td>\n",
       "      <td>0</td>\n",
       "      <td>0</td>\n",
       "      <td>0</td>\n",
       "      <td>0</td>\n",
       "      <td>0</td>\n",
       "      <td>0</td>\n",
       "      <td>0</td>\n",
       "      <td>0</td>\n",
       "      <td>0</td>\n",
       "      <td>2</td>\n",
       "    </tr>\n",
       "  </tbody>\n",
       "</table>\n",
       "<p>6 rows × 49 columns</p>\n",
       "</div>"
      ],
      "text/plain": [
       "                                                    11  all  always  are  as  \\\n",
       "URGENT! As a valued network customer you have b...   0    0       0    0   1   \n",
       "Lol you are always so convincing.                    0    0       1    1   0   \n",
       "Nah I don't think he goes to usf                     0    0       0    0   0   \n",
       "URGENT! You have won a 1 week FREE membership J...   0    0       0    0   0   \n",
       "Had your mobile 11 months or more? U R entitles...   1    0       0    0   0   \n",
       "As per your request, 'Melle Melle' has been set...   0    1       0    0   2   \n",
       "\n",
       "                                                    been  callers  callertune  \\\n",
       "URGENT! As a valued network customer you have b...     1        0           0   \n",
       "Lol you are always so convincing.                      0        0           0   \n",
       "Nah I don't think he goes to usf                       0        0           0   \n",
       "URGENT! You have won a 1 week FREE membership J...     0        0           0   \n",
       "Had your mobile 11 months or more? U R entitles...     0        0           0   \n",
       "As per your request, 'Melle Melle' has been set...     1        1           1   \n",
       "\n",
       "                                                    color  convincing  ...  \\\n",
       "URGENT! As a valued network customer you have b...      0           0  ...   \n",
       "Lol you are always so convincing.                       0           1  ...   \n",
       "Nah I don't think he goes to usf                        0           0  ...   \n",
       "URGENT! You have won a 1 week FREE membership J...      0           0  ...   \n",
       "Had your mobile 11 months or more? U R entitles...      1           0  ...   \n",
       "As per your request, 'Melle Melle' has been set...      0           0  ...   \n",
       "\n",
       "                                                    think  to  update  urgent  \\\n",
       "URGENT! As a valued network customer you have b...      0   1       0       1   \n",
       "Lol you are always so convincing.                       0   0       0       0   \n",
       "Nah I don't think he goes to usf                        1   1       0       0   \n",
       "URGENT! You have won a 1 week FREE membership J...      0   0       0       1   \n",
       "Had your mobile 11 months or more? U R entitles...      0   2       1       0   \n",
       "As per your request, 'Melle Melle' has been set...      0   0       0       0   \n",
       "\n",
       "                                                    usf  valued  week  won  \\\n",
       "URGENT! As a valued network customer you have b...    0       1     0    0   \n",
       "Lol you are always so convincing.                     0       0     0    0   \n",
       "Nah I don't think he goes to usf                      1       0     0    0   \n",
       "URGENT! You have won a 1 week FREE membership J...    0       0     1    1   \n",
       "Had your mobile 11 months or more? U R entitles...    0       0     0    0   \n",
       "As per your request, 'Melle Melle' has been set...    0       0     0    0   \n",
       "\n",
       "                                                    you  your  \n",
       "URGENT! As a valued network customer you have b...    1     0  \n",
       "Lol you are always so convincing.                     1     0  \n",
       "Nah I don't think he goes to usf                      0     0  \n",
       "URGENT! You have won a 1 week FREE membership J...    1     0  \n",
       "Had your mobile 11 months or more? U R entitles...    0     1  \n",
       "As per your request, 'Melle Melle' has been set...    0     2  \n",
       "\n",
       "[6 rows x 49 columns]"
      ]
     },
     "execution_count": 91,
     "metadata": {},
     "output_type": "execute_result"
    }
   ],
   "source": [
    "from sklearn.feature_extraction.text import CountVectorizer\n",
    "\n",
    "vec = CountVectorizer()\n",
    "X_transformed = vec.fit_transform(X);\n",
    "bow_df = pd.DataFrame(X_transformed.toarray(), columns=sorted(vec.vocabulary_), index=X)\n",
    "bow_df"
   ]
  },
  {
   "cell_type": "code",
   "execution_count": 92,
   "id": "39315043-5f55-483b-bdac-420e76ba67a9",
   "metadata": {},
   "outputs": [],
   "source": [
    "lr_text_model = LogisticRegression()\n",
    "lr_text_model.fit(X_transformed, y);"
   ]
  },
  {
   "cell_type": "markdown",
   "id": "01735492-60f6-4b68-8a25-b064cc660b49",
   "metadata": {},
   "source": [
    "```\n",
    "pd.DataFrame({'feature': vec.get_feature_names(),\n",
    "              'coefficient': lr_text_model.coef_[0]})\n",
    "```"
   ]
  },
  {
   "cell_type": "markdown",
   "id": "57125a31-d005-4a26-a2d1-33801850d758",
   "metadata": {},
   "source": [
    "### Predicting Probabilities"
   ]
  },
  {
   "cell_type": "code",
   "execution_count": 95,
   "id": "99770997-68d9-4cb3-85e7-b0db1eacec24",
   "metadata": {},
   "outputs": [
    {
     "data": {
      "text/html": [
       "<div>\n",
       "<style scoped>\n",
       "    .dataframe tbody tr th:only-of-type {\n",
       "        vertical-align: middle;\n",
       "    }\n",
       "\n",
       "    .dataframe tbody tr th {\n",
       "        vertical-align: top;\n",
       "    }\n",
       "\n",
       "    .dataframe thead th {\n",
       "        text-align: right;\n",
       "    }\n",
       "</style>\n",
       "<table border=\"1\" class=\"dataframe\">\n",
       "  <thead>\n",
       "    <tr style=\"text-align: right;\">\n",
       "      <th></th>\n",
       "      <th>longitude</th>\n",
       "      <th>latitude</th>\n",
       "    </tr>\n",
       "  </thead>\n",
       "  <tbody>\n",
       "    <tr>\n",
       "      <th>160</th>\n",
       "      <td>-76.4813</td>\n",
       "      <td>44.2307</td>\n",
       "    </tr>\n",
       "    <tr>\n",
       "      <th>127</th>\n",
       "      <td>-81.2496</td>\n",
       "      <td>42.9837</td>\n",
       "    </tr>\n",
       "    <tr>\n",
       "      <th>169</th>\n",
       "      <td>-66.0580</td>\n",
       "      <td>45.2788</td>\n",
       "    </tr>\n",
       "    <tr>\n",
       "      <th>188</th>\n",
       "      <td>-73.2533</td>\n",
       "      <td>45.3057</td>\n",
       "    </tr>\n",
       "    <tr>\n",
       "      <th>187</th>\n",
       "      <td>-67.9245</td>\n",
       "      <td>47.1652</td>\n",
       "    </tr>\n",
       "  </tbody>\n",
       "</table>\n",
       "</div>"
      ],
      "text/plain": [
       "     longitude  latitude\n",
       "160   -76.4813   44.2307\n",
       "127   -81.2496   42.9837\n",
       "169   -66.0580   45.2788\n",
       "188   -73.2533   45.3057\n",
       "187   -67.9245   47.1652"
      ]
     },
     "execution_count": 95,
     "metadata": {},
     "output_type": "execute_result"
    }
   ],
   "source": [
    "X_train.head()"
   ]
  },
  {
   "cell_type": "code",
   "execution_count": 96,
   "id": "9c47395f-be22-491e-9001-325b4e7aa076",
   "metadata": {},
   "outputs": [],
   "source": [
    "lr = LogisticRegression()\n",
    "lr.fit(X_train, y_train);"
   ]
  },
  {
   "cell_type": "code",
   "execution_count": 97,
   "id": "8db044d3-f989-428f-b324-3cfcd457981c",
   "metadata": {},
   "outputs": [
    {
     "data": {
      "text/plain": [
       "array(['Canada'], dtype=object)"
      ]
     },
     "execution_count": 97,
     "metadata": {},
     "output_type": "execute_result"
    }
   ],
   "source": [
    "lr.predict(X_test[:1])"
   ]
  },
  {
   "cell_type": "code",
   "execution_count": 98,
   "id": "0fd38ffa-0cba-475f-bd86-4994af1e03b3",
   "metadata": {},
   "outputs": [
    {
     "data": {
      "text/plain": [
       "array([[0.87848688, 0.12151312]])"
      ]
     },
     "execution_count": 98,
     "metadata": {},
     "output_type": "execute_result"
    }
   ],
   "source": [
    "lr.predict_proba(X_test[:1])"
   ]
  },
  {
   "cell_type": "code",
   "execution_count": 99,
   "id": "b1b6e00a-e13e-41a1-b6da-86a247af0ba6",
   "metadata": {},
   "outputs": [
    {
     "data": {
      "text/plain": [
       "array(['Canada', 'Canada', 'USA', 'Canada', 'Canada'], dtype=object)"
      ]
     },
     "execution_count": 99,
     "metadata": {},
     "output_type": "execute_result"
    }
   ],
   "source": [
    "predict_y = lr.predict(X_train)\n",
    "predict_y[-5:]"
   ]
  },
  {
   "cell_type": "code",
   "execution_count": 100,
   "id": "f82e582c-a02e-45be-a0b3-83f5a6e86c02",
   "metadata": {},
   "outputs": [
    {
     "data": {
      "text/plain": [
       "array([[0.69848481, 0.30151519],\n",
       "       [0.76970638, 0.23029362],\n",
       "       [0.05301712, 0.94698288],\n",
       "       [0.63294488, 0.36705512],\n",
       "       [0.81540165, 0.18459835]])"
      ]
     },
     "execution_count": 100,
     "metadata": {},
     "output_type": "execute_result"
    }
   ],
   "source": [
    "y_proba = lr.predict_proba(X_train)\n",
    "y_proba[-5:]"
   ]
  },
  {
   "cell_type": "code",
   "execution_count": 101,
   "id": "788dd11e-14d3-4ac4-b031-ed2bd2c5d33b",
   "metadata": {},
   "outputs": [
    {
     "data": {
      "text/html": [
       "<div>\n",
       "<style scoped>\n",
       "    .dataframe tbody tr th:only-of-type {\n",
       "        vertical-align: middle;\n",
       "    }\n",
       "\n",
       "    .dataframe tbody tr th {\n",
       "        vertical-align: top;\n",
       "    }\n",
       "\n",
       "    .dataframe thead th {\n",
       "        text-align: right;\n",
       "    }\n",
       "</style>\n",
       "<table border=\"1\" class=\"dataframe\">\n",
       "  <thead>\n",
       "    <tr style=\"text-align: right;\">\n",
       "      <th></th>\n",
       "      <th>y</th>\n",
       "      <th>pred y</th>\n",
       "      <th>probabilities</th>\n",
       "    </tr>\n",
       "  </thead>\n",
       "  <tbody>\n",
       "    <tr>\n",
       "      <th>96</th>\n",
       "      <td>Canada</td>\n",
       "      <td>Canada</td>\n",
       "      <td>[0.7047596510140415, 0.2952403489859585]</td>\n",
       "    </tr>\n",
       "    <tr>\n",
       "      <th>57</th>\n",
       "      <td>USA</td>\n",
       "      <td>USA</td>\n",
       "      <td>[0.03121394423109436, 0.9687860557689056]</td>\n",
       "    </tr>\n",
       "    <tr>\n",
       "      <th>123</th>\n",
       "      <td>Canada</td>\n",
       "      <td>Canada</td>\n",
       "      <td>[0.6537036743991862, 0.3462963256008138]</td>\n",
       "    </tr>\n",
       "    <tr>\n",
       "      <th>106</th>\n",
       "      <td>Canada</td>\n",
       "      <td>Canada</td>\n",
       "      <td>[0.8444267867198362, 0.1555732132801638]</td>\n",
       "    </tr>\n",
       "    <tr>\n",
       "      <th>83</th>\n",
       "      <td>Canada</td>\n",
       "      <td>Canada</td>\n",
       "      <td>[0.6537036743991862, 0.3462963256008138]</td>\n",
       "    </tr>\n",
       "    <tr>\n",
       "      <th>17</th>\n",
       "      <td>USA</td>\n",
       "      <td>Canada</td>\n",
       "      <td>[0.6984848138411378, 0.3015151861588622]</td>\n",
       "    </tr>\n",
       "    <tr>\n",
       "      <th>98</th>\n",
       "      <td>Canada</td>\n",
       "      <td>Canada</td>\n",
       "      <td>[0.7697063812753013, 0.23029361872469864]</td>\n",
       "    </tr>\n",
       "    <tr>\n",
       "      <th>66</th>\n",
       "      <td>USA</td>\n",
       "      <td>USA</td>\n",
       "      <td>[0.05301711626872618, 0.9469828837312738]</td>\n",
       "    </tr>\n",
       "    <tr>\n",
       "      <th>126</th>\n",
       "      <td>Canada</td>\n",
       "      <td>Canada</td>\n",
       "      <td>[0.6329448842395049, 0.36705511576049504]</td>\n",
       "    </tr>\n",
       "    <tr>\n",
       "      <th>109</th>\n",
       "      <td>Canada</td>\n",
       "      <td>Canada</td>\n",
       "      <td>[0.8154016516676704, 0.18459834833232955]</td>\n",
       "    </tr>\n",
       "  </tbody>\n",
       "</table>\n",
       "</div>"
      ],
      "text/plain": [
       "          y  pred y                              probabilities\n",
       "96   Canada  Canada   [0.7047596510140415, 0.2952403489859585]\n",
       "57      USA     USA  [0.03121394423109436, 0.9687860557689056]\n",
       "123  Canada  Canada   [0.6537036743991862, 0.3462963256008138]\n",
       "106  Canada  Canada   [0.8444267867198362, 0.1555732132801638]\n",
       "83   Canada  Canada   [0.6537036743991862, 0.3462963256008138]\n",
       "17      USA  Canada   [0.6984848138411378, 0.3015151861588622]\n",
       "98   Canada  Canada  [0.7697063812753013, 0.23029361872469864]\n",
       "66      USA     USA  [0.05301711626872618, 0.9469828837312738]\n",
       "126  Canada  Canada  [0.6329448842395049, 0.36705511576049504]\n",
       "109  Canada  Canada  [0.8154016516676704, 0.18459834833232955]"
      ]
     },
     "execution_count": 101,
     "metadata": {},
     "output_type": "execute_result"
    }
   ],
   "source": [
    "data_dict = {\"y\":y_train,\n",
    "             \"pred y\": predict_y.tolist(),\n",
    "             \"probabilities\": y_proba.tolist()}\n",
    "pd.DataFrame(data_dict).tail(10)"
   ]
  },
  {
   "cell_type": "code",
   "execution_count": 103,
   "id": "1ea09fc9-d88a-4a21-9268-de6c4c40c74e",
   "metadata": {},
   "outputs": [
    {
     "data": {
      "text/html": [
       "<div>\n",
       "<style scoped>\n",
       "    .dataframe tbody tr th:only-of-type {\n",
       "        vertical-align: middle;\n",
       "    }\n",
       "\n",
       "    .dataframe tbody tr th {\n",
       "        vertical-align: top;\n",
       "    }\n",
       "\n",
       "    .dataframe thead th {\n",
       "        text-align: right;\n",
       "    }\n",
       "</style>\n",
       "<table border=\"1\" class=\"dataframe\">\n",
       "  <thead>\n",
       "    <tr style=\"text-align: right;\">\n",
       "      <th></th>\n",
       "      <th>y</th>\n",
       "      <th>pred y</th>\n",
       "      <th>probability_canada</th>\n",
       "    </tr>\n",
       "  </thead>\n",
       "  <tbody>\n",
       "    <tr>\n",
       "      <th>160</th>\n",
       "      <td>Canada</td>\n",
       "      <td>Canada</td>\n",
       "      <td>0.704607</td>\n",
       "    </tr>\n",
       "    <tr>\n",
       "      <th>127</th>\n",
       "      <td>Canada</td>\n",
       "      <td>Canada</td>\n",
       "      <td>0.563017</td>\n",
       "    </tr>\n",
       "    <tr>\n",
       "      <th>169</th>\n",
       "      <td>Canada</td>\n",
       "      <td>Canada</td>\n",
       "      <td>0.838968</td>\n",
       "    </tr>\n",
       "  </tbody>\n",
       "</table>\n",
       "</div>"
      ],
      "text/plain": [
       "          y  pred y  probability_canada\n",
       "160  Canada  Canada            0.704607\n",
       "127  Canada  Canada            0.563017\n",
       "169  Canada  Canada            0.838968"
      ]
     },
     "execution_count": 103,
     "metadata": {},
     "output_type": "execute_result"
    }
   ],
   "source": [
    "lr_targets = pd.DataFrame({\"y\":y_train,\n",
    "                           \"pred y\": predict_y.tolist(),\n",
    "                           \"probability_canada\": y_proba[:,0].tolist()})\n",
    "lr_targets.head(3)"
   ]
  },
  {
   "cell_type": "code",
   "execution_count": 104,
   "id": "410b8fc1-ebb6-45ee-80a5-eadf04c82d9a",
   "metadata": {},
   "outputs": [
    {
     "data": {
      "text/html": [
       "<div>\n",
       "<style scoped>\n",
       "    .dataframe tbody tr th:only-of-type {\n",
       "        vertical-align: middle;\n",
       "    }\n",
       "\n",
       "    .dataframe tbody tr th {\n",
       "        vertical-align: top;\n",
       "    }\n",
       "\n",
       "    .dataframe thead th {\n",
       "        text-align: right;\n",
       "    }\n",
       "</style>\n",
       "<table border=\"1\" class=\"dataframe\">\n",
       "  <thead>\n",
       "    <tr style=\"text-align: right;\">\n",
       "      <th></th>\n",
       "      <th>y</th>\n",
       "      <th>pred y</th>\n",
       "      <th>probability_canada</th>\n",
       "    </tr>\n",
       "  </thead>\n",
       "  <tbody>\n",
       "    <tr>\n",
       "      <th>37</th>\n",
       "      <td>USA</td>\n",
       "      <td>USA</td>\n",
       "      <td>0.006547</td>\n",
       "    </tr>\n",
       "    <tr>\n",
       "      <th>78</th>\n",
       "      <td>USA</td>\n",
       "      <td>USA</td>\n",
       "      <td>0.007685</td>\n",
       "    </tr>\n",
       "    <tr>\n",
       "      <th>34</th>\n",
       "      <td>USA</td>\n",
       "      <td>USA</td>\n",
       "      <td>0.008317</td>\n",
       "    </tr>\n",
       "    <tr>\n",
       "      <th>41</th>\n",
       "      <td>USA</td>\n",
       "      <td>USA</td>\n",
       "      <td>0.008958</td>\n",
       "    </tr>\n",
       "    <tr>\n",
       "      <th>38</th>\n",
       "      <td>USA</td>\n",
       "      <td>USA</td>\n",
       "      <td>0.009194</td>\n",
       "    </tr>\n",
       "    <tr>\n",
       "      <th>...</th>\n",
       "      <td>...</td>\n",
       "      <td>...</td>\n",
       "      <td>...</td>\n",
       "    </tr>\n",
       "    <tr>\n",
       "      <th>149</th>\n",
       "      <td>Canada</td>\n",
       "      <td>Canada</td>\n",
       "      <td>0.924004</td>\n",
       "    </tr>\n",
       "    <tr>\n",
       "      <th>81</th>\n",
       "      <td>Canada</td>\n",
       "      <td>Canada</td>\n",
       "      <td>0.931792</td>\n",
       "    </tr>\n",
       "    <tr>\n",
       "      <th>0</th>\n",
       "      <td>USA</td>\n",
       "      <td>Canada</td>\n",
       "      <td>0.932487</td>\n",
       "    </tr>\n",
       "    <tr>\n",
       "      <th>165</th>\n",
       "      <td>Canada</td>\n",
       "      <td>Canada</td>\n",
       "      <td>0.951092</td>\n",
       "    </tr>\n",
       "    <tr>\n",
       "      <th>1</th>\n",
       "      <td>USA</td>\n",
       "      <td>Canada</td>\n",
       "      <td>0.961902</td>\n",
       "    </tr>\n",
       "  </tbody>\n",
       "</table>\n",
       "<p>167 rows × 3 columns</p>\n",
       "</div>"
      ],
      "text/plain": [
       "          y  pred y  probability_canada\n",
       "37      USA     USA            0.006547\n",
       "78      USA     USA            0.007685\n",
       "34      USA     USA            0.008317\n",
       "41      USA     USA            0.008958\n",
       "38      USA     USA            0.009194\n",
       "..      ...     ...                 ...\n",
       "149  Canada  Canada            0.924004\n",
       "81   Canada  Canada            0.931792\n",
       "0       USA  Canada            0.932487\n",
       "165  Canada  Canada            0.951092\n",
       "1       USA  Canada            0.961902\n",
       "\n",
       "[167 rows x 3 columns]"
      ]
     },
     "execution_count": 104,
     "metadata": {},
     "output_type": "execute_result"
    }
   ],
   "source": [
    "lr_targets.sort_values(by='probability_canada')"
   ]
  },
  {
   "cell_type": "code",
   "execution_count": 105,
   "id": "6003a8c9-bc9b-4620-8385-7625b43f713f",
   "metadata": {},
   "outputs": [
    {
     "data": {
      "text/html": [
       "<div>\n",
       "<style scoped>\n",
       "    .dataframe tbody tr th:only-of-type {\n",
       "        vertical-align: middle;\n",
       "    }\n",
       "\n",
       "    .dataframe tbody tr th {\n",
       "        vertical-align: top;\n",
       "    }\n",
       "\n",
       "    .dataframe thead th {\n",
       "        text-align: right;\n",
       "    }\n",
       "</style>\n",
       "<table border=\"1\" class=\"dataframe\">\n",
       "  <thead>\n",
       "    <tr style=\"text-align: right;\">\n",
       "      <th></th>\n",
       "      <th>longitude</th>\n",
       "      <th>latitude</th>\n",
       "    </tr>\n",
       "  </thead>\n",
       "  <tbody>\n",
       "    <tr>\n",
       "      <th>1</th>\n",
       "      <td>-134.4197</td>\n",
       "      <td>58.3019</td>\n",
       "    </tr>\n",
       "    <tr>\n",
       "      <th>37</th>\n",
       "      <td>-98.4951</td>\n",
       "      <td>29.4246</td>\n",
       "    </tr>\n",
       "  </tbody>\n",
       "</table>\n",
       "</div>"
      ],
      "text/plain": [
       "    longitude  latitude\n",
       "1   -134.4197   58.3019\n",
       "37   -98.4951   29.4246"
      ]
     },
     "execution_count": 105,
     "metadata": {},
     "output_type": "execute_result"
    }
   ],
   "source": [
    "X_train.loc[[1,37]]"
   ]
  },
  {
   "cell_type": "code",
   "execution_count": 107,
   "id": "30ff5439-5951-436b-af7f-1576d5caacbc",
   "metadata": {},
   "outputs": [
    {
     "data": {
      "text/html": [
       "<div>\n",
       "<style scoped>\n",
       "    .dataframe tbody tr th:only-of-type {\n",
       "        vertical-align: middle;\n",
       "    }\n",
       "\n",
       "    .dataframe tbody tr th {\n",
       "        vertical-align: top;\n",
       "    }\n",
       "\n",
       "    .dataframe thead th {\n",
       "        text-align: right;\n",
       "    }\n",
       "</style>\n",
       "<table border=\"1\" class=\"dataframe\">\n",
       "  <thead>\n",
       "    <tr style=\"text-align: right;\">\n",
       "      <th></th>\n",
       "      <th>y</th>\n",
       "      <th>pred y</th>\n",
       "      <th>prob_difference</th>\n",
       "    </tr>\n",
       "  </thead>\n",
       "  <tbody>\n",
       "    <tr>\n",
       "      <th>61</th>\n",
       "      <td>USA</td>\n",
       "      <td>USA</td>\n",
       "      <td>0.001719</td>\n",
       "    </tr>\n",
       "    <tr>\n",
       "      <th>54</th>\n",
       "      <td>USA</td>\n",
       "      <td>USA</td>\n",
       "      <td>0.020025</td>\n",
       "    </tr>\n",
       "    <tr>\n",
       "      <th>13</th>\n",
       "      <td>USA</td>\n",
       "      <td>USA</td>\n",
       "      <td>0.020025</td>\n",
       "    </tr>\n",
       "    <tr>\n",
       "      <th>130</th>\n",
       "      <td>Canada</td>\n",
       "      <td>USA</td>\n",
       "      <td>0.022234</td>\n",
       "    </tr>\n",
       "    <tr>\n",
       "      <th>92</th>\n",
       "      <td>Canada</td>\n",
       "      <td>USA</td>\n",
       "      <td>0.022234</td>\n",
       "    </tr>\n",
       "  </tbody>\n",
       "</table>\n",
       "</div>"
      ],
      "text/plain": [
       "          y pred y  prob_difference\n",
       "61      USA    USA         0.001719\n",
       "54      USA    USA         0.020025\n",
       "13      USA    USA         0.020025\n",
       "130  Canada    USA         0.022234\n",
       "92   Canada    USA         0.022234"
      ]
     },
     "execution_count": 107,
     "metadata": {},
     "output_type": "execute_result"
    }
   ],
   "source": [
    "lr_targets = pd.DataFrame({\"y\":y_train,\n",
    "                           \"pred y\": predict_y.tolist(),\n",
    "                           \"prob_difference\": (abs(y_proba[:,0] - y_proba[:,1])).tolist()})\n",
    "lr_targets.sort_values(by=\"prob_difference\").head()"
   ]
  },
  {
   "cell_type": "code",
   "execution_count": 108,
   "id": "6a39c194-48ba-42c2-9ba8-70959a4da716",
   "metadata": {},
   "outputs": [
    {
     "data": {
      "text/html": [
       "<div>\n",
       "<style scoped>\n",
       "    .dataframe tbody tr th:only-of-type {\n",
       "        vertical-align: middle;\n",
       "    }\n",
       "\n",
       "    .dataframe tbody tr th {\n",
       "        vertical-align: top;\n",
       "    }\n",
       "\n",
       "    .dataframe thead th {\n",
       "        text-align: right;\n",
       "    }\n",
       "</style>\n",
       "<table border=\"1\" class=\"dataframe\">\n",
       "  <thead>\n",
       "    <tr style=\"text-align: right;\">\n",
       "      <th></th>\n",
       "      <th>longitude</th>\n",
       "      <th>latitude</th>\n",
       "    </tr>\n",
       "  </thead>\n",
       "  <tbody>\n",
       "    <tr>\n",
       "      <th>61</th>\n",
       "      <td>-87.9225</td>\n",
       "      <td>43.0350</td>\n",
       "    </tr>\n",
       "    <tr>\n",
       "      <th>54</th>\n",
       "      <td>-83.0466</td>\n",
       "      <td>42.3316</td>\n",
       "    </tr>\n",
       "  </tbody>\n",
       "</table>\n",
       "</div>"
      ],
      "text/plain": [
       "    longitude  latitude\n",
       "61   -87.9225   43.0350\n",
       "54   -83.0466   42.3316"
      ]
     },
     "execution_count": 108,
     "metadata": {},
     "output_type": "execute_result"
    }
   ],
   "source": [
    "X_train.loc[[61,54]]"
   ]
  },
  {
   "cell_type": "markdown",
   "id": "89fb2933-7a8c-4213-a383-16ebd18207af",
   "metadata": {},
   "source": [
    "### Multi-class Classification\n",
    "\n",
    "More than 2 classes"
   ]
  },
  {
   "cell_type": "code",
   "execution_count": 115,
   "id": "2b6cce28-ffd3-4711-95f8-2b56ab310b89",
   "metadata": {},
   "outputs": [],
   "source": [
    "data = pd.read_csv(\"data/wine.csv\")\n",
    "X = data.drop(columns=['Class'])\n",
    "y = data['Class']\n",
    "X_train, X_test, y_train, y_test = train_test_split(X, y, random_state=2021)"
   ]
  },
  {
   "cell_type": "code",
   "execution_count": 116,
   "id": "f0ddb1f1-d2b4-47fc-985b-cf2b0d53d474",
   "metadata": {},
   "outputs": [
    {
     "data": {
      "text/html": [
       "<div>\n",
       "<style scoped>\n",
       "    .dataframe tbody tr th:only-of-type {\n",
       "        vertical-align: middle;\n",
       "    }\n",
       "\n",
       "    .dataframe tbody tr th {\n",
       "        vertical-align: top;\n",
       "    }\n",
       "\n",
       "    .dataframe thead th {\n",
       "        text-align: right;\n",
       "    }\n",
       "</style>\n",
       "<table border=\"1\" class=\"dataframe\">\n",
       "  <thead>\n",
       "    <tr style=\"text-align: right;\">\n",
       "      <th></th>\n",
       "      <th>Alcohol</th>\n",
       "      <th>MalicAcid</th>\n",
       "      <th>Ash</th>\n",
       "      <th>Alcalinity</th>\n",
       "      <th>Magnesium</th>\n",
       "      <th>Phenols</th>\n",
       "      <th>Flavanoids</th>\n",
       "      <th>Nonflavanoid</th>\n",
       "      <th>Proanthocyanins</th>\n",
       "      <th>ColorIntensity</th>\n",
       "      <th>Hue</th>\n",
       "      <th>OD280/OD315</th>\n",
       "      <th>Proline</th>\n",
       "    </tr>\n",
       "  </thead>\n",
       "  <tbody>\n",
       "    <tr>\n",
       "      <th>36</th>\n",
       "      <td>13.28</td>\n",
       "      <td>1.64</td>\n",
       "      <td>2.84</td>\n",
       "      <td>15.5</td>\n",
       "      <td>110</td>\n",
       "      <td>2.60</td>\n",
       "      <td>2.68</td>\n",
       "      <td>0.34</td>\n",
       "      <td>1.36</td>\n",
       "      <td>4.60</td>\n",
       "      <td>1.09</td>\n",
       "      <td>2.78</td>\n",
       "      <td>880</td>\n",
       "    </tr>\n",
       "    <tr>\n",
       "      <th>77</th>\n",
       "      <td>11.84</td>\n",
       "      <td>2.89</td>\n",
       "      <td>2.23</td>\n",
       "      <td>18.0</td>\n",
       "      <td>112</td>\n",
       "      <td>1.72</td>\n",
       "      <td>1.32</td>\n",
       "      <td>0.43</td>\n",
       "      <td>0.95</td>\n",
       "      <td>2.65</td>\n",
       "      <td>0.96</td>\n",
       "      <td>2.52</td>\n",
       "      <td>500</td>\n",
       "    </tr>\n",
       "    <tr>\n",
       "      <th>131</th>\n",
       "      <td>12.88</td>\n",
       "      <td>2.99</td>\n",
       "      <td>2.40</td>\n",
       "      <td>20.0</td>\n",
       "      <td>104</td>\n",
       "      <td>1.30</td>\n",
       "      <td>1.22</td>\n",
       "      <td>0.24</td>\n",
       "      <td>0.83</td>\n",
       "      <td>5.40</td>\n",
       "      <td>0.74</td>\n",
       "      <td>1.42</td>\n",
       "      <td>530</td>\n",
       "    </tr>\n",
       "    <tr>\n",
       "      <th>159</th>\n",
       "      <td>13.48</td>\n",
       "      <td>1.67</td>\n",
       "      <td>2.64</td>\n",
       "      <td>22.5</td>\n",
       "      <td>89</td>\n",
       "      <td>2.60</td>\n",
       "      <td>1.10</td>\n",
       "      <td>0.52</td>\n",
       "      <td>2.29</td>\n",
       "      <td>11.75</td>\n",
       "      <td>0.57</td>\n",
       "      <td>1.78</td>\n",
       "      <td>620</td>\n",
       "    </tr>\n",
       "    <tr>\n",
       "      <th>4</th>\n",
       "      <td>13.24</td>\n",
       "      <td>2.59</td>\n",
       "      <td>2.87</td>\n",
       "      <td>21.0</td>\n",
       "      <td>118</td>\n",
       "      <td>2.80</td>\n",
       "      <td>2.69</td>\n",
       "      <td>0.39</td>\n",
       "      <td>1.82</td>\n",
       "      <td>4.32</td>\n",
       "      <td>1.04</td>\n",
       "      <td>2.93</td>\n",
       "      <td>735</td>\n",
       "    </tr>\n",
       "  </tbody>\n",
       "</table>\n",
       "</div>"
      ],
      "text/plain": [
       "     Alcohol  MalicAcid   Ash  Alcalinity  Magnesium  Phenols  Flavanoids  \\\n",
       "36     13.28       1.64  2.84        15.5        110     2.60        2.68   \n",
       "77     11.84       2.89  2.23        18.0        112     1.72        1.32   \n",
       "131    12.88       2.99  2.40        20.0        104     1.30        1.22   \n",
       "159    13.48       1.67  2.64        22.5         89     2.60        1.10   \n",
       "4      13.24       2.59  2.87        21.0        118     2.80        2.69   \n",
       "\n",
       "     Nonflavanoid  Proanthocyanins  ColorIntensity   Hue  OD280/OD315  \\\n",
       "36           0.34             1.36            4.60  1.09         2.78   \n",
       "77           0.43             0.95            2.65  0.96         2.52   \n",
       "131          0.24             0.83            5.40  0.74         1.42   \n",
       "159          0.52             2.29           11.75  0.57         1.78   \n",
       "4            0.39             1.82            4.32  1.04         2.93   \n",
       "\n",
       "     Proline    \n",
       "36         880  \n",
       "77         500  \n",
       "131        530  \n",
       "159        620  \n",
       "4          735  "
      ]
     },
     "execution_count": 116,
     "metadata": {},
     "output_type": "execute_result"
    }
   ],
   "source": [
    "X_train.head()"
   ]
  },
  {
   "cell_type": "code",
   "execution_count": 117,
   "id": "5db879bf-fa93-4543-a570-cbe5a393792e",
   "metadata": {},
   "outputs": [
    {
     "name": "stderr",
     "output_type": "stream",
     "text": [
      "/var/folders/r6/4krssl3d0zb29z_04r0ktqdc0000gn/T/ipykernel_69095/1629913615.py:1: FutureWarning: The behavior of `series[i:j]` with an integer-dtype index is deprecated. In a future version, this will be treated as *label-based* indexing, consistent with e.g. `series[i]` lookups. To retain the old behavior, use `series.iloc[i:j]`. To get the future behavior, use `series.loc[i:j]`.\n",
      "  y_train[:5]\n"
     ]
    },
    {
     "data": {
      "text/plain": [
       "36     1\n",
       "77     2\n",
       "131    3\n",
       "159    3\n",
       "4      1\n",
       "Name: Class, dtype: int64"
      ]
     },
     "execution_count": 117,
     "metadata": {},
     "output_type": "execute_result"
    }
   ],
   "source": [
    "y_train[:5]"
   ]
  },
  {
   "cell_type": "code",
   "execution_count": 118,
   "id": "f4d36d61-bbe3-40af-8ebe-dd73cd4e9f02",
   "metadata": {},
   "outputs": [],
   "source": [
    "lr = LogisticRegression(max_iter=10000)\n",
    "lr.fit(X_train, y_train);"
   ]
  },
  {
   "cell_type": "code",
   "execution_count": 119,
   "id": "d6dc138b-f5a7-42ba-a749-7d5e2cc4741b",
   "metadata": {},
   "outputs": [
    {
     "data": {
      "text/plain": [
       "array([1, 2, 3])"
      ]
     },
     "execution_count": 119,
     "metadata": {},
     "output_type": "execute_result"
    }
   ],
   "source": [
    "lr.classes_"
   ]
  },
  {
   "cell_type": "code",
   "execution_count": 120,
   "id": "b95c8866-e90d-4805-8504-b5389d4eaba3",
   "metadata": {},
   "outputs": [
    {
     "data": {
      "text/plain": [
       "array([1, 2, 1, 3, 2])"
      ]
     },
     "execution_count": 120,
     "metadata": {},
     "output_type": "execute_result"
    }
   ],
   "source": [
    "lr.predict(X_test[:5])"
   ]
  },
  {
   "cell_type": "code",
   "execution_count": 121,
   "id": "63d057e0-07e8-4f41-a50f-96b4c1a7fb76",
   "metadata": {},
   "outputs": [
    {
     "data": {
      "text/plain": [
       "array([[ 0.53321486,  0.43407894,  0.38247398, -0.0471342 , -0.0256897 ,\n",
       "         0.54161293,  0.87376141, -0.00726817, -0.09397824,  0.21687767,\n",
       "         0.02966878,  0.61730404,  0.01101912],\n",
       "       [-0.70179586, -0.80272252, -0.45933962, -0.09299408, -0.03494651,\n",
       "        -0.06706067,  0.26562443,  0.15061604,  0.78244563, -0.9361069 ,\n",
       "         0.25611067, -0.02816946, -0.00915907],\n",
       "       [ 0.168581  ,  0.36864357,  0.07686564,  0.14012829,  0.06063621,\n",
       "        -0.47455227, -1.13938583, -0.14334786, -0.68846738,  0.71922923,\n",
       "        -0.28577945, -0.58913457, -0.00186005]])"
      ]
     },
     "execution_count": 121,
     "metadata": {},
     "output_type": "execute_result"
    }
   ],
   "source": [
    "lr.coef_"
   ]
  },
  {
   "cell_type": "code",
   "execution_count": 122,
   "id": "d0c005a2-ed66-42eb-8860-54929fd7e014",
   "metadata": {},
   "outputs": [
    {
     "data": {
      "text/plain": [
       "(3, 13)"
      ]
     },
     "execution_count": 122,
     "metadata": {},
     "output_type": "execute_result"
    }
   ],
   "source": [
    "lr.coef_.shape"
   ]
  },
  {
   "cell_type": "code",
   "execution_count": 123,
   "id": "f51bacbe-94e8-404b-9bfc-21e183b2fd84",
   "metadata": {},
   "outputs": [
    {
     "data": {
      "text/html": [
       "<div>\n",
       "<style scoped>\n",
       "    .dataframe tbody tr th:only-of-type {\n",
       "        vertical-align: middle;\n",
       "    }\n",
       "\n",
       "    .dataframe tbody tr th {\n",
       "        vertical-align: top;\n",
       "    }\n",
       "\n",
       "    .dataframe thead th {\n",
       "        text-align: right;\n",
       "    }\n",
       "</style>\n",
       "<table border=\"1\" class=\"dataframe\">\n",
       "  <thead>\n",
       "    <tr style=\"text-align: right;\">\n",
       "      <th></th>\n",
       "      <th>1</th>\n",
       "      <th>2</th>\n",
       "      <th>3</th>\n",
       "    </tr>\n",
       "  </thead>\n",
       "  <tbody>\n",
       "    <tr>\n",
       "      <th>Alcohol</th>\n",
       "      <td>0.533215</td>\n",
       "      <td>-0.701796</td>\n",
       "      <td>0.168581</td>\n",
       "    </tr>\n",
       "    <tr>\n",
       "      <th>MalicAcid</th>\n",
       "      <td>0.434079</td>\n",
       "      <td>-0.802723</td>\n",
       "      <td>0.368644</td>\n",
       "    </tr>\n",
       "    <tr>\n",
       "      <th>Ash</th>\n",
       "      <td>0.382474</td>\n",
       "      <td>-0.459340</td>\n",
       "      <td>0.076866</td>\n",
       "    </tr>\n",
       "    <tr>\n",
       "      <th>Alcalinity</th>\n",
       "      <td>-0.047134</td>\n",
       "      <td>-0.092994</td>\n",
       "      <td>0.140128</td>\n",
       "    </tr>\n",
       "    <tr>\n",
       "      <th>Magnesium</th>\n",
       "      <td>-0.025690</td>\n",
       "      <td>-0.034947</td>\n",
       "      <td>0.060636</td>\n",
       "    </tr>\n",
       "    <tr>\n",
       "      <th>Phenols</th>\n",
       "      <td>0.541613</td>\n",
       "      <td>-0.067061</td>\n",
       "      <td>-0.474552</td>\n",
       "    </tr>\n",
       "    <tr>\n",
       "      <th>Flavanoids</th>\n",
       "      <td>0.873761</td>\n",
       "      <td>0.265624</td>\n",
       "      <td>-1.139386</td>\n",
       "    </tr>\n",
       "    <tr>\n",
       "      <th>Nonflavanoid</th>\n",
       "      <td>-0.007268</td>\n",
       "      <td>0.150616</td>\n",
       "      <td>-0.143348</td>\n",
       "    </tr>\n",
       "    <tr>\n",
       "      <th>Proanthocyanins</th>\n",
       "      <td>-0.093978</td>\n",
       "      <td>0.782446</td>\n",
       "      <td>-0.688467</td>\n",
       "    </tr>\n",
       "    <tr>\n",
       "      <th>ColorIntensity</th>\n",
       "      <td>0.216878</td>\n",
       "      <td>-0.936107</td>\n",
       "      <td>0.719229</td>\n",
       "    </tr>\n",
       "    <tr>\n",
       "      <th>Hue</th>\n",
       "      <td>0.029669</td>\n",
       "      <td>0.256111</td>\n",
       "      <td>-0.285779</td>\n",
       "    </tr>\n",
       "    <tr>\n",
       "      <th>OD280/OD315</th>\n",
       "      <td>0.617304</td>\n",
       "      <td>-0.028169</td>\n",
       "      <td>-0.589135</td>\n",
       "    </tr>\n",
       "    <tr>\n",
       "      <th>Proline</th>\n",
       "      <td>0.011019</td>\n",
       "      <td>-0.009159</td>\n",
       "      <td>-0.001860</td>\n",
       "    </tr>\n",
       "  </tbody>\n",
       "</table>\n",
       "</div>"
      ],
      "text/plain": [
       "                        1         2         3\n",
       "Alcohol          0.533215 -0.701796  0.168581\n",
       "MalicAcid        0.434079 -0.802723  0.368644\n",
       "Ash              0.382474 -0.459340  0.076866\n",
       "Alcalinity      -0.047134 -0.092994  0.140128\n",
       "Magnesium       -0.025690 -0.034947  0.060636\n",
       "Phenols          0.541613 -0.067061 -0.474552\n",
       "Flavanoids       0.873761  0.265624 -1.139386\n",
       "Nonflavanoid    -0.007268  0.150616 -0.143348\n",
       "Proanthocyanins -0.093978  0.782446 -0.688467\n",
       "ColorIntensity   0.216878 -0.936107  0.719229\n",
       "Hue              0.029669  0.256111 -0.285779\n",
       "OD280/OD315      0.617304 -0.028169 -0.589135\n",
       "Proline          0.011019 -0.009159 -0.001860"
      ]
     },
     "execution_count": 123,
     "metadata": {},
     "output_type": "execute_result"
    }
   ],
   "source": [
    "lr_coefs = pd.DataFrame(data=lr.coef_.T, index=X_train.columns, columns=lr.classes_)\n",
    "lr_coefs"
   ]
  },
  {
   "cell_type": "code",
   "execution_count": 124,
   "id": "f4b1fbad-6cbd-44bd-8ad2-8e26a55b4236",
   "metadata": {},
   "outputs": [
    {
     "data": {
      "text/plain": [
       "array([[9.95321725e-01, 3.94845597e-03, 7.29819207e-04],\n",
       "       [1.61731185e-04, 9.98297245e-01, 1.54102428e-03],\n",
       "       [9.99725704e-01, 6.27412547e-05, 2.11554460e-04],\n",
       "       [2.67178320e-05, 9.40417080e-06, 9.99963878e-01],\n",
       "       [5.85673990e-06, 9.99193092e-01, 8.01051099e-04]])"
      ]
     },
     "execution_count": 124,
     "metadata": {},
     "output_type": "execute_result"
    }
   ],
   "source": [
    "lr.predict_proba(X_test)[:5]"
   ]
  },
  {
   "cell_type": "code",
   "execution_count": 125,
   "id": "813ab434-4aea-4cc4-9db4-39ccb6473c78",
   "metadata": {},
   "outputs": [
    {
     "data": {
      "text/plain": [
       "array([1., 1., 1., 1., 1.])"
      ]
     },
     "execution_count": 125,
     "metadata": {},
     "output_type": "execute_result"
    }
   ],
   "source": [
    "lr.predict_proba(X_test[:5]).sum(axis=1)"
   ]
  },
  {
   "cell_type": "code",
   "execution_count": 128,
   "id": "ee2cf66c-57bf-4360-ae1c-cc1655e8db7d",
   "metadata": {},
   "outputs": [],
   "source": [
    "from sklearn.metrics import confusion_matrix\n",
    "from sklearn.metrics import classification_report"
   ]
  },
  {
   "cell_type": "code",
   "execution_count": 127,
   "id": "e5307129-7b97-47c4-8be1-f73020a4243d",
   "metadata": {},
   "outputs": [
    {
     "data": {
      "text/plain": [
       "array([[19,  0,  0],\n",
       "       [ 1, 16,  0],\n",
       "       [ 0,  1,  8]])"
      ]
     },
     "execution_count": 127,
     "metadata": {},
     "output_type": "execute_result"
    }
   ],
   "source": [
    "confusion_matrix(y_test, lr.predict(X_test))"
   ]
  },
  {
   "cell_type": "code",
   "execution_count": 129,
   "id": "d7b3fb5a-3f1e-4f0e-b995-adb715e6131f",
   "metadata": {},
   "outputs": [
    {
     "name": "stdout",
     "output_type": "stream",
     "text": [
      "              precision    recall  f1-score   support\n",
      "\n",
      "           1       0.95      1.00      0.97        19\n",
      "           2       0.94      0.94      0.94        17\n",
      "           3       1.00      0.89      0.94         9\n",
      "\n",
      "    accuracy                           0.96        45\n",
      "   macro avg       0.96      0.94      0.95        45\n",
      "weighted avg       0.96      0.96      0.96        45\n",
      "\n"
     ]
    }
   ],
   "source": [
    "print(classification_report(y_test, lr.predict(X_test)))"
   ]
  },
  {
   "cell_type": "code",
   "execution_count": 130,
   "id": "89ac9205-8bad-4d88-a1ec-8284333c947b",
   "metadata": {},
   "outputs": [
    {
     "data": {
      "text/html": [
       "<div>\n",
       "<style scoped>\n",
       "    .dataframe tbody tr th:only-of-type {\n",
       "        vertical-align: middle;\n",
       "    }\n",
       "\n",
       "    .dataframe tbody tr th {\n",
       "        vertical-align: top;\n",
       "    }\n",
       "\n",
       "    .dataframe thead th {\n",
       "        text-align: right;\n",
       "    }\n",
       "</style>\n",
       "<table border=\"1\" class=\"dataframe\">\n",
       "  <thead>\n",
       "    <tr style=\"text-align: right;\">\n",
       "      <th></th>\n",
       "      <th>Alcohol</th>\n",
       "      <th>MalicAcid</th>\n",
       "    </tr>\n",
       "  </thead>\n",
       "  <tbody>\n",
       "    <tr>\n",
       "      <th>36</th>\n",
       "      <td>13.28</td>\n",
       "      <td>1.64</td>\n",
       "    </tr>\n",
       "    <tr>\n",
       "      <th>77</th>\n",
       "      <td>11.84</td>\n",
       "      <td>2.89</td>\n",
       "    </tr>\n",
       "    <tr>\n",
       "      <th>131</th>\n",
       "      <td>12.88</td>\n",
       "      <td>2.99</td>\n",
       "    </tr>\n",
       "  </tbody>\n",
       "</table>\n",
       "</div>"
      ],
      "text/plain": [
       "     Alcohol  MalicAcid\n",
       "36     13.28       1.64\n",
       "77     11.84       2.89\n",
       "131    12.88       2.99"
      ]
     },
     "execution_count": 130,
     "metadata": {},
     "output_type": "execute_result"
    }
   ],
   "source": [
    "x_train_2d = X_train[['Alcohol', 'MalicAcid']]\n",
    "x_train_2d.head(3)"
   ]
  },
  {
   "cell_type": "code",
   "execution_count": null,
   "id": "8c503aa1-7845-4efe-9185-8154ddc9380d",
   "metadata": {},
   "outputs": [],
   "source": []
  }
 ],
 "metadata": {
  "kernelspec": {
   "display_name": "Python 3 (ipykernel)",
   "language": "python",
   "name": "python3"
  },
  "language_info": {
   "codemirror_mode": {
    "name": "ipython",
    "version": 3
   },
   "file_extension": ".py",
   "mimetype": "text/x-python",
   "name": "python",
   "nbconvert_exporter": "python",
   "pygments_lexer": "ipython3",
   "version": "3.10.8"
  }
 },
 "nbformat": 4,
 "nbformat_minor": 5
}
