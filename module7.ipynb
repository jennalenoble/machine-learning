{
 "cells": [
  {
   "cell_type": "markdown",
   "id": "205b1349-aaa0-448d-9a20-35b7cd333400",
   "metadata": {},
   "source": [
    "# Module 7: Assessment & Measurements"
   ]
  },
  {
   "cell_type": "markdown",
   "id": "1c4af429-3922-4c3e-81b8-9ae56e8bb11c",
   "metadata": {},
   "source": [
    "### Introducing Evaluation Metrics"
   ]
  },
  {
   "cell_type": "code",
   "execution_count": 87,
   "id": "cfc726f2-3d3a-48f0-9747-1cb4d1777fcb",
   "metadata": {},
   "outputs": [],
   "source": [
    "import pandas as pd\n",
    "from sklearn.model_selection import train_test_split\n",
    "from sklearn.dummy import DummyClassifier\n",
    "from sklearn.model_selection import cross_validate\n",
    "from sklearn.preprocessing import StandardScaler\n",
    "from sklearn.tree import DecisionTreeClassifier\n",
    "from sklearn.pipeline import make_pipeline\n",
    "# from sklearn.metrics import plot_confusion_matrix\n",
    "from sklearn.metrics import confusion_matrix\n",
    "from sklearn.neighbors import KNeighborsRegressor"
   ]
  },
  {
   "cell_type": "code",
   "execution_count": 3,
   "id": "9309fba7-3917-4f3a-b203-4f636c6d6e7b",
   "metadata": {},
   "outputs": [],
   "source": [
    "cc_df = pd.read_csv('https://raw.githubusercontent.com/nsethi31/Kaggle-Data-Credit-Card-Fraud-Detection/master/creditcard.csv', encoding='latin-1')"
   ]
  },
  {
   "cell_type": "code",
   "execution_count": 6,
   "id": "5e33855b-eec8-4d66-9a11-8adaf283f79a",
   "metadata": {},
   "outputs": [
    {
     "data": {
      "text/html": [
       "<div>\n",
       "<style scoped>\n",
       "    .dataframe tbody tr th:only-of-type {\n",
       "        vertical-align: middle;\n",
       "    }\n",
       "\n",
       "    .dataframe tbody tr th {\n",
       "        vertical-align: top;\n",
       "    }\n",
       "\n",
       "    .dataframe thead th {\n",
       "        text-align: right;\n",
       "    }\n",
       "</style>\n",
       "<table border=\"1\" class=\"dataframe\">\n",
       "  <thead>\n",
       "    <tr style=\"text-align: right;\">\n",
       "      <th></th>\n",
       "      <th>Time</th>\n",
       "      <th>V1</th>\n",
       "      <th>V2</th>\n",
       "      <th>V3</th>\n",
       "      <th>V4</th>\n",
       "      <th>V5</th>\n",
       "      <th>V6</th>\n",
       "      <th>V7</th>\n",
       "      <th>V8</th>\n",
       "      <th>V9</th>\n",
       "      <th>...</th>\n",
       "      <th>V21</th>\n",
       "      <th>V22</th>\n",
       "      <th>V23</th>\n",
       "      <th>V24</th>\n",
       "      <th>V25</th>\n",
       "      <th>V26</th>\n",
       "      <th>V27</th>\n",
       "      <th>V28</th>\n",
       "      <th>Amount</th>\n",
       "      <th>Class</th>\n",
       "    </tr>\n",
       "  </thead>\n",
       "  <tbody>\n",
       "    <tr>\n",
       "      <th>64454</th>\n",
       "      <td>51150.0</td>\n",
       "      <td>-3.538816</td>\n",
       "      <td>3.481893</td>\n",
       "      <td>-1.827130</td>\n",
       "      <td>-0.573050</td>\n",
       "      <td>2.644106</td>\n",
       "      <td>-0.340988</td>\n",
       "      <td>2.102135</td>\n",
       "      <td>-2.939006</td>\n",
       "      <td>2.578654</td>\n",
       "      <td>...</td>\n",
       "      <td>0.530978</td>\n",
       "      <td>-0.860677</td>\n",
       "      <td>-0.201810</td>\n",
       "      <td>-1.719747</td>\n",
       "      <td>0.729143</td>\n",
       "      <td>-0.547993</td>\n",
       "      <td>-0.023636</td>\n",
       "      <td>-0.454966</td>\n",
       "      <td>1.00</td>\n",
       "      <td>0</td>\n",
       "    </tr>\n",
       "    <tr>\n",
       "      <th>37906</th>\n",
       "      <td>39163.0</td>\n",
       "      <td>-0.363913</td>\n",
       "      <td>0.853399</td>\n",
       "      <td>1.648195</td>\n",
       "      <td>1.118934</td>\n",
       "      <td>0.100882</td>\n",
       "      <td>0.423852</td>\n",
       "      <td>0.472790</td>\n",
       "      <td>-0.972440</td>\n",
       "      <td>0.033833</td>\n",
       "      <td>...</td>\n",
       "      <td>0.687055</td>\n",
       "      <td>-0.094586</td>\n",
       "      <td>0.121531</td>\n",
       "      <td>0.146830</td>\n",
       "      <td>-0.944092</td>\n",
       "      <td>-0.558564</td>\n",
       "      <td>-0.186814</td>\n",
       "      <td>-0.257103</td>\n",
       "      <td>18.49</td>\n",
       "      <td>0</td>\n",
       "    </tr>\n",
       "    <tr>\n",
       "      <th>79378</th>\n",
       "      <td>57994.0</td>\n",
       "      <td>1.193021</td>\n",
       "      <td>-0.136714</td>\n",
       "      <td>0.622612</td>\n",
       "      <td>0.780864</td>\n",
       "      <td>-0.823511</td>\n",
       "      <td>-0.706444</td>\n",
       "      <td>-0.206073</td>\n",
       "      <td>-0.016918</td>\n",
       "      <td>0.781531</td>\n",
       "      <td>...</td>\n",
       "      <td>-0.310405</td>\n",
       "      <td>-0.842028</td>\n",
       "      <td>0.085477</td>\n",
       "      <td>0.366005</td>\n",
       "      <td>0.254443</td>\n",
       "      <td>0.290002</td>\n",
       "      <td>-0.036764</td>\n",
       "      <td>0.015039</td>\n",
       "      <td>23.74</td>\n",
       "      <td>0</td>\n",
       "    </tr>\n",
       "    <tr>\n",
       "      <th>245686</th>\n",
       "      <td>152859.0</td>\n",
       "      <td>1.604032</td>\n",
       "      <td>-0.808208</td>\n",
       "      <td>-1.594982</td>\n",
       "      <td>0.200475</td>\n",
       "      <td>0.502985</td>\n",
       "      <td>0.832370</td>\n",
       "      <td>-0.034071</td>\n",
       "      <td>0.234040</td>\n",
       "      <td>0.550616</td>\n",
       "      <td>...</td>\n",
       "      <td>0.519029</td>\n",
       "      <td>1.429217</td>\n",
       "      <td>-0.139322</td>\n",
       "      <td>-1.293663</td>\n",
       "      <td>0.037785</td>\n",
       "      <td>0.061206</td>\n",
       "      <td>0.005387</td>\n",
       "      <td>-0.057296</td>\n",
       "      <td>156.52</td>\n",
       "      <td>0</td>\n",
       "    </tr>\n",
       "    <tr>\n",
       "      <th>60943</th>\n",
       "      <td>49575.0</td>\n",
       "      <td>-2.669614</td>\n",
       "      <td>-2.734385</td>\n",
       "      <td>0.662450</td>\n",
       "      <td>-0.059077</td>\n",
       "      <td>3.346850</td>\n",
       "      <td>-2.549682</td>\n",
       "      <td>-1.430571</td>\n",
       "      <td>-0.118450</td>\n",
       "      <td>0.469383</td>\n",
       "      <td>...</td>\n",
       "      <td>-0.228329</td>\n",
       "      <td>-0.370643</td>\n",
       "      <td>-0.211544</td>\n",
       "      <td>-0.300837</td>\n",
       "      <td>-1.174590</td>\n",
       "      <td>0.573818</td>\n",
       "      <td>0.388023</td>\n",
       "      <td>0.161782</td>\n",
       "      <td>57.50</td>\n",
       "      <td>0</td>\n",
       "    </tr>\n",
       "  </tbody>\n",
       "</table>\n",
       "<p>5 rows × 31 columns</p>\n",
       "</div>"
      ],
      "text/plain": [
       "            Time        V1        V2        V3        V4        V5        V6  \\\n",
       "64454    51150.0 -3.538816  3.481893 -1.827130 -0.573050  2.644106 -0.340988   \n",
       "37906    39163.0 -0.363913  0.853399  1.648195  1.118934  0.100882  0.423852   \n",
       "79378    57994.0  1.193021 -0.136714  0.622612  0.780864 -0.823511 -0.706444   \n",
       "245686  152859.0  1.604032 -0.808208 -1.594982  0.200475  0.502985  0.832370   \n",
       "60943    49575.0 -2.669614 -2.734385  0.662450 -0.059077  3.346850 -2.549682   \n",
       "\n",
       "              V7        V8        V9  ...       V21       V22       V23  \\\n",
       "64454   2.102135 -2.939006  2.578654  ...  0.530978 -0.860677 -0.201810   \n",
       "37906   0.472790 -0.972440  0.033833  ...  0.687055 -0.094586  0.121531   \n",
       "79378  -0.206073 -0.016918  0.781531  ... -0.310405 -0.842028  0.085477   \n",
       "245686 -0.034071  0.234040  0.550616  ...  0.519029  1.429217 -0.139322   \n",
       "60943  -1.430571 -0.118450  0.469383  ... -0.228329 -0.370643 -0.211544   \n",
       "\n",
       "             V24       V25       V26       V27       V28  Amount  Class  \n",
       "64454  -1.719747  0.729143 -0.547993 -0.023636 -0.454966    1.00      0  \n",
       "37906   0.146830 -0.944092 -0.558564 -0.186814 -0.257103   18.49      0  \n",
       "79378   0.366005  0.254443  0.290002 -0.036764  0.015039   23.74      0  \n",
       "245686 -1.293663  0.037785  0.061206  0.005387 -0.057296  156.52      0  \n",
       "60943  -0.300837 -1.174590  0.573818  0.388023  0.161782   57.50      0  \n",
       "\n",
       "[5 rows x 31 columns]"
      ]
     },
     "execution_count": 6,
     "metadata": {},
     "output_type": "execute_result"
    }
   ],
   "source": [
    "train_df, test_df = train_test_split(cc_df, test_size=0.3, random_state=111)\n",
    "train_df.head()"
   ]
  },
  {
   "cell_type": "code",
   "execution_count": 7,
   "id": "ef8dc13d-c657-46b1-addf-8228265b5917",
   "metadata": {},
   "outputs": [
    {
     "data": {
      "text/plain": [
       "(199364, 31)"
      ]
     },
     "execution_count": 7,
     "metadata": {},
     "output_type": "execute_result"
    }
   ],
   "source": [
    "train_df.shape"
   ]
  },
  {
   "cell_type": "code",
   "execution_count": 8,
   "id": "03bf0270-35f9-4c2c-8bef-3a52a0d780da",
   "metadata": {},
   "outputs": [
    {
     "data": {
      "text/html": [
       "<div>\n",
       "<style scoped>\n",
       "    .dataframe tbody tr th:only-of-type {\n",
       "        vertical-align: middle;\n",
       "    }\n",
       "\n",
       "    .dataframe tbody tr th {\n",
       "        vertical-align: top;\n",
       "    }\n",
       "\n",
       "    .dataframe thead th {\n",
       "        text-align: right;\n",
       "    }\n",
       "</style>\n",
       "<table border=\"1\" class=\"dataframe\">\n",
       "  <thead>\n",
       "    <tr style=\"text-align: right;\">\n",
       "      <th></th>\n",
       "      <th>Time</th>\n",
       "      <th>V1</th>\n",
       "      <th>V2</th>\n",
       "      <th>V3</th>\n",
       "      <th>V4</th>\n",
       "      <th>V5</th>\n",
       "      <th>V6</th>\n",
       "      <th>V7</th>\n",
       "      <th>V8</th>\n",
       "      <th>V9</th>\n",
       "      <th>...</th>\n",
       "      <th>V21</th>\n",
       "      <th>V22</th>\n",
       "      <th>V23</th>\n",
       "      <th>V24</th>\n",
       "      <th>V25</th>\n",
       "      <th>V26</th>\n",
       "      <th>V27</th>\n",
       "      <th>V28</th>\n",
       "      <th>Amount</th>\n",
       "      <th>Class</th>\n",
       "    </tr>\n",
       "  </thead>\n",
       "  <tbody>\n",
       "    <tr>\n",
       "      <th>count</th>\n",
       "      <td>199364.000000</td>\n",
       "      <td>199364.000000</td>\n",
       "      <td>199364.000000</td>\n",
       "      <td>199364.000000</td>\n",
       "      <td>199364.000000</td>\n",
       "      <td>199364.000000</td>\n",
       "      <td>199364.000000</td>\n",
       "      <td>199364.000000</td>\n",
       "      <td>199364.000000</td>\n",
       "      <td>199364.000000</td>\n",
       "      <td>...</td>\n",
       "      <td>199364.000000</td>\n",
       "      <td>199364.000000</td>\n",
       "      <td>199364.000000</td>\n",
       "      <td>199364.000000</td>\n",
       "      <td>199364.000000</td>\n",
       "      <td>199364.000000</td>\n",
       "      <td>199364.000000</td>\n",
       "      <td>199364.000000</td>\n",
       "      <td>199364.000000</td>\n",
       "      <td>199364.000000</td>\n",
       "    </tr>\n",
       "    <tr>\n",
       "      <th>mean</th>\n",
       "      <td>94888.815669</td>\n",
       "      <td>0.000492</td>\n",
       "      <td>-0.000726</td>\n",
       "      <td>0.000927</td>\n",
       "      <td>0.000630</td>\n",
       "      <td>0.000036</td>\n",
       "      <td>0.000011</td>\n",
       "      <td>-0.001286</td>\n",
       "      <td>-0.002889</td>\n",
       "      <td>-0.000891</td>\n",
       "      <td>...</td>\n",
       "      <td>0.001205</td>\n",
       "      <td>0.000155</td>\n",
       "      <td>-0.000198</td>\n",
       "      <td>0.000113</td>\n",
       "      <td>0.000235</td>\n",
       "      <td>0.000312</td>\n",
       "      <td>-0.000366</td>\n",
       "      <td>0.000227</td>\n",
       "      <td>88.164679</td>\n",
       "      <td>0.001700</td>\n",
       "    </tr>\n",
       "    <tr>\n",
       "      <th>std</th>\n",
       "      <td>47491.435489</td>\n",
       "      <td>1.959870</td>\n",
       "      <td>1.645519</td>\n",
       "      <td>1.505335</td>\n",
       "      <td>1.413958</td>\n",
       "      <td>1.361718</td>\n",
       "      <td>1.327188</td>\n",
       "      <td>1.210001</td>\n",
       "      <td>1.214852</td>\n",
       "      <td>1.096927</td>\n",
       "      <td>...</td>\n",
       "      <td>0.748510</td>\n",
       "      <td>0.726634</td>\n",
       "      <td>0.628139</td>\n",
       "      <td>0.605060</td>\n",
       "      <td>0.520857</td>\n",
       "      <td>0.481960</td>\n",
       "      <td>0.401541</td>\n",
       "      <td>0.333139</td>\n",
       "      <td>238.925768</td>\n",
       "      <td>0.041201</td>\n",
       "    </tr>\n",
       "    <tr>\n",
       "      <th>min</th>\n",
       "      <td>0.000000</td>\n",
       "      <td>-56.407510</td>\n",
       "      <td>-72.715728</td>\n",
       "      <td>-31.813586</td>\n",
       "      <td>-5.683171</td>\n",
       "      <td>-42.147898</td>\n",
       "      <td>-26.160506</td>\n",
       "      <td>-43.557242</td>\n",
       "      <td>-73.216718</td>\n",
       "      <td>-13.320155</td>\n",
       "      <td>...</td>\n",
       "      <td>-34.830382</td>\n",
       "      <td>-8.887017</td>\n",
       "      <td>-44.807735</td>\n",
       "      <td>-2.824849</td>\n",
       "      <td>-10.295397</td>\n",
       "      <td>-2.241620</td>\n",
       "      <td>-22.565679</td>\n",
       "      <td>-11.710896</td>\n",
       "      <td>0.000000</td>\n",
       "      <td>0.000000</td>\n",
       "    </tr>\n",
       "    <tr>\n",
       "      <th>50%</th>\n",
       "      <td>84772.500000</td>\n",
       "      <td>0.018854</td>\n",
       "      <td>0.065463</td>\n",
       "      <td>0.179080</td>\n",
       "      <td>-0.019531</td>\n",
       "      <td>-0.056703</td>\n",
       "      <td>-0.275290</td>\n",
       "      <td>0.040497</td>\n",
       "      <td>0.022039</td>\n",
       "      <td>-0.052607</td>\n",
       "      <td>...</td>\n",
       "      <td>-0.029146</td>\n",
       "      <td>0.007666</td>\n",
       "      <td>-0.011678</td>\n",
       "      <td>0.041031</td>\n",
       "      <td>0.016587</td>\n",
       "      <td>-0.052790</td>\n",
       "      <td>0.001239</td>\n",
       "      <td>0.011234</td>\n",
       "      <td>22.000000</td>\n",
       "      <td>0.000000</td>\n",
       "    </tr>\n",
       "    <tr>\n",
       "      <th>max</th>\n",
       "      <td>172792.000000</td>\n",
       "      <td>2.451888</td>\n",
       "      <td>22.057729</td>\n",
       "      <td>9.382558</td>\n",
       "      <td>16.491217</td>\n",
       "      <td>34.801666</td>\n",
       "      <td>23.917837</td>\n",
       "      <td>44.054461</td>\n",
       "      <td>19.587773</td>\n",
       "      <td>15.594995</td>\n",
       "      <td>...</td>\n",
       "      <td>27.202839</td>\n",
       "      <td>10.503090</td>\n",
       "      <td>22.083545</td>\n",
       "      <td>4.022866</td>\n",
       "      <td>6.070850</td>\n",
       "      <td>3.517346</td>\n",
       "      <td>12.152401</td>\n",
       "      <td>33.847808</td>\n",
       "      <td>11898.090000</td>\n",
       "      <td>1.000000</td>\n",
       "    </tr>\n",
       "  </tbody>\n",
       "</table>\n",
       "<p>6 rows × 31 columns</p>\n",
       "</div>"
      ],
      "text/plain": [
       "                Time             V1             V2             V3  \\\n",
       "count  199364.000000  199364.000000  199364.000000  199364.000000   \n",
       "mean    94888.815669       0.000492      -0.000726       0.000927   \n",
       "std     47491.435489       1.959870       1.645519       1.505335   \n",
       "min         0.000000     -56.407510     -72.715728     -31.813586   \n",
       "50%     84772.500000       0.018854       0.065463       0.179080   \n",
       "max    172792.000000       2.451888      22.057729       9.382558   \n",
       "\n",
       "                  V4             V5             V6             V7  \\\n",
       "count  199364.000000  199364.000000  199364.000000  199364.000000   \n",
       "mean        0.000630       0.000036       0.000011      -0.001286   \n",
       "std         1.413958       1.361718       1.327188       1.210001   \n",
       "min        -5.683171     -42.147898     -26.160506     -43.557242   \n",
       "50%        -0.019531      -0.056703      -0.275290       0.040497   \n",
       "max        16.491217      34.801666      23.917837      44.054461   \n",
       "\n",
       "                  V8             V9  ...            V21            V22  \\\n",
       "count  199364.000000  199364.000000  ...  199364.000000  199364.000000   \n",
       "mean       -0.002889      -0.000891  ...       0.001205       0.000155   \n",
       "std         1.214852       1.096927  ...       0.748510       0.726634   \n",
       "min       -73.216718     -13.320155  ...     -34.830382      -8.887017   \n",
       "50%         0.022039      -0.052607  ...      -0.029146       0.007666   \n",
       "max        19.587773      15.594995  ...      27.202839      10.503090   \n",
       "\n",
       "                 V23            V24            V25            V26  \\\n",
       "count  199364.000000  199364.000000  199364.000000  199364.000000   \n",
       "mean       -0.000198       0.000113       0.000235       0.000312   \n",
       "std         0.628139       0.605060       0.520857       0.481960   \n",
       "min       -44.807735      -2.824849     -10.295397      -2.241620   \n",
       "50%        -0.011678       0.041031       0.016587      -0.052790   \n",
       "max        22.083545       4.022866       6.070850       3.517346   \n",
       "\n",
       "                 V27            V28         Amount          Class  \n",
       "count  199364.000000  199364.000000  199364.000000  199364.000000  \n",
       "mean       -0.000366       0.000227      88.164679       0.001700  \n",
       "std         0.401541       0.333139     238.925768       0.041201  \n",
       "min       -22.565679     -11.710896       0.000000       0.000000  \n",
       "50%         0.001239       0.011234      22.000000       0.000000  \n",
       "max        12.152401      33.847808   11898.090000       1.000000  \n",
       "\n",
       "[6 rows x 31 columns]"
      ]
     },
     "execution_count": 8,
     "metadata": {},
     "output_type": "execute_result"
    }
   ],
   "source": [
    "train_df.describe(include=\"all\", percentiles=[])"
   ]
  },
  {
   "cell_type": "code",
   "execution_count": 9,
   "id": "52c73e25-d32f-492c-b5cc-0f3ae839ca48",
   "metadata": {},
   "outputs": [],
   "source": [
    "X_train_big, y_train_big = train_df.drop(columns=[\"Class\"]), train_df[\"Class\"]\n",
    "X_test, y_test = test_df.drop(columns=[\"Class\"]), train_df[\"Class\"]"
   ]
  },
  {
   "cell_type": "code",
   "execution_count": 10,
   "id": "43691b1f-79c8-462a-bebc-ded38dcac8df",
   "metadata": {},
   "outputs": [],
   "source": [
    "X_train, X_valid, y_train, y_valid = train_test_split(X_train_big,\n",
    "                                                      y_train_big,\n",
    "                                                      test_size=0.3,\n",
    "                                                      random_state=123)"
   ]
  },
  {
   "cell_type": "code",
   "execution_count": 15,
   "id": "800dc6c8-453b-4b8b-9563-31a231446a72",
   "metadata": {},
   "outputs": [
    {
     "data": {
      "text/plain": [
       "fit_time       0.030734\n",
       "score_time     0.003932\n",
       "test_score     0.998302\n",
       "train_score    0.998302\n",
       "dtype: float64"
      ]
     },
     "execution_count": 15,
     "metadata": {},
     "output_type": "execute_result"
    }
   ],
   "source": [
    "dummy = DummyClassifier(strategy=\"most_frequent\")\n",
    "pd.DataFrame(cross_validate(dummy, X_train, y_train, return_train_score=True)).mean()"
   ]
  },
  {
   "cell_type": "code",
   "execution_count": 16,
   "id": "3ea57b6f-ee00-4452-8b69-afafd2806750",
   "metadata": {},
   "outputs": [
    {
     "data": {
      "text/plain": [
       "0    0.9983\n",
       "1    0.0017\n",
       "Name: Class, dtype: float64"
      ]
     },
     "execution_count": 16,
     "metadata": {},
     "output_type": "execute_result"
    }
   ],
   "source": [
    "train_df[\"Class\"].value_counts(normalize=True)"
   ]
  },
  {
   "cell_type": "code",
   "execution_count": 21,
   "id": "22c1fe6b-aa19-421d-916f-471eafa4be5d",
   "metadata": {},
   "outputs": [],
   "source": [
    "pipe = make_pipeline(\n",
    "    (StandardScaler()),\n",
    "    (DecisionTreeClassifier(random_state=123))\n",
    ")"
   ]
  },
  {
   "cell_type": "code",
   "execution_count": 22,
   "id": "519c27ce-b640-4556-b79b-c0b38528ea49",
   "metadata": {},
   "outputs": [
    {
     "data": {
      "text/plain": [
       "fit_time       10.325765\n",
       "score_time      0.018858\n",
       "test_score      0.999119\n",
       "train_score     1.000000\n",
       "dtype: float64"
      ]
     },
     "execution_count": 22,
     "metadata": {},
     "output_type": "execute_result"
    }
   ],
   "source": [
    "pd.DataFrame(cross_validate(pipe, X_train, y_train, return_train_score=True)).mean()"
   ]
  },
  {
   "cell_type": "code",
   "execution_count": 23,
   "id": "99608196-b76b-4cb2-bb9c-7575f784a417",
   "metadata": {},
   "outputs": [
    {
     "data": {
      "text/plain": [
       "0    0.9983\n",
       "1    0.0017\n",
       "Name: Class, dtype: float64"
      ]
     },
     "execution_count": 23,
     "metadata": {},
     "output_type": "execute_result"
    }
   ],
   "source": [
    "train_df[\"Class\"].value_counts(normalize=True)"
   ]
  },
  {
   "cell_type": "markdown",
   "id": "abfefaf7-d9a8-42fc-ac1e-2fe5ea0f92c1",
   "metadata": {},
   "source": [
    "There are two kinds of binary classification problems:\n",
    "* Distinguishing between two classes\n",
    "* Spotting a class (fraud transaction, spam, disease)"
   ]
  },
  {
   "cell_type": "markdown",
   "id": "abee1d54-67a2-4345-a787-f35b927c7370",
   "metadata": {},
   "source": [
    "**Confusion Matrix**"
   ]
  },
  {
   "cell_type": "code",
   "execution_count": 24,
   "id": "95e62817-e5fb-4377-a3a2-6cd71809cffc",
   "metadata": {},
   "outputs": [],
   "source": [
    "pipe.fit(X_train, y_train);"
   ]
  },
  {
   "cell_type": "code",
   "execution_count": 29,
   "id": "fa1aeecb-d3a5-47ea-8dc1-4b2da684f937",
   "metadata": {},
   "outputs": [],
   "source": [
    "# plot_confusion_matrix(pipe, X_valid, y_valid, display_labels=[\"Non fraud\", \"Fraud\"], values_format=\"d\", cmap=\"Blues\");"
   ]
  },
  {
   "cell_type": "markdown",
   "id": "7fb8ae23-ab61-45ed-8828-000922c8c351",
   "metadata": {},
   "source": [
    "* **True negative**: negative example, predict negative\n",
    "* **False negative**: positive example, predict negative\n",
    "* **False positive**: negative example, predict positive\n",
    "* **True positive**: positive example, predict positive"
   ]
  },
  {
   "cell_type": "code",
   "execution_count": 32,
   "id": "283259eb-fa62-4eef-be8d-cb842f817f3c",
   "metadata": {},
   "outputs": [
    {
     "data": {
      "text/plain": [
       "array([[59674,    34],\n",
       "       [   26,    76]])"
      ]
     },
     "execution_count": 32,
     "metadata": {},
     "output_type": "execute_result"
    }
   ],
   "source": [
    "predictions = pipe.predict(X_valid)\n",
    "confusion_matrix(y_valid, predictions)"
   ]
  },
  {
   "cell_type": "markdown",
   "id": "bef79e33-79a3-4026-8cec-5b655df3dc5b",
   "metadata": {},
   "source": [
    "### Precision, Recall and F1 Score"
   ]
  },
  {
   "cell_type": "code",
   "execution_count": 33,
   "id": "00298c68-bd14-4091-871b-d293360f8f5f",
   "metadata": {},
   "outputs": [],
   "source": [
    "pipe_tree = make_pipeline(\n",
    "    (StandardScaler()),\n",
    "    (DecisionTreeClassifier(random_state=123))\n",
    ")"
   ]
  },
  {
   "cell_type": "code",
   "execution_count": 34,
   "id": "a4d806bd-c623-40b2-b93a-e6a96f514a27",
   "metadata": {},
   "outputs": [
    {
     "data": {
      "text/plain": [
       "fit_time       11.937541\n",
       "score_time      0.020289\n",
       "test_score      0.999119\n",
       "train_score     1.000000\n",
       "dtype: float64"
      ]
     },
     "execution_count": 34,
     "metadata": {},
     "output_type": "execute_result"
    }
   ],
   "source": [
    "pd.DataFrame(cross_validate(pipe_tree, X_train, y_train, return_train_score=True)).mean()"
   ]
  },
  {
   "cell_type": "code",
   "execution_count": 36,
   "id": "072924bd-6e14-44b5-8a3f-b85c27f276fd",
   "metadata": {},
   "outputs": [
    {
     "data": {
      "text/plain": [
       "array([[59674,    34],\n",
       "       [   26,    76]])"
      ]
     },
     "execution_count": 36,
     "metadata": {},
     "output_type": "execute_result"
    }
   ],
   "source": [
    "pipe_tree.fit(X_train,y_train);\n",
    "predictions = pipe_tree.predict(X_valid)\n",
    "confusion_matrix(y_valid, predictions)"
   ]
  },
  {
   "cell_type": "code",
   "execution_count": 37,
   "id": "2192b6bb-b00f-4ccd-830f-8a3ce9c0f8c0",
   "metadata": {},
   "outputs": [],
   "source": [
    "TN, FP, FN, TP = confusion_matrix(y_valid, predictions).ravel()"
   ]
  },
  {
   "cell_type": "markdown",
   "id": "3decebf1-a8c0-48d2-b19e-32e3163b147b",
   "metadata": {},
   "source": [
    "**Recall**: among all positive examples, how many did you identify?\n",
    "\n",
    "recall = TP/(TP + FN) = TP/(# positives)"
   ]
  },
  {
   "cell_type": "code",
   "execution_count": 39,
   "id": "e0863577-cd90-4cae-b5e6-66ddac75640a",
   "metadata": {},
   "outputs": [
    {
     "data": {
      "text/plain": [
       "0.7451"
      ]
     },
     "execution_count": 39,
     "metadata": {},
     "output_type": "execute_result"
    }
   ],
   "source": [
    "recall = TP / (TP + FN)\n",
    "recall.round(4)"
   ]
  },
  {
   "cell_type": "markdown",
   "id": "773a277c-1f3a-4398-a6fa-f5b8b6a1e87d",
   "metadata": {},
   "source": [
    "**Precision**: Among the positive examples you identified, how many were actually positive?\n",
    "\n",
    "precision = TP/(TP + FP)"
   ]
  },
  {
   "cell_type": "code",
   "execution_count": 40,
   "id": "932386f2-bba3-42df-91d3-8841f115b13a",
   "metadata": {},
   "outputs": [
    {
     "data": {
      "text/plain": [
       "0.6909"
      ]
     },
     "execution_count": 40,
     "metadata": {},
     "output_type": "execute_result"
    }
   ],
   "source": [
    "precision = TP /(TP + FP)\n",
    "precision.round(4)"
   ]
  },
  {
   "cell_type": "markdown",
   "id": "e623a2d0-5177-47da-b54b-1ec9d37a37db",
   "metadata": {},
   "source": [
    "**F1**: combines precision and recall to give one score\n",
    "\n",
    "f1 = 2 * (precision * recall)/(precision + recall)"
   ]
  },
  {
   "cell_type": "code",
   "execution_count": 42,
   "id": "772074f7-fe44-4e0d-b227-68ffd0bda9e8",
   "metadata": {},
   "outputs": [
    {
     "data": {
      "text/plain": [
       "0.7169811320754716"
      ]
     },
     "execution_count": 42,
     "metadata": {},
     "output_type": "execute_result"
    }
   ],
   "source": [
    "f1_score = (2 * precision * recall) / (precision + recall)\n",
    "f1_score"
   ]
  },
  {
   "cell_type": "code",
   "execution_count": 55,
   "id": "fe5793e1-999c-4ca5-9655-c9556019d40d",
   "metadata": {},
   "outputs": [],
   "source": [
    "data={}\n",
    "data[\"accuracy\"] = [(TP+TN)/(TN+FP+FN+TP)]\n",
    "data[\"accuracy\"] =  [(FP+FN)/(TN+FP+FN+TP)]\n",
    "data[\"precision\"] = [TP/(TP+FP)]\n",
    "data[\"recall\"] =  [TP/(TP+FN)]\n",
    "data[\"f1 score\"] = [(2 * precision * recall) / (precision + recall)]\n",
    "measures_df = pd.DataFrame(data, index=['ourselves'])\n",
    "\n",
    "from sklearn.metrics import accuracy_score, precision_score, recall_score, f1_score\n",
    "pred_cv = pipe_tree.predict(X_valid)\n",
    "data[\"accuracy\"].append(accuracy_score(y_valid, pred_cv))\n",
    "data[\"accuracy\"].append(1-accuracy_score(y_valid, pred_cv))\n",
    "data[\"precision\"].append(precision_score(y_valid, pred_cv, zero_division=1))\n",
    "data[\"recall\"].append(recall_score(y_valid, pred_cv))\n",
    "data[\"f1 score\"].append(f1_score(y_valid, pred_cv))\n",
    "\n",
    "#pd.DataFrame(data, index=[\"ourselves\", \"sklearn\"])"
   ]
  },
  {
   "cell_type": "markdown",
   "id": "5ee79704-9d6c-47ca-a4c2-d3467e973378",
   "metadata": {},
   "source": [
    "**Classification Report**"
   ]
  },
  {
   "cell_type": "code",
   "execution_count": 52,
   "id": "896b64bb-530f-4237-93c3-14e267569a40",
   "metadata": {},
   "outputs": [],
   "source": [
    "from sklearn.metrics import classification_report"
   ]
  },
  {
   "cell_type": "code",
   "execution_count": 53,
   "id": "be3fc543-13af-42f8-a6a3-b9b8b55c6b1c",
   "metadata": {},
   "outputs": [
    {
     "data": {
      "text/plain": [
       "array([0, 1])"
      ]
     },
     "execution_count": 53,
     "metadata": {},
     "output_type": "execute_result"
    }
   ],
   "source": [
    "pipe_tree.classes_"
   ]
  },
  {
   "cell_type": "code",
   "execution_count": 54,
   "id": "4a078cc6-a756-4347-9eef-3f3bf8e209ad",
   "metadata": {},
   "outputs": [
    {
     "name": "stdout",
     "output_type": "stream",
     "text": [
      "              precision    recall  f1-score   support\n",
      "\n",
      "   non-fraud       1.00      1.00      1.00     59708\n",
      "       fraud       0.69      0.75      0.72       102\n",
      "\n",
      "    accuracy                           1.00     59810\n",
      "   macro avg       0.85      0.87      0.86     59810\n",
      "weighted avg       1.00      1.00      1.00     59810\n",
      "\n"
     ]
    }
   ],
   "source": [
    "print(classification_report(y_valid, pipe_tree.predict(X_valid),\n",
    "                            target_names=[\"non-fraud\", \"fraud\"]))"
   ]
  },
  {
   "cell_type": "markdown",
   "id": "f902c242-f309-44ef-8087-55ce985b8cd8",
   "metadata": {},
   "source": [
    "### Multi-Class Measurements"
   ]
  },
  {
   "cell_type": "code",
   "execution_count": 57,
   "id": "5b27c731-f35b-4e11-bed1-d683c015cf43",
   "metadata": {},
   "outputs": [],
   "source": [
    "# from sklearn.datasets import load_digits\n",
    "from sklearn.metrics import accuracy_score"
   ]
  },
  {
   "cell_type": "markdown",
   "id": "c1d9ceca-7ef5-497f-81ec-5c3f1f73edf2",
   "metadata": {},
   "source": [
    "```\n",
    "digits = load_digits()\n",
    "digits.images[-1]\n",
    "```"
   ]
  },
  {
   "cell_type": "markdown",
   "id": "d8569270-5976-43fc-8356-70a1e60dd8b3",
   "metadata": {},
   "source": [
    "```\n",
    "X_train_digits, X_test_digits, y_train_digits, y_test_digits = train_test_split(\n",
    "    digits['data'] / 16., digits['target'], random_state=0)\n",
    "\n",
    "knn = KNeighborsClassifier().fit(X_train_digits, y_train_digits)\n",
    "pred = knn.predict(X_test_digits)\n",
    "print(\"Accuracy: \", accuracy_score(y_test_digits, pred).round(4))\n",
    "```"
   ]
  },
  {
   "cell_type": "markdown",
   "id": "113fb14b-ae57-4214-84dd-9de03d8b961b",
   "metadata": {},
   "source": [
    "```\n",
    "plot_confusion_matrix(knn, X_test_digits, y_test_digits, cmap='gray_r');\n",
    "plt.show()\n",
    "```"
   ]
  },
  {
   "cell_type": "markdown",
   "id": "318108ac-3b92-41b0-854e-f9791c5ac23f",
   "metadata": {},
   "source": [
    "```\n",
    "print(classification_report(y_test_digits, pred, digits=4))\n",
    "```"
   ]
  },
  {
   "cell_type": "markdown",
   "id": "2495f614-4071-453b-967b-5e569e21a7cb",
   "metadata": {},
   "source": [
    "**Macro average vs weighted average**"
   ]
  },
  {
   "cell_type": "markdown",
   "id": "0bba1568-f97e-4deb-8f5f-00030aa5f1be",
   "metadata": {},
   "source": [
    "```\n",
    "print(classification_report(y_test_digits, pred, digits=4))\n",
    "```"
   ]
  },
  {
   "cell_type": "markdown",
   "id": "92a8ef0b-334f-4ecb-b5a8-fad71cfce40b",
   "metadata": {},
   "source": [
    "**Macro average**: Give equal importance to all classes.\n",
    "\n",
    "**Weighted average**: Weighted by the number of samples in each class and divide by the total number of samples."
   ]
  },
  {
   "cell_type": "markdown",
   "id": "b5c18ead-1055-4004-8a1e-c5ab3b40fe06",
   "metadata": {},
   "source": [
    "### Impalances Datasets"
   ]
  },
  {
   "cell_type": "markdown",
   "id": "8fa253a4-7a15-46bd-9ebd-575fe9f97724",
   "metadata": {},
   "source": [
    "**Class imbalance in training sets**"
   ]
  },
  {
   "cell_type": "code",
   "execution_count": 63,
   "id": "0de6e86d-3e51-4a8e-bb59-ab3e3c2bc457",
   "metadata": {},
   "outputs": [
    {
     "data": {
      "text/html": [
       "<div>\n",
       "<style scoped>\n",
       "    .dataframe tbody tr th:only-of-type {\n",
       "        vertical-align: middle;\n",
       "    }\n",
       "\n",
       "    .dataframe tbody tr th {\n",
       "        vertical-align: top;\n",
       "    }\n",
       "\n",
       "    .dataframe thead th {\n",
       "        text-align: right;\n",
       "    }\n",
       "</style>\n",
       "<table border=\"1\" class=\"dataframe\">\n",
       "  <thead>\n",
       "    <tr style=\"text-align: right;\">\n",
       "      <th></th>\n",
       "      <th>Time</th>\n",
       "      <th>V1</th>\n",
       "      <th>V2</th>\n",
       "      <th>V3</th>\n",
       "      <th>V4</th>\n",
       "      <th>V5</th>\n",
       "      <th>V6</th>\n",
       "      <th>V7</th>\n",
       "      <th>V8</th>\n",
       "      <th>V9</th>\n",
       "      <th>...</th>\n",
       "      <th>V20</th>\n",
       "      <th>V21</th>\n",
       "      <th>V22</th>\n",
       "      <th>V23</th>\n",
       "      <th>V24</th>\n",
       "      <th>V25</th>\n",
       "      <th>V26</th>\n",
       "      <th>V27</th>\n",
       "      <th>V28</th>\n",
       "      <th>Amount</th>\n",
       "    </tr>\n",
       "  </thead>\n",
       "  <tbody>\n",
       "    <tr>\n",
       "      <th>80437</th>\n",
       "      <td>58486.0</td>\n",
       "      <td>0.984032</td>\n",
       "      <td>-1.851494</td>\n",
       "      <td>0.670618</td>\n",
       "      <td>-1.192458</td>\n",
       "      <td>-2.092441</td>\n",
       "      <td>-0.511208</td>\n",
       "      <td>-1.014356</td>\n",
       "      <td>-0.088517</td>\n",
       "      <td>-1.947026</td>\n",
       "      <td>...</td>\n",
       "      <td>0.187838</td>\n",
       "      <td>0.151899</td>\n",
       "      <td>0.293799</td>\n",
       "      <td>-0.200566</td>\n",
       "      <td>0.548729</td>\n",
       "      <td>0.207097</td>\n",
       "      <td>-0.159589</td>\n",
       "      <td>0.005833</td>\n",
       "      <td>0.061062</td>\n",
       "      <td>249.00</td>\n",
       "    </tr>\n",
       "    <tr>\n",
       "      <th>60984</th>\n",
       "      <td>49594.0</td>\n",
       "      <td>-0.985503</td>\n",
       "      <td>1.429365</td>\n",
       "      <td>1.528503</td>\n",
       "      <td>0.786004</td>\n",
       "      <td>-0.467397</td>\n",
       "      <td>-0.298816</td>\n",
       "      <td>0.080549</td>\n",
       "      <td>0.464257</td>\n",
       "      <td>-1.157092</td>\n",
       "      <td>...</td>\n",
       "      <td>0.255637</td>\n",
       "      <td>-0.129198</td>\n",
       "      <td>-0.451259</td>\n",
       "      <td>-0.104275</td>\n",
       "      <td>0.346654</td>\n",
       "      <td>-0.039245</td>\n",
       "      <td>0.367483</td>\n",
       "      <td>0.049164</td>\n",
       "      <td>0.053953</td>\n",
       "      <td>5.99</td>\n",
       "    </tr>\n",
       "    <tr>\n",
       "      <th>128056</th>\n",
       "      <td>78583.0</td>\n",
       "      <td>-1.205750</td>\n",
       "      <td>0.892452</td>\n",
       "      <td>2.380624</td>\n",
       "      <td>-0.016385</td>\n",
       "      <td>-0.442344</td>\n",
       "      <td>0.312907</td>\n",
       "      <td>0.158987</td>\n",
       "      <td>0.048223</td>\n",
       "      <td>0.990212</td>\n",
       "      <td>...</td>\n",
       "      <td>0.192520</td>\n",
       "      <td>-0.072519</td>\n",
       "      <td>0.168212</td>\n",
       "      <td>-0.157596</td>\n",
       "      <td>0.084111</td>\n",
       "      <td>-0.172349</td>\n",
       "      <td>0.281843</td>\n",
       "      <td>-0.126878</td>\n",
       "      <td>0.035593</td>\n",
       "      <td>11.50</td>\n",
       "    </tr>\n",
       "    <tr>\n",
       "      <th>71109</th>\n",
       "      <td>54160.0</td>\n",
       "      <td>-1.221491</td>\n",
       "      <td>0.584432</td>\n",
       "      <td>0.260960</td>\n",
       "      <td>-2.183469</td>\n",
       "      <td>0.148069</td>\n",
       "      <td>-0.353845</td>\n",
       "      <td>0.134643</td>\n",
       "      <td>0.220526</td>\n",
       "      <td>-1.162636</td>\n",
       "      <td>...</td>\n",
       "      <td>0.444476</td>\n",
       "      <td>0.182635</td>\n",
       "      <td>0.720601</td>\n",
       "      <td>-0.387976</td>\n",
       "      <td>-0.799762</td>\n",
       "      <td>0.172382</td>\n",
       "      <td>-0.287630</td>\n",
       "      <td>0.301891</td>\n",
       "      <td>0.010734</td>\n",
       "      <td>23.90</td>\n",
       "    </tr>\n",
       "    <tr>\n",
       "      <th>172062</th>\n",
       "      <td>120937.0</td>\n",
       "      <td>2.108906</td>\n",
       "      <td>-0.036505</td>\n",
       "      <td>-1.729322</td>\n",
       "      <td>-0.006799</td>\n",
       "      <td>0.594977</td>\n",
       "      <td>-0.414454</td>\n",
       "      <td>0.167962</td>\n",
       "      <td>-0.220672</td>\n",
       "      <td>0.330188</td>\n",
       "      <td>...</td>\n",
       "      <td>-0.166839</td>\n",
       "      <td>0.231473</td>\n",
       "      <td>0.833535</td>\n",
       "      <td>-0.151937</td>\n",
       "      <td>-1.046125</td>\n",
       "      <td>0.400704</td>\n",
       "      <td>-0.062815</td>\n",
       "      <td>-0.021197</td>\n",
       "      <td>-0.078745</td>\n",
       "      <td>0.89</td>\n",
       "    </tr>\n",
       "  </tbody>\n",
       "</table>\n",
       "<p>5 rows × 30 columns</p>\n",
       "</div>"
      ],
      "text/plain": [
       "            Time        V1        V2        V3        V4        V5        V6  \\\n",
       "80437    58486.0  0.984032 -1.851494  0.670618 -1.192458 -2.092441 -0.511208   \n",
       "60984    49594.0 -0.985503  1.429365  1.528503  0.786004 -0.467397 -0.298816   \n",
       "128056   78583.0 -1.205750  0.892452  2.380624 -0.016385 -0.442344  0.312907   \n",
       "71109    54160.0 -1.221491  0.584432  0.260960 -2.183469  0.148069 -0.353845   \n",
       "172062  120937.0  2.108906 -0.036505 -1.729322 -0.006799  0.594977 -0.414454   \n",
       "\n",
       "              V7        V8        V9  ...       V20       V21       V22  \\\n",
       "80437  -1.014356 -0.088517 -1.947026  ...  0.187838  0.151899  0.293799   \n",
       "60984   0.080549  0.464257 -1.157092  ...  0.255637 -0.129198 -0.451259   \n",
       "128056  0.158987  0.048223  0.990212  ...  0.192520 -0.072519  0.168212   \n",
       "71109   0.134643  0.220526 -1.162636  ...  0.444476  0.182635  0.720601   \n",
       "172062  0.167962 -0.220672  0.330188  ... -0.166839  0.231473  0.833535   \n",
       "\n",
       "             V23       V24       V25       V26       V27       V28  Amount  \n",
       "80437  -0.200566  0.548729  0.207097 -0.159589  0.005833  0.061062  249.00  \n",
       "60984  -0.104275  0.346654 -0.039245  0.367483  0.049164  0.053953    5.99  \n",
       "128056 -0.157596  0.084111 -0.172349  0.281843 -0.126878  0.035593   11.50  \n",
       "71109  -0.387976 -0.799762  0.172382 -0.287630  0.301891  0.010734   23.90  \n",
       "172062 -0.151937 -1.046125  0.400704 -0.062815 -0.021197 -0.078745    0.89  \n",
       "\n",
       "[5 rows x 30 columns]"
      ]
     },
     "execution_count": 63,
     "metadata": {},
     "output_type": "execute_result"
    }
   ],
   "source": [
    "X_train.head()"
   ]
  },
  {
   "cell_type": "code",
   "execution_count": 64,
   "id": "3f108ec7-2b02-4d00-b381-7c981acd25b3",
   "metadata": {},
   "outputs": [
    {
     "data": {
      "text/plain": [
       "0    0.998302\n",
       "1    0.001698\n",
       "Name: Class, dtype: float64"
      ]
     },
     "execution_count": 64,
     "metadata": {},
     "output_type": "execute_result"
    }
   ],
   "source": [
    "y_train.value_counts('Class')"
   ]
  },
  {
   "cell_type": "markdown",
   "id": "3e69dc84-1351-4f50-a079-b6c47b4ed628",
   "metadata": {},
   "source": [
    "**Addressing class imbalance**\n",
    "\n",
    "A very important question to ask: why do I have a class imbalance?\n",
    "\n",
    "* Is it because one class is much rarer than the other?\n",
    "* Is it because of my data collection methods?\n",
    "\n",
    "But if you answer \"no\" to both of these, it may be fine to just ignore the class imbalance."
   ]
  },
  {
   "cell_type": "markdown",
   "id": "06d07108-06ce-4161-a27d-21836519fa25",
   "metadata": {},
   "source": [
    "**Handling imbalance**\n",
    "\n",
    "There are two common approaches to this:\n",
    "1. Changing the training procedure\n",
    "2. Changing the data (not in this course)\n",
    "* Undersampling\n",
    "* Oversampling"
   ]
  },
  {
   "cell_type": "code",
   "execution_count": 65,
   "id": "46a38aa0-9f3d-4fac-b40b-e2bf99cfdb55",
   "metadata": {},
   "outputs": [],
   "source": [
    "tree_default = DecisionTreeClassifier(random_state=7)\n",
    "tree_default.fit(X_train,y_train);"
   ]
  },
  {
   "cell_type": "code",
   "execution_count": 66,
   "id": "563e8483-4b5f-4746-968c-4ca2aaf09eee",
   "metadata": {},
   "outputs": [],
   "source": [
    "tree_100 = DecisionTreeClassifier(random_state=7, class_weight={1:100})\n",
    "tree_100.fit(X_train,y_train);"
   ]
  },
  {
   "cell_type": "markdown",
   "id": "8810da44-5240-4820-9d50-0a8bd40d8e26",
   "metadata": {},
   "source": [
    "**class_weight=\"balanced\"**"
   ]
  },
  {
   "cell_type": "code",
   "execution_count": 68,
   "id": "fdd63a98-4bcd-41b5-8e74-8c551ba04a59",
   "metadata": {},
   "outputs": [],
   "source": [
    "tree_balanced=DecisionTreeClassifier(random_state=7, class_weight=\"balanced\")\n",
    "tree_balanced.fit(X_train,y_train);"
   ]
  },
  {
   "cell_type": "code",
   "execution_count": 69,
   "id": "7d7de974-5b86-4671-a000-b63f9e0b4054",
   "metadata": {},
   "outputs": [
    {
     "data": {
      "text/plain": [
       "0.9990971409463301"
      ]
     },
     "execution_count": 69,
     "metadata": {},
     "output_type": "execute_result"
    }
   ],
   "source": [
    "tree_default.score(X_valid, y_valid)"
   ]
  },
  {
   "cell_type": "code",
   "execution_count": 70,
   "id": "e629fbfe-2399-4a78-ac9c-5157077f0fee",
   "metadata": {},
   "outputs": [
    {
     "data": {
      "text/plain": [
       "0.998913225213175"
      ]
     },
     "execution_count": 70,
     "metadata": {},
     "output_type": "execute_result"
    }
   ],
   "source": [
    "tree_balanced.score(X_valid,y_valid)"
   ]
  },
  {
   "cell_type": "markdown",
   "id": "e64c4b3e-35ca-4e2c-8965-520f5334e420",
   "metadata": {},
   "source": [
    "Is stratifying a good idea?\n",
    "\n",
    "Yes and no:\n",
    "* No longer a random sample\n",
    "* It can be especially useful in multi-class situations.\n",
    "\n",
    "But in general, these are difficult questions to answer."
   ]
  },
  {
   "cell_type": "markdown",
   "id": "248a17df-a70d-4c19-97eb-1e26d42e5239",
   "metadata": {},
   "source": [
    "### Regression Measurements"
   ]
  },
  {
   "cell_type": "code",
   "execution_count": 71,
   "id": "0ca86726-5c50-4f94-a6d9-0841ed08e9e3",
   "metadata": {},
   "outputs": [],
   "source": [
    "housing_df = pd.read_csv(\"data/housing.csv\")\n",
    "train_df, test_df = train_test_split(housing_df, test_size=0.1, random_state=123)"
   ]
  },
  {
   "cell_type": "code",
   "execution_count": 72,
   "id": "83eb1cab-5beb-4045-9e08-d781f2c6cbe1",
   "metadata": {},
   "outputs": [],
   "source": [
    "X_train = train_df.drop(columns=[\"median_house_value\"])\n",
    "y_train = train_df[\"median_house_value\"]\n",
    "\n",
    "X_test = test_df.drop(columns=[\"median_house_value\"])\n",
    "y_test = test_df[\"median_house_value\"]"
   ]
  },
  {
   "cell_type": "code",
   "execution_count": 73,
   "id": "4c3b3bbc-ee21-4b26-b3c8-6dce1921035e",
   "metadata": {},
   "outputs": [],
   "source": [
    "numeric_features = [\"longitude\", \n",
    "                    \"latitude\",\n",
    "                    \"housing_median_age\",\n",
    "                    \"households\",\n",
    "                    \"median_income\",\n",
    "                    \"total_rooms\",\n",
    "                    \"total_bedrooms\",\n",
    "                    \"population\"]\n",
    "\n",
    "categorical_features = [\"ocean_proximity\"]"
   ]
  },
  {
   "cell_type": "code",
   "execution_count": 74,
   "id": "c40e6ce6-2da2-4892-a853-3a1fc8f88b61",
   "metadata": {},
   "outputs": [
    {
     "data": {
      "text/html": [
       "<div>\n",
       "<style scoped>\n",
       "    .dataframe tbody tr th:only-of-type {\n",
       "        vertical-align: middle;\n",
       "    }\n",
       "\n",
       "    .dataframe tbody tr th {\n",
       "        vertical-align: top;\n",
       "    }\n",
       "\n",
       "    .dataframe thead th {\n",
       "        text-align: right;\n",
       "    }\n",
       "</style>\n",
       "<table border=\"1\" class=\"dataframe\">\n",
       "  <thead>\n",
       "    <tr style=\"text-align: right;\">\n",
       "      <th></th>\n",
       "      <th>longitude</th>\n",
       "      <th>latitude</th>\n",
       "      <th>housing_median_age</th>\n",
       "      <th>total_rooms</th>\n",
       "      <th>total_bedrooms</th>\n",
       "      <th>population</th>\n",
       "      <th>households</th>\n",
       "      <th>median_income</th>\n",
       "      <th>ocean_proximity</th>\n",
       "    </tr>\n",
       "  </thead>\n",
       "  <tbody>\n",
       "    <tr>\n",
       "      <th>6051</th>\n",
       "      <td>-117.75</td>\n",
       "      <td>34.04</td>\n",
       "      <td>22.0</td>\n",
       "      <td>2948.0</td>\n",
       "      <td>636.0</td>\n",
       "      <td>2600.0</td>\n",
       "      <td>602.0</td>\n",
       "      <td>3.1250</td>\n",
       "      <td>INLAND</td>\n",
       "    </tr>\n",
       "    <tr>\n",
       "      <th>20113</th>\n",
       "      <td>-119.57</td>\n",
       "      <td>37.94</td>\n",
       "      <td>17.0</td>\n",
       "      <td>346.0</td>\n",
       "      <td>130.0</td>\n",
       "      <td>51.0</td>\n",
       "      <td>20.0</td>\n",
       "      <td>3.4861</td>\n",
       "      <td>INLAND</td>\n",
       "    </tr>\n",
       "    <tr>\n",
       "      <th>14289</th>\n",
       "      <td>-117.13</td>\n",
       "      <td>32.74</td>\n",
       "      <td>46.0</td>\n",
       "      <td>3355.0</td>\n",
       "      <td>768.0</td>\n",
       "      <td>1457.0</td>\n",
       "      <td>708.0</td>\n",
       "      <td>2.6604</td>\n",
       "      <td>NEAR OCEAN</td>\n",
       "    </tr>\n",
       "    <tr>\n",
       "      <th>13665</th>\n",
       "      <td>-117.31</td>\n",
       "      <td>34.02</td>\n",
       "      <td>18.0</td>\n",
       "      <td>1634.0</td>\n",
       "      <td>274.0</td>\n",
       "      <td>899.0</td>\n",
       "      <td>285.0</td>\n",
       "      <td>5.2139</td>\n",
       "      <td>INLAND</td>\n",
       "    </tr>\n",
       "    <tr>\n",
       "      <th>14471</th>\n",
       "      <td>-117.23</td>\n",
       "      <td>32.88</td>\n",
       "      <td>18.0</td>\n",
       "      <td>5566.0</td>\n",
       "      <td>1465.0</td>\n",
       "      <td>6303.0</td>\n",
       "      <td>1458.0</td>\n",
       "      <td>1.8580</td>\n",
       "      <td>NEAR OCEAN</td>\n",
       "    </tr>\n",
       "  </tbody>\n",
       "</table>\n",
       "</div>"
      ],
      "text/plain": [
       "       longitude  latitude  housing_median_age  total_rooms  total_bedrooms  \\\n",
       "6051     -117.75     34.04                22.0       2948.0           636.0   \n",
       "20113    -119.57     37.94                17.0        346.0           130.0   \n",
       "14289    -117.13     32.74                46.0       3355.0           768.0   \n",
       "13665    -117.31     34.02                18.0       1634.0           274.0   \n",
       "14471    -117.23     32.88                18.0       5566.0          1465.0   \n",
       "\n",
       "       population  households  median_income ocean_proximity  \n",
       "6051       2600.0       602.0         3.1250          INLAND  \n",
       "20113        51.0        20.0         3.4861          INLAND  \n",
       "14289      1457.0       708.0         2.6604      NEAR OCEAN  \n",
       "13665       899.0       285.0         5.2139          INLAND  \n",
       "14471      6303.0      1458.0         1.8580      NEAR OCEAN  "
      ]
     },
     "execution_count": 74,
     "metadata": {},
     "output_type": "execute_result"
    }
   ],
   "source": [
    "X_train.head()"
   ]
  },
  {
   "cell_type": "code",
   "execution_count": 90,
   "id": "fca2cd1b-b623-4637-93c5-8a5f2fdc08ee",
   "metadata": {},
   "outputs": [],
   "source": [
    "#from sklearn.impute import SimpleImputer"
   ]
  },
  {
   "cell_type": "markdown",
   "id": "cdf0d88a-c65a-4818-b439-242b0a7985aa",
   "metadata": {},
   "source": [
    "```\n",
    "numeric_transformer = make_pipeline(SimpleImputer(strategy=\"median\"),\n",
    "                                    StandardScaler())\n",
    "\n",
    "categorical_transformer = make_pipeline(\n",
    "    SimpleImputer(strategy = \"constant\", fill_value=\"missing\"),\n",
    "    OneHotEncoder(handle_unknown=\"ignore\")\n",
    ")\n",
    "\n",
    "preprocessor = make_column_transformer(\n",
    "    (numeric_transformer, numeric_features),\n",
    "    (categorical_transformer, categorical_features),\n",
    "    remainder='passthrough')\n",
    "\n",
    "pipe = make_pipeline(preprocessor, KNeighborsRegressor())\n",
    "pipe.fit(X_train,y_train);\n",
    "```"
   ]
  },
  {
   "cell_type": "markdown",
   "id": "7bdd64bd-e645-4a13-a1fa-88cfea2f1b0e",
   "metadata": {},
   "source": [
    "```\n",
    "predicted_y = pipe.predict(X_train)\n",
    "\n",
    "predicted_y == y_train\n",
    "\n",
    "y_train.values\n",
    "\n",
    "predicted_y\n",
    "```"
   ]
  },
  {
   "cell_type": "markdown",
   "id": "5373a559-e604-4ef8-8db2-829013ee8bec",
   "metadata": {},
   "source": [
    "**Regression Measurements**\n",
    "\n",
    "**mean squared error (MSE)** = $\\frac{1}{n} \\sum_i^n({true_i - predicted_i})^2$ (n = total # of samples)"
   ]
  },
  {
   "cell_type": "markdown",
   "id": "81f20d18-8b33-4dea-a80e-e95fed5f64e4",
   "metadata": {},
   "source": [
    "```\n",
    "np.mean((y_train - predicted_y))**2\n",
    "```"
   ]
  },
  {
   "cell_type": "code",
   "execution_count": 96,
   "id": "ebfd2b46-1763-484f-83bb-cb81966570af",
   "metadata": {},
   "outputs": [],
   "source": [
    "from sklearn.metrics import mean_squared_error"
   ]
  },
  {
   "cell_type": "markdown",
   "id": "e6dc5b90-ebf9-4dec-abf3-9237e41cd534",
   "metadata": {},
   "source": [
    "```\n",
    "mean_squared_error(y_train, predicted_y)\n",
    "```"
   ]
  },
  {
   "cell_type": "markdown",
   "id": "5d79e27c-40d6-4794-b62b-b9d590188768",
   "metadata": {},
   "source": [
    "**$R^2$**\n",
    "\n",
    "The maximum value possible is 1 which means the model has perfect predictions. Negative values are very bad: \"worse than baseline models such as DummyRegressor\""
   ]
  },
  {
   "cell_type": "code",
   "execution_count": 97,
   "id": "58872ddf-aeea-41ff-8cad-2981bcc85c89",
   "metadata": {},
   "outputs": [],
   "source": [
    "from sklearn.metrics import r2_score"
   ]
  },
  {
   "cell_type": "markdown",
   "id": "46201f96-f4c7-4ef0-8464-81b5e65f2ee1",
   "metadata": {},
   "source": [
    "```\n",
    "r2_score(y_train, predicted_y)\n",
    "```"
   ]
  },
  {
   "cell_type": "markdown",
   "id": "88305dbc-9178-4354-bfe6-69d5509a582b",
   "metadata": {},
   "source": [
    "**Root mean squared error (RMSE)**\n",
    "\n",
    "$RMSE = \\sqrt{MSE} = \\sqrt{\\frac{1}{n} \\sum_i^n({true_i - predicted_i})^2}$"
   ]
  },
  {
   "cell_type": "markdown",
   "id": "2fcd8e11-28cd-4841-aaa7-bf50d9ed6532",
   "metadata": {},
   "source": [
    "```\n",
    "mean_squared_error(y_train, predicted_y)\n",
    "np.sqrt(mean_squared_error(y_train, predicted_y))\n",
    "```"
   ]
  },
  {
   "cell_type": "markdown",
   "id": "c6c07724-5b94-4294-bfde-3521936b9f48",
   "metadata": {},
   "source": [
    "**MAPE - Mean Absolute Percent Error**"
   ]
  },
  {
   "cell_type": "markdown",
   "id": "fa096680-8322-4789-ac5e-02b480491d78",
   "metadata": {},
   "source": [
    "```\n",
    "percent_errors = (predicted_y - y_train)/y_train * 100\n",
    "percent_errors.head()\n",
    "np.abs(percent_errors).head()\n",
    "100.*np.mean(np.abs((predicted_y - y_train)/y_train))\n",
    "```"
   ]
  },
  {
   "cell_type": "markdown",
   "id": "1572e447-7f79-4921-8962-a0843db2bd26",
   "metadata": {},
   "source": [
    "### Passing Different Scoring Methods"
   ]
  },
  {
   "cell_type": "code",
   "execution_count": 98,
   "id": "349899ef-a125-4cc7-bf14-e070d4cb7d99",
   "metadata": {},
   "outputs": [
    {
     "data": {
      "text/html": [
       "<div>\n",
       "<style scoped>\n",
       "    .dataframe tbody tr th:only-of-type {\n",
       "        vertical-align: middle;\n",
       "    }\n",
       "\n",
       "    .dataframe tbody tr th {\n",
       "        vertical-align: top;\n",
       "    }\n",
       "\n",
       "    .dataframe thead th {\n",
       "        text-align: right;\n",
       "    }\n",
       "</style>\n",
       "<table border=\"1\" class=\"dataframe\">\n",
       "  <thead>\n",
       "    <tr style=\"text-align: right;\">\n",
       "      <th></th>\n",
       "      <th>longitude</th>\n",
       "      <th>latitude</th>\n",
       "      <th>housing_median_age</th>\n",
       "      <th>total_rooms</th>\n",
       "      <th>total_bedrooms</th>\n",
       "      <th>population</th>\n",
       "      <th>households</th>\n",
       "      <th>median_income</th>\n",
       "      <th>median_house_value</th>\n",
       "      <th>ocean_proximity</th>\n",
       "    </tr>\n",
       "  </thead>\n",
       "  <tbody>\n",
       "    <tr>\n",
       "      <th>6051</th>\n",
       "      <td>-117.75</td>\n",
       "      <td>34.04</td>\n",
       "      <td>22.0</td>\n",
       "      <td>2948.0</td>\n",
       "      <td>636.0</td>\n",
       "      <td>2600.0</td>\n",
       "      <td>602.0</td>\n",
       "      <td>3.1250</td>\n",
       "      <td>113600.0</td>\n",
       "      <td>INLAND</td>\n",
       "    </tr>\n",
       "    <tr>\n",
       "      <th>20113</th>\n",
       "      <td>-119.57</td>\n",
       "      <td>37.94</td>\n",
       "      <td>17.0</td>\n",
       "      <td>346.0</td>\n",
       "      <td>130.0</td>\n",
       "      <td>51.0</td>\n",
       "      <td>20.0</td>\n",
       "      <td>3.4861</td>\n",
       "      <td>137500.0</td>\n",
       "      <td>INLAND</td>\n",
       "    </tr>\n",
       "    <tr>\n",
       "      <th>14289</th>\n",
       "      <td>-117.13</td>\n",
       "      <td>32.74</td>\n",
       "      <td>46.0</td>\n",
       "      <td>3355.0</td>\n",
       "      <td>768.0</td>\n",
       "      <td>1457.0</td>\n",
       "      <td>708.0</td>\n",
       "      <td>2.6604</td>\n",
       "      <td>170100.0</td>\n",
       "      <td>NEAR OCEAN</td>\n",
       "    </tr>\n",
       "    <tr>\n",
       "      <th>13665</th>\n",
       "      <td>-117.31</td>\n",
       "      <td>34.02</td>\n",
       "      <td>18.0</td>\n",
       "      <td>1634.0</td>\n",
       "      <td>274.0</td>\n",
       "      <td>899.0</td>\n",
       "      <td>285.0</td>\n",
       "      <td>5.2139</td>\n",
       "      <td>129300.0</td>\n",
       "      <td>INLAND</td>\n",
       "    </tr>\n",
       "    <tr>\n",
       "      <th>14471</th>\n",
       "      <td>-117.23</td>\n",
       "      <td>32.88</td>\n",
       "      <td>18.0</td>\n",
       "      <td>5566.0</td>\n",
       "      <td>1465.0</td>\n",
       "      <td>6303.0</td>\n",
       "      <td>1458.0</td>\n",
       "      <td>1.8580</td>\n",
       "      <td>205000.0</td>\n",
       "      <td>NEAR OCEAN</td>\n",
       "    </tr>\n",
       "  </tbody>\n",
       "</table>\n",
       "</div>"
      ],
      "text/plain": [
       "       longitude  latitude  housing_median_age  total_rooms  total_bedrooms  \\\n",
       "6051     -117.75     34.04                22.0       2948.0           636.0   \n",
       "20113    -119.57     37.94                17.0        346.0           130.0   \n",
       "14289    -117.13     32.74                46.0       3355.0           768.0   \n",
       "13665    -117.31     34.02                18.0       1634.0           274.0   \n",
       "14471    -117.23     32.88                18.0       5566.0          1465.0   \n",
       "\n",
       "       population  households  median_income  median_house_value  \\\n",
       "6051       2600.0       602.0         3.1250            113600.0   \n",
       "20113        51.0        20.0         3.4861            137500.0   \n",
       "14289      1457.0       708.0         2.6604            170100.0   \n",
       "13665       899.0       285.0         5.2139            129300.0   \n",
       "14471      6303.0      1458.0         1.8580            205000.0   \n",
       "\n",
       "      ocean_proximity  \n",
       "6051           INLAND  \n",
       "20113          INLAND  \n",
       "14289      NEAR OCEAN  \n",
       "13665          INLAND  \n",
       "14471      NEAR OCEAN  "
      ]
     },
     "execution_count": 98,
     "metadata": {},
     "output_type": "execute_result"
    }
   ],
   "source": [
    "train_df.head()"
   ]
  },
  {
   "cell_type": "markdown",
   "id": "50c1ed0d-0d68-4716-9f57-fe65c033123b",
   "metadata": {},
   "source": [
    "**Cross Validation**\n",
    "\n",
    "```\n",
    "pd.DataFrame(cross_validate(pipe_tree, X_train, y_train, return_train_score=True, \n",
    "                            scoring = 'neg_root_mean_squared_error'))\n",
    "```"
   ]
  },
  {
   "cell_type": "code",
   "execution_count": 102,
   "id": "8e7cc0f2-39b3-4db1-9351-dfb9b2a401d8",
   "metadata": {},
   "outputs": [],
   "source": [
    "from sklearn.metrics import make_scorer"
   ]
  },
  {
   "cell_type": "code",
   "execution_count": 103,
   "id": "0a66b0b6-87cd-4a79-80d2-c38c92e9d276",
   "metadata": {},
   "outputs": [],
   "source": [
    "def mape(true, pred):\n",
    "    return 100.*np.mean(np.abs((pred - true)/true))"
   ]
  },
  {
   "cell_type": "code",
   "execution_count": 104,
   "id": "29e1ac48-835d-4e69-ac63-c98f766a10fe",
   "metadata": {},
   "outputs": [],
   "source": [
    "mape_scorer = make_scorer(mape)"
   ]
  },
  {
   "cell_type": "markdown",
   "id": "3dd36425-9bcf-4182-8fb1-acd7d4c08354",
   "metadata": {},
   "source": [
    "```\n",
    "pd.DataFrame(cross_validate(pipe_regression, X_train, y_train, return_train_score=True,\n",
    "    scoring = mape_scorer))\n",
    "```"
   ]
  },
  {
   "cell_type": "markdown",
   "id": "b8086aa6-ef68-4eae-9b8c-65793ba95443",
   "metadata": {},
   "source": [
    "```\n",
    "scoring={ \n",
    "    \"r2\":\"r2\",\n",
    "    \"mape_score\": mape_scorer,\n",
    "    \"neg_rmse\": \"neg_root_mean_squared_error\",\n",
    "    \"neg_mse\": \"neg_mean_squared_error\"\n",
    "}\n",
    "\n",
    "pd.DataFrame(cross_validate(pipe_regression, X_train, y_train, return_train_score=True, scoring=scoring))\n",
    "```\n",
    "        "
   ]
  },
  {
   "cell_type": "markdown",
   "id": "fe746906-3b8d-46b1-b3f9-d7b2f9b88453",
   "metadata": {},
   "source": [
    "**What about hyperparameter tuning?**\n",
    "\n",
    "```\n",
    "pipe_regression = make_pipeline(preprocessor, KNeighborsRegress())\n",
    "\n",
    "param_grid = {\"kneighborsregressor__n_neighbors\": [2,5,50,100]}\n",
    "\n",
    "grid_search = GridSearchCV(pipe_regression, param_grid, cv=5, return_train_score=True, \n",
    "                            n_jobs=-1, scoring = mape_scorer);\n",
    "                            \n",
    "grid_search.best_params_\n",
    "\n",
    "grid_search.best_score_\n",
    "```"
   ]
  },
  {
   "cell_type": "markdown",
   "id": "493acbae-e0e1-4f91-90a7-e637eccdd4f0",
   "metadata": {},
   "source": [
    "```\n",
    "neg_mape_scorer = make_scorer(mape, greater_is_better=False)\n",
    "\n",
    "param_grid = {\"kneighborsregressor__n_neighbors\": [2,5,50,100]}\n",
    "\n",
    "grid_search = GridSearchCV(pipe_regression, param_grid, cv=5, return_train_score=True, \n",
    "                            verbose=1, n_jobs=-1, scoring = mape_scorer);\n",
    "                            \n",
    "grid_search.fit(X_train, y_train);\n",
    "                            \n",
    "grid_search.best_params_\n",
    "\n",
    "grid_search.best_score_\n",
    "```"
   ]
  },
  {
   "cell_type": "markdown",
   "id": "77608d4b-bf8e-4256-867e-d5977fe946ef",
   "metadata": {},
   "source": [
    "**Classification**"
   ]
  },
  {
   "cell_type": "code",
   "execution_count": 105,
   "id": "f16a961e-f8ed-414d-9bf5-803ccd330264",
   "metadata": {},
   "outputs": [
    {
     "data": {
      "text/html": [
       "<div>\n",
       "<style scoped>\n",
       "    .dataframe tbody tr th:only-of-type {\n",
       "        vertical-align: middle;\n",
       "    }\n",
       "\n",
       "    .dataframe tbody tr th {\n",
       "        vertical-align: top;\n",
       "    }\n",
       "\n",
       "    .dataframe thead th {\n",
       "        text-align: right;\n",
       "    }\n",
       "</style>\n",
       "<table border=\"1\" class=\"dataframe\">\n",
       "  <thead>\n",
       "    <tr style=\"text-align: right;\">\n",
       "      <th></th>\n",
       "      <th>Time</th>\n",
       "      <th>V1</th>\n",
       "      <th>V2</th>\n",
       "      <th>V3</th>\n",
       "      <th>V4</th>\n",
       "      <th>V5</th>\n",
       "      <th>V6</th>\n",
       "      <th>V7</th>\n",
       "      <th>V8</th>\n",
       "      <th>V9</th>\n",
       "      <th>...</th>\n",
       "      <th>V21</th>\n",
       "      <th>V22</th>\n",
       "      <th>V23</th>\n",
       "      <th>V24</th>\n",
       "      <th>V25</th>\n",
       "      <th>V26</th>\n",
       "      <th>V27</th>\n",
       "      <th>V28</th>\n",
       "      <th>Amount</th>\n",
       "      <th>Class</th>\n",
       "    </tr>\n",
       "  </thead>\n",
       "  <tbody>\n",
       "    <tr>\n",
       "      <th>64454</th>\n",
       "      <td>51150.0</td>\n",
       "      <td>-3.538816</td>\n",
       "      <td>3.481893</td>\n",
       "      <td>-1.827130</td>\n",
       "      <td>-0.573050</td>\n",
       "      <td>2.644106</td>\n",
       "      <td>-0.340988</td>\n",
       "      <td>2.102135</td>\n",
       "      <td>-2.939006</td>\n",
       "      <td>2.578654</td>\n",
       "      <td>...</td>\n",
       "      <td>0.530978</td>\n",
       "      <td>-0.860677</td>\n",
       "      <td>-0.201810</td>\n",
       "      <td>-1.719747</td>\n",
       "      <td>0.729143</td>\n",
       "      <td>-0.547993</td>\n",
       "      <td>-0.023636</td>\n",
       "      <td>-0.454966</td>\n",
       "      <td>1.00</td>\n",
       "      <td>0</td>\n",
       "    </tr>\n",
       "    <tr>\n",
       "      <th>37906</th>\n",
       "      <td>39163.0</td>\n",
       "      <td>-0.363913</td>\n",
       "      <td>0.853399</td>\n",
       "      <td>1.648195</td>\n",
       "      <td>1.118934</td>\n",
       "      <td>0.100882</td>\n",
       "      <td>0.423852</td>\n",
       "      <td>0.472790</td>\n",
       "      <td>-0.972440</td>\n",
       "      <td>0.033833</td>\n",
       "      <td>...</td>\n",
       "      <td>0.687055</td>\n",
       "      <td>-0.094586</td>\n",
       "      <td>0.121531</td>\n",
       "      <td>0.146830</td>\n",
       "      <td>-0.944092</td>\n",
       "      <td>-0.558564</td>\n",
       "      <td>-0.186814</td>\n",
       "      <td>-0.257103</td>\n",
       "      <td>18.49</td>\n",
       "      <td>0</td>\n",
       "    </tr>\n",
       "    <tr>\n",
       "      <th>79378</th>\n",
       "      <td>57994.0</td>\n",
       "      <td>1.193021</td>\n",
       "      <td>-0.136714</td>\n",
       "      <td>0.622612</td>\n",
       "      <td>0.780864</td>\n",
       "      <td>-0.823511</td>\n",
       "      <td>-0.706444</td>\n",
       "      <td>-0.206073</td>\n",
       "      <td>-0.016918</td>\n",
       "      <td>0.781531</td>\n",
       "      <td>...</td>\n",
       "      <td>-0.310405</td>\n",
       "      <td>-0.842028</td>\n",
       "      <td>0.085477</td>\n",
       "      <td>0.366005</td>\n",
       "      <td>0.254443</td>\n",
       "      <td>0.290002</td>\n",
       "      <td>-0.036764</td>\n",
       "      <td>0.015039</td>\n",
       "      <td>23.74</td>\n",
       "      <td>0</td>\n",
       "    </tr>\n",
       "    <tr>\n",
       "      <th>245686</th>\n",
       "      <td>152859.0</td>\n",
       "      <td>1.604032</td>\n",
       "      <td>-0.808208</td>\n",
       "      <td>-1.594982</td>\n",
       "      <td>0.200475</td>\n",
       "      <td>0.502985</td>\n",
       "      <td>0.832370</td>\n",
       "      <td>-0.034071</td>\n",
       "      <td>0.234040</td>\n",
       "      <td>0.550616</td>\n",
       "      <td>...</td>\n",
       "      <td>0.519029</td>\n",
       "      <td>1.429217</td>\n",
       "      <td>-0.139322</td>\n",
       "      <td>-1.293663</td>\n",
       "      <td>0.037785</td>\n",
       "      <td>0.061206</td>\n",
       "      <td>0.005387</td>\n",
       "      <td>-0.057296</td>\n",
       "      <td>156.52</td>\n",
       "      <td>0</td>\n",
       "    </tr>\n",
       "    <tr>\n",
       "      <th>60943</th>\n",
       "      <td>49575.0</td>\n",
       "      <td>-2.669614</td>\n",
       "      <td>-2.734385</td>\n",
       "      <td>0.662450</td>\n",
       "      <td>-0.059077</td>\n",
       "      <td>3.346850</td>\n",
       "      <td>-2.549682</td>\n",
       "      <td>-1.430571</td>\n",
       "      <td>-0.118450</td>\n",
       "      <td>0.469383</td>\n",
       "      <td>...</td>\n",
       "      <td>-0.228329</td>\n",
       "      <td>-0.370643</td>\n",
       "      <td>-0.211544</td>\n",
       "      <td>-0.300837</td>\n",
       "      <td>-1.174590</td>\n",
       "      <td>0.573818</td>\n",
       "      <td>0.388023</td>\n",
       "      <td>0.161782</td>\n",
       "      <td>57.50</td>\n",
       "      <td>0</td>\n",
       "    </tr>\n",
       "  </tbody>\n",
       "</table>\n",
       "<p>5 rows × 31 columns</p>\n",
       "</div>"
      ],
      "text/plain": [
       "            Time        V1        V2        V3        V4        V5        V6  \\\n",
       "64454    51150.0 -3.538816  3.481893 -1.827130 -0.573050  2.644106 -0.340988   \n",
       "37906    39163.0 -0.363913  0.853399  1.648195  1.118934  0.100882  0.423852   \n",
       "79378    57994.0  1.193021 -0.136714  0.622612  0.780864 -0.823511 -0.706444   \n",
       "245686  152859.0  1.604032 -0.808208 -1.594982  0.200475  0.502985  0.832370   \n",
       "60943    49575.0 -2.669614 -2.734385  0.662450 -0.059077  3.346850 -2.549682   \n",
       "\n",
       "              V7        V8        V9  ...       V21       V22       V23  \\\n",
       "64454   2.102135 -2.939006  2.578654  ...  0.530978 -0.860677 -0.201810   \n",
       "37906   0.472790 -0.972440  0.033833  ...  0.687055 -0.094586  0.121531   \n",
       "79378  -0.206073 -0.016918  0.781531  ... -0.310405 -0.842028  0.085477   \n",
       "245686 -0.034071  0.234040  0.550616  ...  0.519029  1.429217 -0.139322   \n",
       "60943  -1.430571 -0.118450  0.469383  ... -0.228329 -0.370643 -0.211544   \n",
       "\n",
       "             V24       V25       V26       V27       V28  Amount  Class  \n",
       "64454  -1.719747  0.729143 -0.547993 -0.023636 -0.454966    1.00      0  \n",
       "37906   0.146830 -0.944092 -0.558564 -0.186814 -0.257103   18.49      0  \n",
       "79378   0.366005  0.254443  0.290002 -0.036764  0.015039   23.74      0  \n",
       "245686 -1.293663  0.037785  0.061206  0.005387 -0.057296  156.52      0  \n",
       "60943  -0.300837 -1.174590  0.573818  0.388023  0.161782   57.50      0  \n",
       "\n",
       "[5 rows x 31 columns]"
      ]
     },
     "execution_count": 105,
     "metadata": {},
     "output_type": "execute_result"
    }
   ],
   "source": [
    "train_df, test_df = train_test_split(cc_df, test_size=0.3, random_state=111)\n",
    "train_df.head()"
   ]
  },
  {
   "cell_type": "code",
   "execution_count": 106,
   "id": "c8d64630-eb43-432e-8436-74c3748c222d",
   "metadata": {},
   "outputs": [],
   "source": [
    "X_train, y_train = train_df.drop(columns=[\"Class\"]), train_df[\"Class\"]\n",
    "X_test, y_test = test_df.drop(columns=[\"Class\"]), train_df[\"Class\"]"
   ]
  },
  {
   "cell_type": "code",
   "execution_count": 107,
   "id": "38b040ac-53a5-4ad6-a3f6-23ddc5dbf342",
   "metadata": {},
   "outputs": [],
   "source": [
    "dt_model = DecisionTreeClassifier(random_state=123, class_weight='balanced')"
   ]
  },
  {
   "cell_type": "code",
   "execution_count": 111,
   "id": "064b491b-697f-4992-b7ea-5bb6da23f6f1",
   "metadata": {},
   "outputs": [],
   "source": [
    "import scipy\n",
    "from sklearn.model_selection import RandomizedSearchCV\n",
    "param_grid = {\"max_depth\":scipy.stats.randint(low=1,high=100)}"
   ]
  },
  {
   "cell_type": "markdown",
   "id": "ca8957b4-799f-4e25-8a8d-245d16bd859c",
   "metadata": {},
   "source": [
    "```\n",
    "grid_search = RandomizedSearchCV(dt_model, param_grid, cv=5, return_train_score=True,\n",
    "                                 verbose=1, n_jobs=-1, scoring='f1', n_iter=6)\n",
    "grid_search.fit(X_train, y_train);\n",
    "```"
   ]
  },
  {
   "cell_type": "markdown",
   "id": "18ea89ed-25cd-4014-b848-234dd8a32d00",
   "metadata": {},
   "source": [
    "```\n",
    "grid_search.best_params_\n",
    "grid_search.best_score_\n",
    "```"
   ]
  }
 ],
 "metadata": {
  "kernelspec": {
   "display_name": "Python 3 (ipykernel)",
   "language": "python",
   "name": "python3"
  },
  "language_info": {
   "codemirror_mode": {
    "name": "ipython",
    "version": 3
   },
   "file_extension": ".py",
   "mimetype": "text/x-python",
   "name": "python",
   "nbconvert_exporter": "python",
   "pygments_lexer": "ipython3",
   "version": "3.10.8"
  }
 },
 "nbformat": 4,
 "nbformat_minor": 5
}
